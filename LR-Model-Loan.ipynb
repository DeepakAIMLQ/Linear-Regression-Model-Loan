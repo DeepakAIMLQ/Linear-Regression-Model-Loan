{
 "cells": [
  {
   "cell_type": "code",
   "execution_count": 3,
   "id": "8b5855f8",
   "metadata": {},
   "outputs": [],
   "source": [
    "import warnings\n",
    "\n",
    "warnings.filterwarnings('ignore')\n",
    "\n",
    "import pandas as pd\n",
    "import numpy as np\n",
    "\n",
    "from sklearn.pipeline import Pipeline, FeatureUnion\n",
    "from sklearn.base import BaseEstimator, TransformerMixin\n",
    "\n",
    "from mypipes import *"
   ]
  },
  {
   "cell_type": "code",
   "execution_count": 4,
   "id": "5bd40ef9",
   "metadata": {},
   "outputs": [
    {
     "data": {
      "text/html": [
       "<div>\n",
       "<style scoped>\n",
       "    .dataframe tbody tr th:only-of-type {\n",
       "        vertical-align: middle;\n",
       "    }\n",
       "\n",
       "    .dataframe tbody tr th {\n",
       "        vertical-align: top;\n",
       "    }\n",
       "\n",
       "    .dataframe thead th {\n",
       "        text-align: right;\n",
       "    }\n",
       "</style>\n",
       "<table border=\"1\" class=\"dataframe\">\n",
       "  <thead>\n",
       "    <tr style=\"text-align: right;\">\n",
       "      <th></th>\n",
       "      <th>ID</th>\n",
       "      <th>Amount.Requested</th>\n",
       "      <th>Amount.Funded.By.Investors</th>\n",
       "      <th>Interest.Rate</th>\n",
       "      <th>Loan.Length</th>\n",
       "      <th>Loan.Purpose</th>\n",
       "      <th>Debt.To.Income.Ratio</th>\n",
       "      <th>State</th>\n",
       "      <th>Home.Ownership</th>\n",
       "      <th>Monthly.Income</th>\n",
       "      <th>FICO.Range</th>\n",
       "      <th>Open.CREDIT.Lines</th>\n",
       "      <th>Revolving.CREDIT.Balance</th>\n",
       "      <th>Inquiries.in.the.Last.6.Months</th>\n",
       "      <th>Employment.Length</th>\n",
       "    </tr>\n",
       "  </thead>\n",
       "  <tbody>\n",
       "    <tr>\n",
       "      <th>0</th>\n",
       "      <td>79542.0</td>\n",
       "      <td>25000</td>\n",
       "      <td>25000</td>\n",
       "      <td>18.49%</td>\n",
       "      <td>60 months</td>\n",
       "      <td>debt_consolidation</td>\n",
       "      <td>27.56%</td>\n",
       "      <td>VA</td>\n",
       "      <td>MORTGAGE</td>\n",
       "      <td>8606.56</td>\n",
       "      <td>720-724</td>\n",
       "      <td>11</td>\n",
       "      <td>15210</td>\n",
       "      <td>3.0</td>\n",
       "      <td>5 years</td>\n",
       "    </tr>\n",
       "    <tr>\n",
       "      <th>1</th>\n",
       "      <td>75473.0</td>\n",
       "      <td>19750</td>\n",
       "      <td>19750</td>\n",
       "      <td>17.27%</td>\n",
       "      <td>60 months</td>\n",
       "      <td>debt_consolidation</td>\n",
       "      <td>13.39%</td>\n",
       "      <td>NY</td>\n",
       "      <td>MORTGAGE</td>\n",
       "      <td>6737.50</td>\n",
       "      <td>710-714</td>\n",
       "      <td>14</td>\n",
       "      <td>19070</td>\n",
       "      <td>3.0</td>\n",
       "      <td>4 years</td>\n",
       "    </tr>\n",
       "    <tr>\n",
       "      <th>2</th>\n",
       "      <td>67265.0</td>\n",
       "      <td>2100</td>\n",
       "      <td>2100</td>\n",
       "      <td>14.33%</td>\n",
       "      <td>36 months</td>\n",
       "      <td>major_purchase</td>\n",
       "      <td>3.50%</td>\n",
       "      <td>LA</td>\n",
       "      <td>OWN</td>\n",
       "      <td>1000.00</td>\n",
       "      <td>690-694</td>\n",
       "      <td>13</td>\n",
       "      <td>893</td>\n",
       "      <td>1.0</td>\n",
       "      <td>&lt; 1 year</td>\n",
       "    </tr>\n",
       "    <tr>\n",
       "      <th>3</th>\n",
       "      <td>80167.0</td>\n",
       "      <td>28000</td>\n",
       "      <td>28000</td>\n",
       "      <td>16.29%</td>\n",
       "      <td>36 months</td>\n",
       "      <td>credit_card</td>\n",
       "      <td>19.62%</td>\n",
       "      <td>NV</td>\n",
       "      <td>MORTGAGE</td>\n",
       "      <td>7083.33</td>\n",
       "      <td>710-714</td>\n",
       "      <td>12</td>\n",
       "      <td>38194</td>\n",
       "      <td>1.0</td>\n",
       "      <td>10+ years</td>\n",
       "    </tr>\n",
       "    <tr>\n",
       "      <th>4</th>\n",
       "      <td>17240.0</td>\n",
       "      <td>24250</td>\n",
       "      <td>17431.82</td>\n",
       "      <td>12.23%</td>\n",
       "      <td>60 months</td>\n",
       "      <td>credit_card</td>\n",
       "      <td>23.79%</td>\n",
       "      <td>OH</td>\n",
       "      <td>MORTGAGE</td>\n",
       "      <td>5833.33</td>\n",
       "      <td>730-734</td>\n",
       "      <td>6</td>\n",
       "      <td>31061</td>\n",
       "      <td>2.0</td>\n",
       "      <td>10+ years</td>\n",
       "    </tr>\n",
       "  </tbody>\n",
       "</table>\n",
       "</div>"
      ],
      "text/plain": [
       "        ID Amount.Requested Amount.Funded.By.Investors Interest.Rate  \\\n",
       "0  79542.0            25000                      25000        18.49%   \n",
       "1  75473.0            19750                      19750        17.27%   \n",
       "2  67265.0             2100                       2100        14.33%   \n",
       "3  80167.0            28000                      28000        16.29%   \n",
       "4  17240.0            24250                   17431.82        12.23%   \n",
       "\n",
       "  Loan.Length        Loan.Purpose Debt.To.Income.Ratio State Home.Ownership  \\\n",
       "0   60 months  debt_consolidation               27.56%    VA       MORTGAGE   \n",
       "1   60 months  debt_consolidation               13.39%    NY       MORTGAGE   \n",
       "2   36 months      major_purchase                3.50%    LA            OWN   \n",
       "3   36 months         credit_card               19.62%    NV       MORTGAGE   \n",
       "4   60 months         credit_card               23.79%    OH       MORTGAGE   \n",
       "\n",
       "   Monthly.Income FICO.Range Open.CREDIT.Lines Revolving.CREDIT.Balance  \\\n",
       "0         8606.56    720-724                11                    15210   \n",
       "1         6737.50    710-714                14                    19070   \n",
       "2         1000.00    690-694                13                      893   \n",
       "3         7083.33    710-714                12                    38194   \n",
       "4         5833.33    730-734                 6                    31061   \n",
       "\n",
       "   Inquiries.in.the.Last.6.Months Employment.Length  \n",
       "0                             3.0           5 years  \n",
       "1                             3.0           4 years  \n",
       "2                             1.0          < 1 year  \n",
       "3                             1.0         10+ years  \n",
       "4                             2.0         10+ years  "
      ]
     },
     "execution_count": 4,
     "metadata": {},
     "output_type": "execute_result"
    }
   ],
   "source": [
    "train_file=r\"E:\\IIT-K\\data\\data\\loan_data_train.csv\"\n",
    "test_file=r\"E:\\IIT-K\\data\\data\\loan_data_test.csv\"\n",
    "\n",
    "#train_file=r\"D:\\IIT-K\\data\\data\\loan_data_train.csv\"\n",
    "#test_file=r\"D:\\IIT-K\\data\\data\\loan_data_test.csv\"\n",
    "\n",
    "ld_train=pd.read_csv(train_file)\n",
    "ld_test=pd.read_csv(test_file)\n",
    "\n",
    "ld_train.head()\n"
   ]
  },
  {
   "cell_type": "code",
   "execution_count": 5,
   "id": "7b7d14bd",
   "metadata": {},
   "outputs": [
    {
     "data": {
      "text/html": [
       "<div>\n",
       "<style scoped>\n",
       "    .dataframe tbody tr th:only-of-type {\n",
       "        vertical-align: middle;\n",
       "    }\n",
       "\n",
       "    .dataframe tbody tr th {\n",
       "        vertical-align: top;\n",
       "    }\n",
       "\n",
       "    .dataframe thead th {\n",
       "        text-align: right;\n",
       "    }\n",
       "</style>\n",
       "<table border=\"1\" class=\"dataframe\">\n",
       "  <thead>\n",
       "    <tr style=\"text-align: right;\">\n",
       "      <th></th>\n",
       "      <th>ID</th>\n",
       "      <th>Amount.Requested</th>\n",
       "      <th>Amount.Funded.By.Investors</th>\n",
       "      <th>Loan.Length</th>\n",
       "      <th>Loan.Purpose</th>\n",
       "      <th>Debt.To.Income.Ratio</th>\n",
       "      <th>State</th>\n",
       "      <th>Home.Ownership</th>\n",
       "      <th>Monthly.Income</th>\n",
       "      <th>FICO.Range</th>\n",
       "      <th>Open.CREDIT.Lines</th>\n",
       "      <th>Revolving.CREDIT.Balance</th>\n",
       "      <th>Inquiries.in.the.Last.6.Months</th>\n",
       "      <th>Employment.Length</th>\n",
       "    </tr>\n",
       "  </thead>\n",
       "  <tbody>\n",
       "    <tr>\n",
       "      <th>0</th>\n",
       "      <td>20093</td>\n",
       "      <td>5000</td>\n",
       "      <td>5000</td>\n",
       "      <td>60 months</td>\n",
       "      <td>moving</td>\n",
       "      <td>12.59%</td>\n",
       "      <td>NY</td>\n",
       "      <td>RENT</td>\n",
       "      <td>4416.67</td>\n",
       "      <td>690-694</td>\n",
       "      <td>13</td>\n",
       "      <td>7686</td>\n",
       "      <td>0</td>\n",
       "      <td>&lt; 1 year</td>\n",
       "    </tr>\n",
       "    <tr>\n",
       "      <th>1</th>\n",
       "      <td>62445</td>\n",
       "      <td>18000</td>\n",
       "      <td>18000</td>\n",
       "      <td>60 months</td>\n",
       "      <td>debt_consolidation</td>\n",
       "      <td>4.93%</td>\n",
       "      <td>CA</td>\n",
       "      <td>RENT</td>\n",
       "      <td>5258.50</td>\n",
       "      <td>710-714</td>\n",
       "      <td>6</td>\n",
       "      <td>11596</td>\n",
       "      <td>0</td>\n",
       "      <td>10+ years</td>\n",
       "    </tr>\n",
       "    <tr>\n",
       "      <th>2</th>\n",
       "      <td>65248</td>\n",
       "      <td>7200</td>\n",
       "      <td>7200</td>\n",
       "      <td>60 months</td>\n",
       "      <td>debt_consolidation</td>\n",
       "      <td>25.16%</td>\n",
       "      <td>LA</td>\n",
       "      <td>MORTGAGE</td>\n",
       "      <td>3750.00</td>\n",
       "      <td>750-754</td>\n",
       "      <td>13</td>\n",
       "      <td>7283</td>\n",
       "      <td>0</td>\n",
       "      <td>6 years</td>\n",
       "    </tr>\n",
       "    <tr>\n",
       "      <th>3</th>\n",
       "      <td>81822</td>\n",
       "      <td>7200</td>\n",
       "      <td>7200</td>\n",
       "      <td>36 months</td>\n",
       "      <td>debt_consolidation</td>\n",
       "      <td>17.27%</td>\n",
       "      <td>NY</td>\n",
       "      <td>MORTGAGE</td>\n",
       "      <td>3416.67</td>\n",
       "      <td>790-794</td>\n",
       "      <td>14</td>\n",
       "      <td>4838</td>\n",
       "      <td>0</td>\n",
       "      <td>10+ years</td>\n",
       "    </tr>\n",
       "    <tr>\n",
       "      <th>4</th>\n",
       "      <td>57923</td>\n",
       "      <td>22000</td>\n",
       "      <td>22000</td>\n",
       "      <td>60 months</td>\n",
       "      <td>debt_consolidation</td>\n",
       "      <td>18.28%</td>\n",
       "      <td>MI</td>\n",
       "      <td>MORTGAGE</td>\n",
       "      <td>6083.33</td>\n",
       "      <td>720-724</td>\n",
       "      <td>9</td>\n",
       "      <td>20181</td>\n",
       "      <td>0</td>\n",
       "      <td>8 years</td>\n",
       "    </tr>\n",
       "  </tbody>\n",
       "</table>\n",
       "</div>"
      ],
      "text/plain": [
       "      ID  Amount.Requested Amount.Funded.By.Investors Loan.Length  \\\n",
       "0  20093              5000                       5000   60 months   \n",
       "1  62445             18000                      18000   60 months   \n",
       "2  65248              7200                       7200   60 months   \n",
       "3  81822              7200                       7200   36 months   \n",
       "4  57923             22000                      22000   60 months   \n",
       "\n",
       "         Loan.Purpose Debt.To.Income.Ratio State Home.Ownership  \\\n",
       "0              moving               12.59%    NY           RENT   \n",
       "1  debt_consolidation                4.93%    CA           RENT   \n",
       "2  debt_consolidation               25.16%    LA       MORTGAGE   \n",
       "3  debt_consolidation               17.27%    NY       MORTGAGE   \n",
       "4  debt_consolidation               18.28%    MI       MORTGAGE   \n",
       "\n",
       "   Monthly.Income FICO.Range Open.CREDIT.Lines  Revolving.CREDIT.Balance  \\\n",
       "0         4416.67    690-694                13                      7686   \n",
       "1         5258.50    710-714                 6                     11596   \n",
       "2         3750.00    750-754                13                      7283   \n",
       "3         3416.67    790-794                14                      4838   \n",
       "4         6083.33    720-724                 9                     20181   \n",
       "\n",
       "   Inquiries.in.the.Last.6.Months Employment.Length  \n",
       "0                               0          < 1 year  \n",
       "1                               0         10+ years  \n",
       "2                               0           6 years  \n",
       "3                               0         10+ years  \n",
       "4                               0           8 years  "
      ]
     },
     "execution_count": 5,
     "metadata": {},
     "output_type": "execute_result"
    }
   ],
   "source": [
    "ld_test.head()"
   ]
  },
  {
   "cell_type": "code",
   "execution_count": 6,
   "id": "0db82ef7",
   "metadata": {},
   "outputs": [
    {
     "data": {
      "text/html": [
       "<div>\n",
       "<style scoped>\n",
       "    .dataframe tbody tr th:only-of-type {\n",
       "        vertical-align: middle;\n",
       "    }\n",
       "\n",
       "    .dataframe tbody tr th {\n",
       "        vertical-align: top;\n",
       "    }\n",
       "\n",
       "    .dataframe thead th {\n",
       "        text-align: right;\n",
       "    }\n",
       "</style>\n",
       "<table border=\"1\" class=\"dataframe\">\n",
       "  <thead>\n",
       "    <tr style=\"text-align: right;\">\n",
       "      <th></th>\n",
       "      <th>ID</th>\n",
       "      <th>Amount.Requested</th>\n",
       "      <th>Amount.Funded.By.Investors</th>\n",
       "      <th>Interest.Rate</th>\n",
       "      <th>Loan.Length</th>\n",
       "      <th>Loan.Purpose</th>\n",
       "      <th>Debt.To.Income.Ratio</th>\n",
       "      <th>State</th>\n",
       "      <th>Home.Ownership</th>\n",
       "      <th>Monthly.Income</th>\n",
       "      <th>FICO.Range</th>\n",
       "      <th>Open.CREDIT.Lines</th>\n",
       "      <th>Revolving.CREDIT.Balance</th>\n",
       "      <th>Inquiries.in.the.Last.6.Months</th>\n",
       "      <th>Employment.Length</th>\n",
       "    </tr>\n",
       "  </thead>\n",
       "  <tbody>\n",
       "    <tr>\n",
       "      <th>369</th>\n",
       "      <td>52129.0</td>\n",
       "      <td>23000</td>\n",
       "      <td>23000</td>\n",
       "      <td>7.62%</td>\n",
       "      <td>36 months</td>\n",
       "      <td>car</td>\n",
       "      <td>6.51%</td>\n",
       "      <td>CA</td>\n",
       "      <td>MORTGAGE</td>\n",
       "      <td>25000.00</td>\n",
       "      <td>810-814</td>\n",
       "      <td>10</td>\n",
       "      <td>227</td>\n",
       "      <td>0.0</td>\n",
       "      <td>10+ years</td>\n",
       "    </tr>\n",
       "    <tr>\n",
       "      <th>551</th>\n",
       "      <td>68406.0</td>\n",
       "      <td>20000</td>\n",
       "      <td>20000</td>\n",
       "      <td>14.09%</td>\n",
       "      <td>36 months</td>\n",
       "      <td>credit_card</td>\n",
       "      <td>9.16%</td>\n",
       "      <td>NJ</td>\n",
       "      <td>MORTGAGE</td>\n",
       "      <td>19583.33</td>\n",
       "      <td>710-714</td>\n",
       "      <td>12</td>\n",
       "      <td>31277</td>\n",
       "      <td>1.0</td>\n",
       "      <td>7 years</td>\n",
       "    </tr>\n",
       "    <tr>\n",
       "      <th>1211</th>\n",
       "      <td>22858.0</td>\n",
       "      <td>8400</td>\n",
       "      <td>8400</td>\n",
       "      <td>6.92%</td>\n",
       "      <td>36 months</td>\n",
       "      <td>renewable_energy</td>\n",
       "      <td>13.30%</td>\n",
       "      <td>MD</td>\n",
       "      <td>RENT</td>\n",
       "      <td>3000.00</td>\n",
       "      <td>745-749</td>\n",
       "      <td>9</td>\n",
       "      <td>6998</td>\n",
       "      <td>1.0</td>\n",
       "      <td>1 year</td>\n",
       "    </tr>\n",
       "    <tr>\n",
       "      <th>2023</th>\n",
       "      <td>73473.0</td>\n",
       "      <td>6000</td>\n",
       "      <td>6000</td>\n",
       "      <td>7.90%</td>\n",
       "      <td>36 months</td>\n",
       "      <td>wedding</td>\n",
       "      <td>20.75%</td>\n",
       "      <td>IL</td>\n",
       "      <td>RENT</td>\n",
       "      <td>3750.00</td>\n",
       "      <td>715-719</td>\n",
       "      <td>12</td>\n",
       "      <td>4318</td>\n",
       "      <td>0.0</td>\n",
       "      <td>10+ years</td>\n",
       "    </tr>\n",
       "    <tr>\n",
       "      <th>113</th>\n",
       "      <td>75168.0</td>\n",
       "      <td>14675</td>\n",
       "      <td>14675</td>\n",
       "      <td>7.90%</td>\n",
       "      <td>36 months</td>\n",
       "      <td>debt_consolidation</td>\n",
       "      <td>17.40%</td>\n",
       "      <td>NY</td>\n",
       "      <td>MORTGAGE</td>\n",
       "      <td>3166.67</td>\n",
       "      <td>720-724</td>\n",
       "      <td>7</td>\n",
       "      <td>22549</td>\n",
       "      <td>0.0</td>\n",
       "      <td>10+ years</td>\n",
       "    </tr>\n",
       "    <tr>\n",
       "      <th>1365</th>\n",
       "      <td>49782.0</td>\n",
       "      <td>15000</td>\n",
       "      <td>15000</td>\n",
       "      <td>13.99%</td>\n",
       "      <td>36 months</td>\n",
       "      <td>debt_consolidation</td>\n",
       "      <td>12.60%</td>\n",
       "      <td>MI</td>\n",
       "      <td>MORTGAGE</td>\n",
       "      <td>3500.00</td>\n",
       "      <td>705-709</td>\n",
       "      <td>7</td>\n",
       "      <td>13036</td>\n",
       "      <td>1.0</td>\n",
       "      <td>10+ years</td>\n",
       "    </tr>\n",
       "    <tr>\n",
       "      <th>783</th>\n",
       "      <td>5733.0</td>\n",
       "      <td>5000</td>\n",
       "      <td>4900</td>\n",
       "      <td>11.14%</td>\n",
       "      <td>36 months</td>\n",
       "      <td>major_purchase</td>\n",
       "      <td>2.84%</td>\n",
       "      <td>FL</td>\n",
       "      <td>RENT</td>\n",
       "      <td>3200.00</td>\n",
       "      <td>710-714</td>\n",
       "      <td>6</td>\n",
       "      <td>2650</td>\n",
       "      <td>2.0</td>\n",
       "      <td>3 years</td>\n",
       "    </tr>\n",
       "    <tr>\n",
       "      <th>1648</th>\n",
       "      <td>78862.0</td>\n",
       "      <td>20125</td>\n",
       "      <td>20125</td>\n",
       "      <td>7.62%</td>\n",
       "      <td>36 months</td>\n",
       "      <td>home_improvement</td>\n",
       "      <td>4.29%</td>\n",
       "      <td>VA</td>\n",
       "      <td>MORTGAGE</td>\n",
       "      <td>3750.00</td>\n",
       "      <td>830-834</td>\n",
       "      <td>13</td>\n",
       "      <td>73952</td>\n",
       "      <td>0.0</td>\n",
       "      <td>1 year</td>\n",
       "    </tr>\n",
       "    <tr>\n",
       "      <th>1610</th>\n",
       "      <td>77043.0</td>\n",
       "      <td>13000</td>\n",
       "      <td>13000</td>\n",
       "      <td>14.33%</td>\n",
       "      <td>36 months</td>\n",
       "      <td>debt_consolidation</td>\n",
       "      <td>11.08%</td>\n",
       "      <td>MN</td>\n",
       "      <td>MORTGAGE</td>\n",
       "      <td>3358.33</td>\n",
       "      <td>690-694</td>\n",
       "      <td>7</td>\n",
       "      <td>6327</td>\n",
       "      <td>1.0</td>\n",
       "      <td>10+ years</td>\n",
       "    </tr>\n",
       "    <tr>\n",
       "      <th>1587</th>\n",
       "      <td>50389.0</td>\n",
       "      <td>35000</td>\n",
       "      <td>35000</td>\n",
       "      <td>21.97%</td>\n",
       "      <td>60 months</td>\n",
       "      <td>debt_consolidation</td>\n",
       "      <td>21.31%</td>\n",
       "      <td>MO</td>\n",
       "      <td>MORTGAGE</td>\n",
       "      <td>7833.33</td>\n",
       "      <td>685-689</td>\n",
       "      <td>14</td>\n",
       "      <td>27610</td>\n",
       "      <td>1.0</td>\n",
       "      <td>5 years</td>\n",
       "    </tr>\n",
       "  </tbody>\n",
       "</table>\n",
       "</div>"
      ],
      "text/plain": [
       "           ID Amount.Requested Amount.Funded.By.Investors Interest.Rate  \\\n",
       "369   52129.0            23000                      23000         7.62%   \n",
       "551   68406.0            20000                      20000        14.09%   \n",
       "1211  22858.0             8400                       8400         6.92%   \n",
       "2023  73473.0             6000                       6000         7.90%   \n",
       "113   75168.0            14675                      14675         7.90%   \n",
       "1365  49782.0            15000                      15000        13.99%   \n",
       "783    5733.0             5000                       4900        11.14%   \n",
       "1648  78862.0            20125                      20125         7.62%   \n",
       "1610  77043.0            13000                      13000        14.33%   \n",
       "1587  50389.0            35000                      35000        21.97%   \n",
       "\n",
       "     Loan.Length        Loan.Purpose Debt.To.Income.Ratio State  \\\n",
       "369    36 months                 car                6.51%    CA   \n",
       "551    36 months         credit_card                9.16%    NJ   \n",
       "1211   36 months    renewable_energy               13.30%    MD   \n",
       "2023   36 months             wedding               20.75%    IL   \n",
       "113    36 months  debt_consolidation               17.40%    NY   \n",
       "1365   36 months  debt_consolidation               12.60%    MI   \n",
       "783    36 months      major_purchase                2.84%    FL   \n",
       "1648   36 months    home_improvement                4.29%    VA   \n",
       "1610   36 months  debt_consolidation               11.08%    MN   \n",
       "1587   60 months  debt_consolidation               21.31%    MO   \n",
       "\n",
       "     Home.Ownership  Monthly.Income FICO.Range Open.CREDIT.Lines  \\\n",
       "369        MORTGAGE        25000.00    810-814                10   \n",
       "551        MORTGAGE        19583.33    710-714                12   \n",
       "1211           RENT         3000.00    745-749                 9   \n",
       "2023           RENT         3750.00    715-719                12   \n",
       "113        MORTGAGE         3166.67    720-724                 7   \n",
       "1365       MORTGAGE         3500.00    705-709                 7   \n",
       "783            RENT         3200.00    710-714                 6   \n",
       "1648       MORTGAGE         3750.00    830-834                13   \n",
       "1610       MORTGAGE         3358.33    690-694                 7   \n",
       "1587       MORTGAGE         7833.33    685-689                14   \n",
       "\n",
       "     Revolving.CREDIT.Balance  Inquiries.in.the.Last.6.Months  \\\n",
       "369                       227                             0.0   \n",
       "551                     31277                             1.0   \n",
       "1211                     6998                             1.0   \n",
       "2023                     4318                             0.0   \n",
       "113                     22549                             0.0   \n",
       "1365                    13036                             1.0   \n",
       "783                      2650                             2.0   \n",
       "1648                    73952                             0.0   \n",
       "1610                     6327                             1.0   \n",
       "1587                    27610                             1.0   \n",
       "\n",
       "     Employment.Length  \n",
       "369          10+ years  \n",
       "551            7 years  \n",
       "1211            1 year  \n",
       "2023         10+ years  \n",
       "113          10+ years  \n",
       "1365         10+ years  \n",
       "783            3 years  \n",
       "1648            1 year  \n",
       "1610         10+ years  \n",
       "1587           5 years  "
      ]
     },
     "execution_count": 6,
     "metadata": {},
     "output_type": "execute_result"
    }
   ],
   "source": [
    "ld_train.sample(10)"
   ]
  },
  {
   "cell_type": "code",
   "execution_count": 7,
   "id": "109b329d",
   "metadata": {},
   "outputs": [
    {
     "name": "stdout",
     "output_type": "stream",
     "text": [
      "<class 'pandas.core.frame.DataFrame'>\n",
      "RangeIndex: 2200 entries, 0 to 2199\n",
      "Data columns (total 15 columns):\n",
      " #   Column                          Non-Null Count  Dtype  \n",
      "---  ------                          --------------  -----  \n",
      " 0   ID                              2199 non-null   float64\n",
      " 1   Amount.Requested                2199 non-null   object \n",
      " 2   Amount.Funded.By.Investors      2199 non-null   object \n",
      " 3   Interest.Rate                   2200 non-null   object \n",
      " 4   Loan.Length                     2199 non-null   object \n",
      " 5   Loan.Purpose                    2199 non-null   object \n",
      " 6   Debt.To.Income.Ratio            2199 non-null   object \n",
      " 7   State                           2199 non-null   object \n",
      " 8   Home.Ownership                  2199 non-null   object \n",
      " 9   Monthly.Income                  2197 non-null   float64\n",
      " 10  FICO.Range                      2200 non-null   object \n",
      " 11  Open.CREDIT.Lines               2196 non-null   object \n",
      " 12  Revolving.CREDIT.Balance        2197 non-null   object \n",
      " 13  Inquiries.in.the.Last.6.Months  2197 non-null   float64\n",
      " 14  Employment.Length               2131 non-null   object \n",
      "dtypes: float64(3), object(12)\n",
      "memory usage: 257.9+ KB\n"
     ]
    }
   ],
   "source": [
    "ld_train.info()"
   ]
  },
  {
   "cell_type": "code",
   "execution_count": 8,
   "id": "9d50043f",
   "metadata": {},
   "outputs": [
    {
     "data": {
      "text/plain": [
       "36 months    1722\n",
       "60 months     476\n",
       "NaN             1\n",
       ".               1\n",
       "Name: Loan.Length, dtype: int64"
      ]
     },
     "execution_count": 8,
     "metadata": {},
     "output_type": "execute_result"
    }
   ],
   "source": [
    "ld_train[\"Loan.Length\"].value_counts(dropna=False)"
   ]
  },
  {
   "cell_type": "code",
   "execution_count": 9,
   "id": "59de78d1",
   "metadata": {},
   "outputs": [],
   "source": [
    "#PYTHON PIPELINE\n",
    "# dont need : ID , Intereste.Rate\n",
    "\n",
    "# Amount requested : V1\n",
    "# Amount.Funded.By.Investors : V2 \n",
    "# Open.CREDIT.Lines : V3\n",
    "# Revolving.CREDIT.Balance : V4\n",
    "\n",
    "# convert it to numeric , and then impute missing values with median\n",
    "\n",
    "# Debt.To.Income.Ratio : V5\n",
    "\n",
    "# remove percentage sign , covert to numeric and then impute with median\n",
    "\n",
    "# Loan.Length ,Loan.Purpose,State,Home.Ownership,Employment.Length\n",
    "# V6-V10\n",
    "# create dummies for these, considering frequency cutoff as 20\n",
    "\n",
    "# Monthly.Income : V11,\n",
    "# Inquiries.in.the.Last.6.Months :V12\n",
    "\n",
    "# impute missing values with median\n",
    "\n",
    "# FICO.Range : V13\n",
    "\n",
    "# split the column at '-', convert the resulting columns to numeric(say a ,b) , \n",
    "# then create new column = (a+b)/2 \n"
   ]
  },
  {
   "cell_type": "code",
   "execution_count": 10,
   "id": "c9179796",
   "metadata": {},
   "outputs": [],
   "source": [
    "# pipe_name=pdPipeline([\n",
    "#     ('name of the process',call to process),\n",
    "#     ('name of the process', call to process),\n",
    "#     .....\n",
    "# ])"
   ]
  },
  {
   "cell_type": "code",
   "execution_count": 11,
   "id": "467c908d",
   "metadata": {},
   "outputs": [],
   "source": [
    "p1=pdPipeline([\n",
    "    ('var_select',VarSelector(['Amount.Requested','Amount.Funded.By.Investors',\n",
    "                               'Open.CREDIT.Lines','Revolving.CREDIT.Balance'])),\n",
    "    ('convert_to_numeric',convert_to_numeric()),\n",
    "    ('missing_trt',DataFrameImputer())\n",
    "])"
   ]
  },
  {
   "cell_type": "code",
   "execution_count": 12,
   "id": "ab53a6a2",
   "metadata": {},
   "outputs": [],
   "source": [
    "p2=pdPipeline([\n",
    "    ('var_select',VarSelector(['Debt.To.Income.Ratio'])),\n",
    "    ('string_clean',string_clean(replace_it='%',replace_with='')),\n",
    "    ('convert_to_numeric',convert_to_numeric()),\n",
    "    ('missing_trt',DataFrameImputer())\n",
    "])"
   ]
  },
  {
   "cell_type": "code",
   "execution_count": 13,
   "id": "147371f6",
   "metadata": {},
   "outputs": [],
   "source": [
    "p3=pdPipeline([\n",
    "    ('var_select',VarSelector(['Loan.Length', 'Loan.Purpose','State','Home.Ownership',\n",
    "                               'Employment.Length'])),\n",
    "    ('missing_trt',DataFrameImputer()),\n",
    "    ('create_dummies',get_dummies_Pipe(20))\n",
    "])"
   ]
  },
  {
   "cell_type": "code",
   "execution_count": 14,
   "id": "e78ad518",
   "metadata": {},
   "outputs": [],
   "source": [
    "p4=pdPipeline([\n",
    "    ('var_select',VarSelector(['Monthly.Income','Inquiries.in.the.Last.6.Months'])),\n",
    "    ('missing_trt',DataFrameImputer())\n",
    "])"
   ]
  },
  {
   "cell_type": "code",
   "execution_count": 15,
   "id": "647e92c4",
   "metadata": {},
   "outputs": [],
   "source": [
    "p5=pdPipeline([\n",
    "    ('var_select',VarSelector(['FICO.Range'])),\n",
    "    ('custom_fico',custom_fico()),\n",
    "    ('missing_trt',DataFrameImputer())\n",
    "])\n"
   ]
  },
  {
   "cell_type": "code",
   "execution_count": 16,
   "id": "5972e857",
   "metadata": {},
   "outputs": [],
   "source": [
    "data_pipe=FeatureUnion([\n",
    "    ('obj_to_num',p1),\n",
    "    ('dtir',p2),\n",
    "    ('obj_to_dum',p3),\n",
    "    ('num',p4),\n",
    "    ('fico',p5)\n",
    "])"
   ]
  },
  {
   "cell_type": "code",
   "execution_count": 17,
   "id": "7e20f9d9",
   "metadata": {},
   "outputs": [
    {
     "data": {
      "text/plain": [
       "FeatureUnion(transformer_list=[('obj_to_num',\n",
       "                                pdPipeline(steps=[('var_select',\n",
       "                                                   VarSelector(feature_names=['Amount.Requested',\n",
       "                                                                              'Amount.Funded.By.Investors',\n",
       "                                                                              'Open.CREDIT.Lines',\n",
       "                                                                              'Revolving.CREDIT.Balance'])),\n",
       "                                                  ('convert_to_numeric',\n",
       "                                                   convert_to_numeric()),\n",
       "                                                  ('missing_trt',\n",
       "                                                   DataFrameImputer())])),\n",
       "                               ('dtir',\n",
       "                                pdPipeline(steps=[('var_select',\n",
       "                                                   VarSelector(feature_names=...\n",
       "                                                  ('create_dummies',\n",
       "                                                   get_dummies_Pipe(freq_cutoff=20))])),\n",
       "                               ('num',\n",
       "                                pdPipeline(steps=[('var_select',\n",
       "                                                   VarSelector(feature_names=['Monthly.Income',\n",
       "                                                                              'Inquiries.in.the.Last.6.Months'])),\n",
       "                                                  ('missing_trt',\n",
       "                                                   DataFrameImputer())])),\n",
       "                               ('fico',\n",
       "                                pdPipeline(steps=[('var_select',\n",
       "                                                   VarSelector(feature_names=['FICO.Range'])),\n",
       "                                                  ('custom_fico',\n",
       "                                                   custom_fico()),\n",
       "                                                  ('missing_trt',\n",
       "                                                   DataFrameImputer())]))])"
      ]
     },
     "execution_count": 17,
     "metadata": {},
     "output_type": "execute_result"
    }
   ],
   "source": [
    "data_pipe.fit(ld_train)"
   ]
  },
  {
   "cell_type": "code",
   "execution_count": 18,
   "id": "15107447",
   "metadata": {},
   "outputs": [
    {
     "data": {
      "text/plain": [
       "61"
      ]
     },
     "execution_count": 18,
     "metadata": {},
     "output_type": "execute_result"
    }
   ],
   "source": [
    "len(data_pipe.get_feature_names())"
   ]
  },
  {
   "cell_type": "code",
   "execution_count": 19,
   "id": "ced2526d",
   "metadata": {},
   "outputs": [
    {
     "data": {
      "text/plain": [
       "(2200, 61)"
      ]
     },
     "execution_count": 19,
     "metadata": {},
     "output_type": "execute_result"
    }
   ],
   "source": [
    "data_pipe.transform(ld_train).shape"
   ]
  },
  {
   "cell_type": "code",
   "execution_count": 20,
   "id": "9a06a659",
   "metadata": {},
   "outputs": [],
   "source": [
    "x_train=pd.DataFrame(data=data_pipe.transform(ld_train),\n",
    "                    columns=data_pipe.get_feature_names())"
   ]
  },
  {
   "cell_type": "code",
   "execution_count": 21,
   "id": "6988ca49",
   "metadata": {},
   "outputs": [],
   "source": [
    "x_test=pd.DataFrame(data=data_pipe.transform(ld_test),\n",
    "                    columns=data_pipe.get_feature_names())"
   ]
  },
  {
   "cell_type": "code",
   "execution_count": 22,
   "id": "3ecdfcaf",
   "metadata": {},
   "outputs": [
    {
     "data": {
      "text/plain": [
       "(2200, 61)"
      ]
     },
     "execution_count": 22,
     "metadata": {},
     "output_type": "execute_result"
    }
   ],
   "source": [
    "x_train.shape"
   ]
  },
  {
   "cell_type": "code",
   "execution_count": 23,
   "id": "017bdc26",
   "metadata": {},
   "outputs": [
    {
     "data": {
      "text/plain": [
       "(300, 61)"
      ]
     },
     "execution_count": 23,
     "metadata": {},
     "output_type": "execute_result"
    }
   ],
   "source": [
    "x_test.shape"
   ]
  },
  {
   "cell_type": "code",
   "execution_count": 24,
   "id": "0fa09f32",
   "metadata": {},
   "outputs": [
    {
     "data": {
      "text/plain": [
       "Index(['obj_to_num__Amount.Requested',\n",
       "       'obj_to_num__Amount.Funded.By.Investors',\n",
       "       'obj_to_num__Open.CREDIT.Lines', 'obj_to_num__Revolving.CREDIT.Balance',\n",
       "       'dtir__Debt.To.Income.Ratio', 'obj_to_dum__Loan.Length_36 months',\n",
       "       'obj_to_dum__Loan.Length_60 months',\n",
       "       'obj_to_dum__Loan.Purpose_debt_consolidation',\n",
       "       'obj_to_dum__Loan.Purpose_credit_card',\n",
       "       'obj_to_dum__Loan.Purpose_other',\n",
       "       'obj_to_dum__Loan.Purpose_home_improvement',\n",
       "       'obj_to_dum__Loan.Purpose_major_purchase',\n",
       "       'obj_to_dum__Loan.Purpose_small_business',\n",
       "       'obj_to_dum__Loan.Purpose_car', 'obj_to_dum__Loan.Purpose_wedding',\n",
       "       'obj_to_dum__Loan.Purpose_medical', 'obj_to_dum__Loan.Purpose_moving',\n",
       "       'obj_to_dum__State_CA', 'obj_to_dum__State_NY', 'obj_to_dum__State_FL',\n",
       "       'obj_to_dum__State_TX', 'obj_to_dum__State_PA', 'obj_to_dum__State_IL',\n",
       "       'obj_to_dum__State_GA', 'obj_to_dum__State_NJ', 'obj_to_dum__State_VA',\n",
       "       'obj_to_dum__State_MA', 'obj_to_dum__State_NC', 'obj_to_dum__State_OH',\n",
       "       'obj_to_dum__State_MD', 'obj_to_dum__State_CO', 'obj_to_dum__State_WA',\n",
       "       'obj_to_dum__State_CT', 'obj_to_dum__State_AZ', 'obj_to_dum__State_MI',\n",
       "       'obj_to_dum__State_AL', 'obj_to_dum__State_MN', 'obj_to_dum__State_MO',\n",
       "       'obj_to_dum__State_NV', 'obj_to_dum__State_SC', 'obj_to_dum__State_WI',\n",
       "       'obj_to_dum__State_OR', 'obj_to_dum__State_KS',\n",
       "       'obj_to_dum__Home.Ownership_MORTGAGE',\n",
       "       'obj_to_dum__Home.Ownership_RENT', 'obj_to_dum__Home.Ownership_OWN',\n",
       "       'obj_to_dum__Employment.Length_10+ years',\n",
       "       'obj_to_dum__Employment.Length_< 1 year',\n",
       "       'obj_to_dum__Employment.Length_2 years',\n",
       "       'obj_to_dum__Employment.Length_3 years',\n",
       "       'obj_to_dum__Employment.Length_5 years',\n",
       "       'obj_to_dum__Employment.Length_4 years',\n",
       "       'obj_to_dum__Employment.Length_1 year',\n",
       "       'obj_to_dum__Employment.Length_6 years',\n",
       "       'obj_to_dum__Employment.Length_7 years',\n",
       "       'obj_to_dum__Employment.Length_8 years',\n",
       "       'obj_to_dum__Employment.Length_missing',\n",
       "       'obj_to_dum__Employment.Length_9 years', 'num__Monthly.Income',\n",
       "       'num__Inquiries.in.the.Last.6.Months', 'fico__fico'],\n",
       "      dtype='object')"
      ]
     },
     "execution_count": 24,
     "metadata": {},
     "output_type": "execute_result"
    }
   ],
   "source": [
    "x_train.columns"
   ]
  },
  {
   "cell_type": "code",
   "execution_count": 25,
   "id": "1a437963",
   "metadata": {},
   "outputs": [
    {
     "data": {
      "text/plain": [
       "Index(['obj_to_num__Amount.Requested',\n",
       "       'obj_to_num__Amount.Funded.By.Investors',\n",
       "       'obj_to_num__Open.CREDIT.Lines', 'obj_to_num__Revolving.CREDIT.Balance',\n",
       "       'dtir__Debt.To.Income.Ratio', 'obj_to_dum__Loan.Length_36 months',\n",
       "       'obj_to_dum__Loan.Length_60 months',\n",
       "       'obj_to_dum__Loan.Purpose_debt_consolidation',\n",
       "       'obj_to_dum__Loan.Purpose_credit_card',\n",
       "       'obj_to_dum__Loan.Purpose_other',\n",
       "       'obj_to_dum__Loan.Purpose_home_improvement',\n",
       "       'obj_to_dum__Loan.Purpose_major_purchase',\n",
       "       'obj_to_dum__Loan.Purpose_small_business',\n",
       "       'obj_to_dum__Loan.Purpose_car', 'obj_to_dum__Loan.Purpose_wedding',\n",
       "       'obj_to_dum__Loan.Purpose_medical', 'obj_to_dum__Loan.Purpose_moving',\n",
       "       'obj_to_dum__State_CA', 'obj_to_dum__State_NY', 'obj_to_dum__State_FL',\n",
       "       'obj_to_dum__State_TX', 'obj_to_dum__State_PA', 'obj_to_dum__State_IL',\n",
       "       'obj_to_dum__State_GA', 'obj_to_dum__State_NJ', 'obj_to_dum__State_VA',\n",
       "       'obj_to_dum__State_MA', 'obj_to_dum__State_NC', 'obj_to_dum__State_OH',\n",
       "       'obj_to_dum__State_MD', 'obj_to_dum__State_CO', 'obj_to_dum__State_WA',\n",
       "       'obj_to_dum__State_CT', 'obj_to_dum__State_AZ', 'obj_to_dum__State_MI',\n",
       "       'obj_to_dum__State_AL', 'obj_to_dum__State_MN', 'obj_to_dum__State_MO',\n",
       "       'obj_to_dum__State_NV', 'obj_to_dum__State_SC', 'obj_to_dum__State_WI',\n",
       "       'obj_to_dum__State_OR', 'obj_to_dum__State_KS',\n",
       "       'obj_to_dum__Home.Ownership_MORTGAGE',\n",
       "       'obj_to_dum__Home.Ownership_RENT', 'obj_to_dum__Home.Ownership_OWN',\n",
       "       'obj_to_dum__Employment.Length_10+ years',\n",
       "       'obj_to_dum__Employment.Length_< 1 year',\n",
       "       'obj_to_dum__Employment.Length_2 years',\n",
       "       'obj_to_dum__Employment.Length_3 years',\n",
       "       'obj_to_dum__Employment.Length_5 years',\n",
       "       'obj_to_dum__Employment.Length_4 years',\n",
       "       'obj_to_dum__Employment.Length_1 year',\n",
       "       'obj_to_dum__Employment.Length_6 years',\n",
       "       'obj_to_dum__Employment.Length_7 years',\n",
       "       'obj_to_dum__Employment.Length_8 years',\n",
       "       'obj_to_dum__Employment.Length_missing',\n",
       "       'obj_to_dum__Employment.Length_9 years', 'num__Monthly.Income',\n",
       "       'num__Inquiries.in.the.Last.6.Months', 'fico__fico'],\n",
       "      dtype='object')"
      ]
     },
     "execution_count": 25,
     "metadata": {},
     "output_type": "execute_result"
    }
   ],
   "source": [
    "x_test.columns"
   ]
  },
  {
   "cell_type": "code",
   "execution_count": 26,
   "id": "66cd2c29",
   "metadata": {},
   "outputs": [
    {
     "data": {
      "text/plain": [
       "0       18.49\n",
       "1       17.27\n",
       "2       14.33\n",
       "3       16.29\n",
       "4       12.23\n",
       "        ...  \n",
       "2195    23.28\n",
       "2196    14.33\n",
       "2197    15.31\n",
       "2198    20.99\n",
       "2199    10.16\n",
       "Name: Interest.Rate, Length: 2200, dtype: float64"
      ]
     },
     "execution_count": 26,
     "metadata": {},
     "output_type": "execute_result"
    }
   ],
   "source": [
    "y_train=ld_train[\"Interest.Rate\"].str.replace('%','').astype(float)\n",
    "y_train\n"
   ]
  },
  {
   "cell_type": "code",
   "execution_count": 27,
   "id": "772b83e0",
   "metadata": {},
   "outputs": [],
   "source": [
    "#lINEAR REGRESSION"
   ]
  },
  {
   "cell_type": "code",
   "execution_count": 28,
   "id": "6ca8cdd7",
   "metadata": {},
   "outputs": [],
   "source": [
    "from sklearn.linear_model import LinearRegression\n",
    "from sklearn.model_selection import cross_val_score"
   ]
  },
  {
   "cell_type": "code",
   "execution_count": 29,
   "id": "4d2a2bc5",
   "metadata": {},
   "outputs": [],
   "source": [
    "lm=LinearRegression()"
   ]
  },
  {
   "cell_type": "code",
   "execution_count": 30,
   "id": "da033a3b",
   "metadata": {},
   "outputs": [],
   "source": [
    "cv_mae=cross_val_score(lm,\n",
    "                       x_train,y_train,\n",
    "                      cv=10,\n",
    "                      scoring='neg_mean_absolute_error')"
   ]
  },
  {
   "cell_type": "code",
   "execution_count": 31,
   "id": "4add7001",
   "metadata": {},
   "outputs": [
    {
     "data": {
      "text/plain": [
       "-1.6090335977701393"
      ]
     },
     "execution_count": 31,
     "metadata": {},
     "output_type": "execute_result"
    }
   ],
   "source": [
    "cv_mae.mean()"
   ]
  },
  {
   "cell_type": "code",
   "execution_count": 32,
   "id": "9f3e49b2",
   "metadata": {},
   "outputs": [
    {
     "data": {
      "text/plain": [
       "0.10727891352839572"
      ]
     },
     "execution_count": 32,
     "metadata": {},
     "output_type": "execute_result"
    }
   ],
   "source": [
    "cv_mae.std()"
   ]
  },
  {
   "cell_type": "code",
   "execution_count": 33,
   "id": "30b292d6",
   "metadata": {},
   "outputs": [
    {
     "data": {
      "text/plain": [
       "LinearRegression()"
      ]
     },
     "execution_count": 33,
     "metadata": {},
     "output_type": "execute_result"
    }
   ],
   "source": [
    "lm.fit(x_train,y_train)"
   ]
  },
  {
   "cell_type": "code",
   "execution_count": 34,
   "id": "3cd049ab",
   "metadata": {},
   "outputs": [
    {
     "data": {
      "text/plain": [
       "73.04434562219876"
      ]
     },
     "execution_count": 34,
     "metadata": {},
     "output_type": "execute_result"
    }
   ],
   "source": [
    "lm.intercept_"
   ]
  },
  {
   "cell_type": "code",
   "execution_count": 35,
   "id": "539be486",
   "metadata": {},
   "outputs": [
    {
     "data": {
      "text/plain": [
       "array([ 4.91097030e-05,  1.17248161e-04, -3.68040758e-02, -1.56708629e-06,\n",
       "       -2.15893596e-03,  1.34580901e+00,  4.50164361e+00, -7.95558356e-01,\n",
       "       -8.95023654e-01,  3.44101687e-02, -5.64961402e-01, -4.19770245e-01,\n",
       "       -2.17767837e-01, -5.23497566e-01, -9.50935735e-01, -6.24582154e-01,\n",
       "        7.10393367e-01, -1.89572262e-01, -1.62077703e-01, -3.83963386e-02,\n",
       "        4.72213317e-01, -4.71219583e-01, -5.97883907e-01, -1.29119794e-01,\n",
       "       -3.48019912e-01, -1.62412357e-01, -1.25628925e-01, -5.28670226e-01,\n",
       "       -1.82785269e-01, -1.03168025e-01,  6.76024766e-02, -2.83418474e-01,\n",
       "        4.29922908e-01,  3.89627629e-01, -1.00830778e-01,  1.19526588e-02,\n",
       "       -1.56274811e-01, -2.72330672e-01, -2.18141242e-01, -4.78253620e-02,\n",
       "       -1.13933823e-03,  1.70071492e-02,  2.44919285e-01, -2.43088247e+00,\n",
       "       -2.20441699e+00, -2.07656326e+00,  5.52107009e-01,  3.97105772e-01,\n",
       "        3.52590264e-01,  1.87782877e-01,  6.29124556e-01,  4.61856956e-01,\n",
       "        3.18842170e-01,  4.19390181e-01,  3.92022990e-01,  3.06462451e-01,\n",
       "        6.26008840e-01,  7.43679582e-02, -2.92679476e-05,  3.67540638e-01,\n",
       "       -8.63639330e-02])"
      ]
     },
     "execution_count": 35,
     "metadata": {},
     "output_type": "execute_result"
    }
   ],
   "source": [
    "lm.coef_"
   ]
  },
  {
   "cell_type": "code",
   "execution_count": 36,
   "id": "ca992d1f",
   "metadata": {},
   "outputs": [
    {
     "data": {
      "text/plain": [
       "[('obj_to_num__Amount.Requested', 4.9109702984035364e-05),\n",
       " ('obj_to_num__Amount.Funded.By.Investors', 0.00011724816069084552),\n",
       " ('obj_to_num__Open.CREDIT.Lines', -0.036804075833552975),\n",
       " ('obj_to_num__Revolving.CREDIT.Balance', -1.5670862899668783e-06),\n",
       " ('dtir__Debt.To.Income.Ratio', -0.002158935955780393),\n",
       " ('obj_to_dum__Loan.Length_36 months', 1.3458090091741697),\n",
       " ('obj_to_dum__Loan.Length_60 months', 4.501643614256357),\n",
       " ('obj_to_dum__Loan.Purpose_debt_consolidation', -0.7955583555394746),\n",
       " ('obj_to_dum__Loan.Purpose_credit_card', -0.895023654478015),\n",
       " ('obj_to_dum__Loan.Purpose_other', 0.034410168683323306),\n",
       " ('obj_to_dum__Loan.Purpose_home_improvement', -0.564961402019623),\n",
       " ('obj_to_dum__Loan.Purpose_major_purchase', -0.41977024469914437),\n",
       " ('obj_to_dum__Loan.Purpose_small_business', -0.21776783697196683),\n",
       " ('obj_to_dum__Loan.Purpose_car', -0.5234975663282307),\n",
       " ('obj_to_dum__Loan.Purpose_wedding', -0.950935734592282),\n",
       " ('obj_to_dum__Loan.Purpose_medical', -0.6245821540786641),\n",
       " ('obj_to_dum__Loan.Purpose_moving', 0.710393367490317),\n",
       " ('obj_to_dum__State_CA', -0.18957226205809802),\n",
       " ('obj_to_dum__State_NY', -0.1620777034372871),\n",
       " ('obj_to_dum__State_FL', -0.03839633861103106),\n",
       " ('obj_to_dum__State_TX', 0.47221331686185813),\n",
       " ('obj_to_dum__State_PA', -0.47121958251712265),\n",
       " ('obj_to_dum__State_IL', -0.5978839069831284),\n",
       " ('obj_to_dum__State_GA', -0.12911979392597367),\n",
       " ('obj_to_dum__State_NJ', -0.3480199124901643),\n",
       " ('obj_to_dum__State_VA', -0.16241235654362168),\n",
       " ('obj_to_dum__State_MA', -0.1256289249920723),\n",
       " ('obj_to_dum__State_NC', -0.5286702260063048),\n",
       " ('obj_to_dum__State_OH', -0.18278526913809673),\n",
       " ('obj_to_dum__State_MD', -0.10316802476551538),\n",
       " ('obj_to_dum__State_CO', 0.0676024766405008),\n",
       " ('obj_to_dum__State_WA', -0.28341847413330556),\n",
       " ('obj_to_dum__State_CT', 0.42992290766345415),\n",
       " ('obj_to_dum__State_AZ', 0.3896276285200762),\n",
       " ('obj_to_dum__State_MI', -0.10083077842576564),\n",
       " ('obj_to_dum__State_AL', 0.011952658834877283),\n",
       " ('obj_to_dum__State_MN', -0.15627481061163873),\n",
       " ('obj_to_dum__State_MO', -0.27233067196652555),\n",
       " ('obj_to_dum__State_NV', -0.21814124205218258),\n",
       " ('obj_to_dum__State_SC', -0.04782536199148327),\n",
       " ('obj_to_dum__State_WI', -0.0011393382284790449),\n",
       " ('obj_to_dum__State_OR', 0.01700714917806894),\n",
       " ('obj_to_dum__State_KS', 0.24491928456654688),\n",
       " ('obj_to_dum__Home.Ownership_MORTGAGE', -2.430882469677254),\n",
       " ('obj_to_dum__Home.Ownership_RENT', -2.2044169915422422),\n",
       " ('obj_to_dum__Home.Ownership_OWN', -2.0765632645708187),\n",
       " ('obj_to_dum__Employment.Length_10+ years', 0.5521070091150336),\n",
       " ('obj_to_dum__Employment.Length_< 1 year', 0.39710577220354554),\n",
       " ('obj_to_dum__Employment.Length_2 years', 0.35259026366579915),\n",
       " ('obj_to_dum__Employment.Length_3 years', 0.18778287716522096),\n",
       " ('obj_to_dum__Employment.Length_5 years', 0.6291245562265259),\n",
       " ('obj_to_dum__Employment.Length_4 years', 0.4618569557512171),\n",
       " ('obj_to_dum__Employment.Length_1 year', 0.3188421701169967),\n",
       " ('obj_to_dum__Employment.Length_6 years', 0.41939018077967877),\n",
       " ('obj_to_dum__Employment.Length_7 years', 0.39202298964656257),\n",
       " ('obj_to_dum__Employment.Length_8 years', 0.30646245087895385),\n",
       " ('obj_to_dum__Employment.Length_missing', 0.626008840488153),\n",
       " ('obj_to_dum__Employment.Length_9 years', 0.07436795823955869),\n",
       " ('num__Monthly.Income', -2.9267947634248337e-05),\n",
       " ('num__Inquiries.in.the.Last.6.Months', 0.3675406378451791),\n",
       " ('fico__fico', -0.08636393304679135)]"
      ]
     },
     "execution_count": 36,
     "metadata": {},
     "output_type": "execute_result"
    }
   ],
   "source": [
    "list(zip(x_train.columns, lm.coef_))"
   ]
  },
  {
   "cell_type": "code",
   "execution_count": 37,
   "id": "c770549f",
   "metadata": {},
   "outputs": [
    {
     "data": {
      "text/plain": [
       "array([16.70799585, 16.00832441, 10.33709785,  3.69116239, 15.24991944,\n",
       "        7.64043694, 15.56010771, 10.65005028, 15.941686  , 12.40783892,\n",
       "       10.07271324, 15.2280325 , 11.67477637, 13.63967139, 13.43076211,\n",
       "       18.39083847, 10.26336433, 15.77026142, 13.49390545, 14.02604258,\n",
       "       22.56736997, 17.43996629, 12.41267037, 14.65336533,  9.64344848,\n",
       "       11.39958837, 13.30956956, 19.1182746 , 11.81628241, 16.79747458,\n",
       "       15.19456707, 15.27420913, 12.36477469, 14.97510221, 13.86521163,\n",
       "       14.08348195, 19.65313081, 11.31657445, 12.01385911, 16.9033149 ,\n",
       "       14.07985435, 11.15670313, 15.00538815, 13.26128284, 15.53903097,\n",
       "       17.16549476, 14.90394046, 18.85806411, 17.14613739, 10.40842271,\n",
       "       13.3464016 , 19.82461581, 10.04729388, 19.57442289, 15.76637987,\n",
       "       15.31454435, 17.17119236, 14.60583533, 10.94554408, 14.60716935,\n",
       "       13.10262133, 17.22715423,  8.84894718, 14.74112233, 10.01636322,\n",
       "       11.42004752, 12.84835679, 14.9071138 , 11.24916667, 14.43670798,\n",
       "       14.5991955 , 17.34005893, 20.85226777, 19.66476252, 13.32822907,\n",
       "       17.0413302 , 11.32743557, 10.10315074, 16.54076843,  6.95935782,\n",
       "       15.96897123, 10.25776271,  9.58929357, 12.93128628, 14.10355535,\n",
       "        9.00386291,  9.33812421, 13.85854239,  8.62410818, 11.61511138,\n",
       "       11.91586872, 17.05297035, 13.46857696, 18.01488456, 14.29862669,\n",
       "       10.34763671, 10.32947853, 17.2767452 , 17.07338943, 13.62907602,\n",
       "       15.10451148, 13.56565438, 15.31614972, 14.08494246, 13.63722223,\n",
       "       12.40385551,  8.85263894, 11.98053868, 10.95069802, 14.0259638 ,\n",
       "       11.74717287, 20.50401786,  7.38849116, 16.97400049, 15.67461116,\n",
       "        6.61662878, 13.31470893, 14.30681354, 15.07441512,  9.32730407,\n",
       "       16.15987325, 14.23026977,  9.06773693, 11.82856522, 17.42801802,\n",
       "       15.96850259,  8.53550009, 18.52976749,  3.42793488, 12.19854599,\n",
       "       13.77966921, 13.31625999,  9.8848724 , 13.91010729, 18.60960056,\n",
       "       14.3721004 , 15.61087832, 13.34065395, 13.14510838,  9.53166282,\n",
       "       14.10311838, 14.55573334, 11.78262948, 11.56726161,  9.88080806,\n",
       "       17.05837326, 12.01847375, 10.5588568 ,  7.93558125,  9.72411222,\n",
       "       11.40846115, 13.82728443, 10.40720349,  7.69441752, 14.06474631,\n",
       "       11.99422402, 11.33294758,  7.87514484, 14.60207057, 14.74628032,\n",
       "       14.18563713,  7.07532415, 15.11443073, 18.09260534, 15.39923213,\n",
       "       16.04668734, 14.69970588, 10.08587445, 13.43160847, 16.78723595,\n",
       "       14.68107236, 12.95077835,  6.58608636, 13.15666842, 10.30869673,\n",
       "       10.5400058 , 11.18950582,  8.81234423,  9.76224368, 11.53764624,\n",
       "       12.85904809, 14.4999749 , 10.3506837 , 13.32352491, 11.03294175,\n",
       "       13.88995918,  8.49343684, 18.22768013, 13.58719599,  9.51146328,\n",
       "        7.71273462, 11.50725925, 16.05883433, 15.47861496, 15.18299484,\n",
       "       18.06191708,  9.17173706, 19.05497063,  5.22886474, 13.71722615,\n",
       "       14.61179157, 12.72356138, 18.35810136, 16.79786199,  4.83218888,\n",
       "       15.55231211, 15.59781612, 19.66277324, 16.65175451,  8.77967023,\n",
       "       14.64908193, 11.4436068 , 11.26297808, 14.6175546 , 10.84707702,\n",
       "       12.35931999, 13.33056901, 20.85510196, 13.8481784 ,  6.51791405,\n",
       "        5.74555829,  9.3965343 , 17.95216666, 11.43072068, 15.88936596,\n",
       "       14.75021119, 11.88460801, 11.66497672, 12.27184201, 10.69145121,\n",
       "       11.72973634, 14.82350432, 12.71844136, 16.09567198,  7.70247895,\n",
       "       11.3524924 , 13.39218409, 10.69748138,  5.08383568, 20.06430464,\n",
       "       14.10770277, 19.83778251,  7.9097233 , 20.92580744, 12.81709229,\n",
       "       12.20611443, 20.18617465,  8.85908208,  7.99673981, 12.9762753 ,\n",
       "       16.12078413, 14.06582308, 10.79550882, 14.10973992, 15.13836515,\n",
       "       19.21126561, 11.24790185,  7.94596322, 12.48127867, 18.18311244,\n",
       "       16.33177897, 13.18548167, 18.47471897,  7.50203578, 20.0712394 ,\n",
       "        8.27218108, 15.92711265, 10.57720049,  4.58155309, 14.94022954,\n",
       "       13.49945303, 13.30146019,  6.77111453,  9.35596612, 10.0234887 ,\n",
       "        6.56341147, 14.20185156, 13.70985593, 11.16023829, 14.89606426,\n",
       "       16.85501312, 20.44100922, 16.54206443, 14.40465125, 15.97684106,\n",
       "        8.28295486, 12.83687793, 13.57534125, 10.52517728, 11.76899574,\n",
       "       14.65251835, 10.16383918, 14.43252261,  9.50951733,  7.09137208,\n",
       "       15.89204934, 11.12132843, 14.49975762, 17.92665665, 12.96291028])"
      ]
     },
     "execution_count": 37,
     "metadata": {},
     "output_type": "execute_result"
    }
   ],
   "source": [
    "test_predict=lm.predict(x_test)\n",
    "test_predict"
   ]
  },
  {
   "cell_type": "code",
   "execution_count": 38,
   "id": "4680b0ac",
   "metadata": {},
   "outputs": [],
   "source": [
    "pd.DataFrame(test_predict).to_csv(\"result1.csv\",index=False)\n"
   ]
  },
  {
   "cell_type": "code",
   "execution_count": 39,
   "id": "2fbc7737",
   "metadata": {},
   "outputs": [
    {
     "data": {
      "text/plain": [
       "'E:\\\\IIT-K\\\\Linear-Regression-Model-Loan'"
      ]
     },
     "execution_count": 39,
     "metadata": {},
     "output_type": "execute_result"
    }
   ],
   "source": [
    "import os\n",
    "os.getcwd()"
   ]
  },
  {
   "cell_type": "markdown",
   "id": "ddab1959",
   "metadata": {},
   "source": [
    "# RIDGE REGRESSION"
   ]
  },
  {
   "cell_type": "code",
   "execution_count": 40,
   "id": "e90aa39f",
   "metadata": {},
   "outputs": [],
   "source": [
    "from sklearn.linear_model import Ridge,Lasso\n",
    "from sklearn.model_selection import GridSearchCV"
   ]
  },
  {
   "cell_type": "code",
   "execution_count": 41,
   "id": "29acfe2d",
   "metadata": {},
   "outputs": [],
   "source": [
    "lambdas=np.linspace(1,100,100)"
   ]
  },
  {
   "cell_type": "code",
   "execution_count": 42,
   "id": "b4da709d",
   "metadata": {},
   "outputs": [
    {
     "data": {
      "text/plain": [
       "array([  1.,   2.,   3.,   4.,   5.,   6.,   7.,   8.,   9.,  10.,  11.,\n",
       "        12.,  13.,  14.,  15.,  16.,  17.,  18.,  19.,  20.,  21.,  22.,\n",
       "        23.,  24.,  25.,  26.,  27.,  28.,  29.,  30.,  31.,  32.,  33.,\n",
       "        34.,  35.,  36.,  37.,  38.,  39.,  40.,  41.,  42.,  43.,  44.,\n",
       "        45.,  46.,  47.,  48.,  49.,  50.,  51.,  52.,  53.,  54.,  55.,\n",
       "        56.,  57.,  58.,  59.,  60.,  61.,  62.,  63.,  64.,  65.,  66.,\n",
       "        67.,  68.,  69.,  70.,  71.,  72.,  73.,  74.,  75.,  76.,  77.,\n",
       "        78.,  79.,  80.,  81.,  82.,  83.,  84.,  85.,  86.,  87.,  88.,\n",
       "        89.,  90.,  91.,  92.,  93.,  94.,  95.,  96.,  97.,  98.,  99.,\n",
       "       100.])"
      ]
     },
     "execution_count": 42,
     "metadata": {},
     "output_type": "execute_result"
    }
   ],
   "source": [
    "lambdas"
   ]
  },
  {
   "cell_type": "code",
   "execution_count": 43,
   "id": "2a6f9ddd",
   "metadata": {},
   "outputs": [],
   "source": [
    "params={'alpha':lambdas}"
   ]
  },
  {
   "cell_type": "code",
   "execution_count": 44,
   "id": "30c68fd4",
   "metadata": {},
   "outputs": [
    {
     "data": {
      "text/plain": [
       "{'alpha': array([  1.,   2.,   3.,   4.,   5.,   6.,   7.,   8.,   9.,  10.,  11.,\n",
       "         12.,  13.,  14.,  15.,  16.,  17.,  18.,  19.,  20.,  21.,  22.,\n",
       "         23.,  24.,  25.,  26.,  27.,  28.,  29.,  30.,  31.,  32.,  33.,\n",
       "         34.,  35.,  36.,  37.,  38.,  39.,  40.,  41.,  42.,  43.,  44.,\n",
       "         45.,  46.,  47.,  48.,  49.,  50.,  51.,  52.,  53.,  54.,  55.,\n",
       "         56.,  57.,  58.,  59.,  60.,  61.,  62.,  63.,  64.,  65.,  66.,\n",
       "         67.,  68.,  69.,  70.,  71.,  72.,  73.,  74.,  75.,  76.,  77.,\n",
       "         78.,  79.,  80.,  81.,  82.,  83.,  84.,  85.,  86.,  87.,  88.,\n",
       "         89.,  90.,  91.,  92.,  93.,  94.,  95.,  96.,  97.,  98.,  99.,\n",
       "        100.])}"
      ]
     },
     "execution_count": 44,
     "metadata": {},
     "output_type": "execute_result"
    }
   ],
   "source": [
    "params"
   ]
  },
  {
   "cell_type": "code",
   "execution_count": 45,
   "id": "c12ff900",
   "metadata": {},
   "outputs": [],
   "source": [
    "model=Ridge(fit_intercept=True)"
   ]
  },
  {
   "cell_type": "code",
   "execution_count": 46,
   "id": "bc3a4b6e",
   "metadata": {},
   "outputs": [
    {
     "data": {
      "text/plain": [
       "Ridge()"
      ]
     },
     "execution_count": 46,
     "metadata": {},
     "output_type": "execute_result"
    }
   ],
   "source": [
    "model"
   ]
  },
  {
   "cell_type": "code",
   "execution_count": 47,
   "id": "866eb8eb",
   "metadata": {},
   "outputs": [],
   "source": [
    "grid_search=GridSearchCV(model,\n",
    "                         param_grid=params,\n",
    "                         cv=10,\n",
    "                         scoring='neg_mean_absolute_error',\n",
    "                         verbose=20,\n",
    "                         n_jobs=-1)"
   ]
  },
  {
   "cell_type": "code",
   "execution_count": 48,
   "id": "14dbc032",
   "metadata": {},
   "outputs": [
    {
     "name": "stdout",
     "output_type": "stream",
     "text": [
      "Fitting 10 folds for each of 100 candidates, totalling 1000 fits\n"
     ]
    },
    {
     "data": {
      "text/plain": [
       "GridSearchCV(cv=10, estimator=Ridge(), n_jobs=-1,\n",
       "             param_grid={'alpha': array([  1.,   2.,   3.,   4.,   5.,   6.,   7.,   8.,   9.,  10.,  11.,\n",
       "        12.,  13.,  14.,  15.,  16.,  17.,  18.,  19.,  20.,  21.,  22.,\n",
       "        23.,  24.,  25.,  26.,  27.,  28.,  29.,  30.,  31.,  32.,  33.,\n",
       "        34.,  35.,  36.,  37.,  38.,  39.,  40.,  41.,  42.,  43.,  44.,\n",
       "        45.,  46.,  47.,  48.,  49.,  50.,  51.,  52.,  53.,  54.,  55.,\n",
       "        56.,  57.,  58.,  59.,  60.,  61.,  62.,  63.,  64.,  65.,  66.,\n",
       "        67.,  68.,  69.,  70.,  71.,  72.,  73.,  74.,  75.,  76.,  77.,\n",
       "        78.,  79.,  80.,  81.,  82.,  83.,  84.,  85.,  86.,  87.,  88.,\n",
       "        89.,  90.,  91.,  92.,  93.,  94.,  95.,  96.,  97.,  98.,  99.,\n",
       "       100.])},\n",
       "             scoring='neg_mean_absolute_error', verbose=20)"
      ]
     },
     "execution_count": 48,
     "metadata": {},
     "output_type": "execute_result"
    }
   ],
   "source": [
    "grid_search.fit(x_train,y_train)"
   ]
  },
  {
   "cell_type": "code",
   "execution_count": 49,
   "id": "c9b6d223",
   "metadata": {},
   "outputs": [
    {
     "data": {
      "text/plain": [
       "Ridge(alpha=52.0)"
      ]
     },
     "execution_count": 49,
     "metadata": {},
     "output_type": "execute_result"
    }
   ],
   "source": [
    "grid_search.best_estimator_"
   ]
  },
  {
   "cell_type": "code",
   "execution_count": 50,
   "id": "cdc34a6b",
   "metadata": {},
   "outputs": [
    {
     "data": {
      "text/plain": [
       "{'mean_fit_time': array([0.02031288, 0.01691005, 0.01299055, 0.01406314, 0.01406336,\n",
       "        0.01093805, 0.01406329, 0.01562645, 0.01093831, 0.00937541,\n",
       "        0.01093802, 0.01381347, 0.01325185, 0.01240773, 0.01638205,\n",
       "        0.01625874, 0.0149971 , 0.01530938, 0.0118078 , 0.01200833,\n",
       "        0.01150768, 0.01061437, 0.01143923, 0.01283076, 0.01230838,\n",
       "        0.01120739, 0.01130795, 0.01201103, 0.01337926, 0.01099241,\n",
       "        0.01330941, 0.01120789, 0.01150758, 0.0141747 , 0.01144125,\n",
       "        0.01063013, 0.01221206, 0.0107574 , 0.0108187 , 0.01250069,\n",
       "        0.01306036, 0.0135989 , 0.01159806, 0.01250916, 0.01130803,\n",
       "        0.01150854, 0.00941193, 0.01257761, 0.01101522, 0.01299474,\n",
       "        0.01332088, 0.01342134, 0.01275899, 0.01506481, 0.01678886,\n",
       "        0.0126086 , 0.01210804, 0.0118084 , 0.01180859, 0.01220872,\n",
       "        0.01170869, 0.01190877, 0.01238031, 0.01181247, 0.01257467,\n",
       "        0.0126714 , 0.01128731, 0.01197054, 0.0132081 , 0.01233883,\n",
       "        0.01071832, 0.01238015, 0.01163085, 0.01622591, 0.01363118,\n",
       "        0.01370738, 0.01029274, 0.01182234, 0.01141851, 0.01079209,\n",
       "        0.00976064, 0.01132295, 0.01031384, 0.01466355, 0.01099179,\n",
       "        0.00881953, 0.00713484, 0.01250036, 0.00937557, 0.01093802,\n",
       "        0.01093771, 0.01093824, 0.01250119, 0.01250148, 0.01070495,\n",
       "        0.01395268, 0.01395259, 0.01406322, 0.01406338, 0.01250043]),\n",
       " 'std_fit_time': array([1.00048519e-02, 7.98094774e-03, 5.70699955e-03, 4.68771461e-03,\n",
       "        4.68778620e-03, 7.16063355e-03, 4.68776236e-03, 1.11548305e-06,\n",
       "        7.16080529e-03, 7.65498641e-03, 7.16061794e-03, 5.37172736e-03,\n",
       "        2.81711715e-03, 1.28174636e-03, 1.04379315e-02, 9.58176544e-03,\n",
       "        9.66628542e-03, 5.14255836e-03, 4.00127528e-04, 1.18339316e-03,\n",
       "        1.36184537e-03, 1.66514289e-03, 8.80995146e-04, 1.38941862e-03,\n",
       "        1.34652850e-03, 9.81117267e-04, 9.01170179e-04, 4.34166448e-03,\n",
       "        5.03397936e-03, 5.71310385e-03, 1.90123655e-03, 7.50221973e-04,\n",
       "        1.20489464e-03, 3.49349485e-03, 1.95681055e-03, 2.74083658e-03,\n",
       "        1.47335275e-03, 5.76226610e-03, 5.99497428e-03, 6.25034577e-03,\n",
       "        4.78933031e-03, 7.64816962e-03, 8.06512098e-03, 2.29241233e-03,\n",
       "        7.80959816e-04, 9.22599704e-04, 6.05642875e-03, 4.74845527e-03,\n",
       "        5.91569834e-03, 5.21977722e-03, 2.32911526e-03, 2.99302717e-03,\n",
       "        2.85193602e-03, 1.99740344e-02, 7.34480539e-03, 1.56380890e-03,\n",
       "        2.46960046e-03, 9.80834945e-04, 1.07773481e-03, 1.40094470e-03,\n",
       "        1.61671674e-03, 2.25815256e-03, 3.27492202e-03, 1.93635836e-03,\n",
       "        1.62210926e-03, 1.60437844e-03, 4.41930135e-03, 2.12372097e-03,\n",
       "        2.27438018e-03, 1.95546825e-03, 3.02096710e-03, 5.60801163e-03,\n",
       "        5.25188602e-03, 2.71079609e-03, 4.42785384e-03, 2.05876448e-03,\n",
       "        5.77228713e-03, 5.42465766e-03, 5.93773072e-03, 5.63797933e-03,\n",
       "        6.02395300e-03, 7.61446338e-03, 6.85750112e-03, 2.36885068e-03,\n",
       "        5.74739674e-03, 5.41895688e-03, 6.86921428e-03, 6.25017897e-03,\n",
       "        7.65512273e-03, 7.16061794e-03, 7.16041519e-03, 7.16075854e-03,\n",
       "        6.25059655e-03, 6.25074039e-03, 5.17011120e-03, 5.48923446e-03,\n",
       "        5.69907721e-03, 4.68773862e-03, 4.68779415e-03, 6.25021475e-03]),\n",
       " 'mean_score_time': array([0.00312481, 0.00451045, 0.00396817, 0.00312519, 0.00312519,\n",
       "        0.00625072, 0.00312519, 0.00156248, 0.00625036, 0.00781305,\n",
       "        0.00468783, 0.00500362, 0.00492225, 0.00500422, 0.00496974,\n",
       "        0.00656579, 0.00792856, 0.00730522, 0.00520339, 0.00530322,\n",
       "        0.00610385, 0.00601883, 0.00460224, 0.00530353, 0.00550337,\n",
       "        0.00520349, 0.00570271, 0.00437067, 0.0028084 , 0.00542672,\n",
       "        0.00480266, 0.00520244, 0.0049027 , 0.00494883, 0.0045028 ,\n",
       "        0.00588641, 0.00510349, 0.00463014, 0.00412562, 0.00312531,\n",
       "        0.00206265, 0.00414686, 0.00769   , 0.00540323, 0.00470238,\n",
       "        0.00470283, 0.00647118, 0.00280752, 0.00437024, 0.00819085,\n",
       "        0.00450234, 0.00450325, 0.00366869, 0.00885205, 0.00460324,\n",
       "        0.00550349, 0.00560422, 0.00510337, 0.0054038 , 0.00510297,\n",
       "        0.00530286, 0.00570309, 0.00507395, 0.0061713 , 0.00470693,\n",
       "        0.0053082 , 0.00618875, 0.00542581, 0.00530329, 0.00400944,\n",
       "        0.00447118, 0.00433464, 0.00472674, 0.00161624, 0.00470285,\n",
       "        0.00306349, 0.00619009, 0.00452509, 0.00639179, 0.00699298,\n",
       "        0.00529149, 0.00588796, 0.0079042 , 0.00476418, 0.0060276 ,\n",
       "        0.0050267 , 0.00715103, 0.00781288, 0.00468776, 0.00625036,\n",
       "        0.00625019, 0.00468845, 0.00312476, 0.00468664, 0.00492663,\n",
       "        0.00306406, 0.00306988, 0.0015626 , 0.00468762, 0.00468755]),\n",
       " 'std_score_time': array([0.00624962, 0.00624074, 0.00459431, 0.00625038, 0.00625038,\n",
       "        0.00765553, 0.00625038, 0.00468743, 0.00765509, 0.00781305,\n",
       "        0.00716078, 0.00260971, 0.00054612, 0.00044665, 0.00440383,\n",
       "        0.00466483, 0.00496253, 0.00286791, 0.00059989, 0.00078175,\n",
       "        0.00175896, 0.00245353, 0.00185588, 0.00078112, 0.00067155,\n",
       "        0.00074877, 0.00161659, 0.00446755, 0.00267343, 0.00548654,\n",
       "        0.00116707, 0.00060145, 0.00053869, 0.00274802, 0.00162883,\n",
       "        0.00234296, 0.00186945, 0.00591156, 0.00608418, 0.00625062,\n",
       "        0.00476026, 0.00599084, 0.00552601, 0.00120008, 0.00045824,\n",
       "        0.00078124, 0.00509338, 0.0046723 , 0.0059449 , 0.00530095,\n",
       "        0.00162886, 0.0016291 , 0.00461376, 0.00619158, 0.0046123 ,\n",
       "        0.00111939, 0.00142888, 0.00053845, 0.00091672, 0.00083083,\n",
       "        0.00100675, 0.00110038, 0.00173928, 0.00220436, 0.00077332,\n",
       "        0.00268073, 0.00384351, 0.00227256, 0.00090051, 0.00160684,\n",
       "        0.00189361, 0.00648185, 0.0059261 , 0.00211162, 0.00275975,\n",
       "        0.00313193, 0.0055043 , 0.00591206, 0.00571606, 0.00574731,\n",
       "        0.00640002, 0.006766  , 0.00641366, 0.00439678, 0.00551635,\n",
       "        0.00571692, 0.00711584, 0.00781288, 0.00716068, 0.00765509,\n",
       "        0.00765489, 0.00716173, 0.00624952, 0.00715896, 0.00572476,\n",
       "        0.00474834, 0.00481086, 0.00468779, 0.00716046, 0.00716035]),\n",
       " 'param_alpha': masked_array(data=[1.0, 2.0, 3.0, 4.0, 5.0, 6.0, 7.0, 8.0, 9.0, 10.0,\n",
       "                    11.0, 12.0, 13.0, 14.0, 15.0, 16.0, 17.0, 18.0, 19.0,\n",
       "                    20.0, 21.0, 22.0, 23.0, 24.0, 25.0, 26.0, 27.0, 28.0,\n",
       "                    29.0, 30.0, 31.0, 32.0, 33.0, 34.0, 35.0, 36.0, 37.0,\n",
       "                    38.0, 39.0, 40.0, 41.0, 42.0, 43.0, 44.0, 45.0, 46.0,\n",
       "                    47.0, 48.0, 49.0, 50.0, 51.0, 52.0, 53.0, 54.0, 55.0,\n",
       "                    56.0, 57.0, 58.0, 59.0, 60.0, 61.0, 62.0, 63.0, 64.0,\n",
       "                    65.0, 66.0, 67.0, 68.0, 69.0, 70.0, 71.0, 72.0, 73.0,\n",
       "                    74.0, 75.0, 76.0, 77.0, 78.0, 79.0, 80.0, 81.0, 82.0,\n",
       "                    83.0, 84.0, 85.0, 86.0, 87.0, 88.0, 89.0, 90.0, 91.0,\n",
       "                    92.0, 93.0, 94.0, 95.0, 96.0, 97.0, 98.0, 99.0, 100.0],\n",
       "              mask=[False, False, False, False, False, False, False, False,\n",
       "                    False, False, False, False, False, False, False, False,\n",
       "                    False, False, False, False, False, False, False, False,\n",
       "                    False, False, False, False, False, False, False, False,\n",
       "                    False, False, False, False, False, False, False, False,\n",
       "                    False, False, False, False, False, False, False, False,\n",
       "                    False, False, False, False, False, False, False, False,\n",
       "                    False, False, False, False, False, False, False, False,\n",
       "                    False, False, False, False, False, False, False, False,\n",
       "                    False, False, False, False, False, False, False, False,\n",
       "                    False, False, False, False, False, False, False, False,\n",
       "                    False, False, False, False, False, False, False, False,\n",
       "                    False, False, False, False],\n",
       "        fill_value='?',\n",
       "             dtype=object),\n",
       " 'params': [{'alpha': 1.0},\n",
       "  {'alpha': 2.0},\n",
       "  {'alpha': 3.0},\n",
       "  {'alpha': 4.0},\n",
       "  {'alpha': 5.0},\n",
       "  {'alpha': 6.0},\n",
       "  {'alpha': 7.0},\n",
       "  {'alpha': 8.0},\n",
       "  {'alpha': 9.0},\n",
       "  {'alpha': 10.0},\n",
       "  {'alpha': 11.0},\n",
       "  {'alpha': 12.0},\n",
       "  {'alpha': 13.0},\n",
       "  {'alpha': 14.0},\n",
       "  {'alpha': 15.0},\n",
       "  {'alpha': 16.0},\n",
       "  {'alpha': 17.0},\n",
       "  {'alpha': 18.0},\n",
       "  {'alpha': 19.0},\n",
       "  {'alpha': 20.0},\n",
       "  {'alpha': 21.0},\n",
       "  {'alpha': 22.0},\n",
       "  {'alpha': 23.0},\n",
       "  {'alpha': 24.0},\n",
       "  {'alpha': 25.0},\n",
       "  {'alpha': 26.0},\n",
       "  {'alpha': 27.0},\n",
       "  {'alpha': 28.0},\n",
       "  {'alpha': 29.0},\n",
       "  {'alpha': 30.0},\n",
       "  {'alpha': 31.0},\n",
       "  {'alpha': 32.0},\n",
       "  {'alpha': 33.0},\n",
       "  {'alpha': 34.0},\n",
       "  {'alpha': 35.0},\n",
       "  {'alpha': 36.0},\n",
       "  {'alpha': 37.0},\n",
       "  {'alpha': 38.0},\n",
       "  {'alpha': 39.0},\n",
       "  {'alpha': 40.0},\n",
       "  {'alpha': 41.0},\n",
       "  {'alpha': 42.0},\n",
       "  {'alpha': 43.0},\n",
       "  {'alpha': 44.0},\n",
       "  {'alpha': 45.0},\n",
       "  {'alpha': 46.0},\n",
       "  {'alpha': 47.0},\n",
       "  {'alpha': 48.0},\n",
       "  {'alpha': 49.0},\n",
       "  {'alpha': 50.0},\n",
       "  {'alpha': 51.0},\n",
       "  {'alpha': 52.0},\n",
       "  {'alpha': 53.0},\n",
       "  {'alpha': 54.0},\n",
       "  {'alpha': 55.0},\n",
       "  {'alpha': 56.0},\n",
       "  {'alpha': 57.0},\n",
       "  {'alpha': 58.0},\n",
       "  {'alpha': 59.0},\n",
       "  {'alpha': 60.0},\n",
       "  {'alpha': 61.0},\n",
       "  {'alpha': 62.0},\n",
       "  {'alpha': 63.0},\n",
       "  {'alpha': 64.0},\n",
       "  {'alpha': 65.0},\n",
       "  {'alpha': 66.0},\n",
       "  {'alpha': 67.0},\n",
       "  {'alpha': 68.0},\n",
       "  {'alpha': 69.0},\n",
       "  {'alpha': 70.0},\n",
       "  {'alpha': 71.0},\n",
       "  {'alpha': 72.0},\n",
       "  {'alpha': 73.0},\n",
       "  {'alpha': 74.0},\n",
       "  {'alpha': 75.0},\n",
       "  {'alpha': 76.0},\n",
       "  {'alpha': 77.0},\n",
       "  {'alpha': 78.0},\n",
       "  {'alpha': 79.0},\n",
       "  {'alpha': 80.0},\n",
       "  {'alpha': 81.0},\n",
       "  {'alpha': 82.0},\n",
       "  {'alpha': 83.0},\n",
       "  {'alpha': 84.0},\n",
       "  {'alpha': 85.0},\n",
       "  {'alpha': 86.0},\n",
       "  {'alpha': 87.0},\n",
       "  {'alpha': 88.0},\n",
       "  {'alpha': 89.0},\n",
       "  {'alpha': 90.0},\n",
       "  {'alpha': 91.0},\n",
       "  {'alpha': 92.0},\n",
       "  {'alpha': 93.0},\n",
       "  {'alpha': 94.0},\n",
       "  {'alpha': 95.0},\n",
       "  {'alpha': 96.0},\n",
       "  {'alpha': 97.0},\n",
       "  {'alpha': 98.0},\n",
       "  {'alpha': 99.0},\n",
       "  {'alpha': 100.0}],\n",
       " 'split0_test_score': array([-1.73295628, -1.73325241, -1.7334053 , -1.73347634, -1.73361024,\n",
       "        -1.7337483 , -1.73389696, -1.73402414, -1.73413468, -1.73423203,\n",
       "        -1.73431868, -1.73439653, -1.73446704, -1.73453137, -1.73459044,\n",
       "        -1.73464502, -1.73469572, -1.73474308, -1.73479012, -1.73489843,\n",
       "        -1.73503306, -1.73516871, -1.73530155, -1.73543184, -1.73555977,\n",
       "        -1.73568553, -1.73580928, -1.73593117, -1.73605133, -1.73616987,\n",
       "        -1.73629436, -1.73643883, -1.73658208, -1.73672418, -1.7368652 ,\n",
       "        -1.7370052 , -1.73714422, -1.73728233, -1.73741956, -1.73755596,\n",
       "        -1.73769156, -1.7378264 , -1.73796052, -1.73809393, -1.73823096,\n",
       "        -1.73840495, -1.73857782, -1.73874961, -1.73892035, -1.73909007,\n",
       "        -1.7392588 , -1.73942656, -1.73959339, -1.73975929, -1.7399243 ,\n",
       "        -1.74008843, -1.74025171, -1.74041416, -1.74057579, -1.74075211,\n",
       "        -1.74093241, -1.74112757, -1.74136088, -1.74159309, -1.7418242 ,\n",
       "        -1.74205424, -1.74228322, -1.74251115, -1.74273805, -1.74296394,\n",
       "        -1.74318881, -1.7434127 , -1.7436356 , -1.74387584, -1.74411963,\n",
       "        -1.74436211, -1.74460329, -1.7448432 , -1.74511432, -1.74538657,\n",
       "        -1.74565744, -1.74592695, -1.74619514, -1.7464845 , -1.7467872 ,\n",
       "        -1.74708845, -1.74738827, -1.74768669, -1.74798372, -1.74827938,\n",
       "        -1.74857369, -1.74886666, -1.74915831, -1.74944865, -1.7497377 ,\n",
       "        -1.75002547, -1.75031198, -1.75059732, -1.75090518, -1.75121169]),\n",
       " 'split1_test_score': array([-1.73284832, -1.72859892, -1.72560969, -1.72304552, -1.72088593,\n",
       "        -1.71897468, -1.71719998, -1.71553964, -1.71417347, -1.71306604,\n",
       "        -1.71202153, -1.71100736, -1.71002496, -1.70907474, -1.70815645,\n",
       "        -1.70726942, -1.70645385, -1.7056843 , -1.70494193, -1.70427468,\n",
       "        -1.70364565, -1.70303822, -1.70245141, -1.70188428, -1.70133593,\n",
       "        -1.7008055 , -1.70029215, -1.6997951 , -1.69931359, -1.69884694,\n",
       "        -1.69839445, -1.6979555 , -1.69752949, -1.69711584, -1.69671403,\n",
       "        -1.69632353, -1.69594387, -1.6955746 , -1.69521527, -1.69486549,\n",
       "        -1.69452486, -1.69419302, -1.69386962, -1.69355433, -1.69324683,\n",
       "        -1.69294682, -1.69265403, -1.69236818, -1.69210663, -1.69185265,\n",
       "        -1.69160458, -1.69136222, -1.69112536, -1.69089381, -1.69066737,\n",
       "        -1.69044587, -1.69022914, -1.69001701, -1.68980932, -1.68960594,\n",
       "        -1.68940671, -1.6892115 , -1.68902018, -1.68883262, -1.68864871,\n",
       "        -1.68846833, -1.68829137, -1.68811773, -1.68794729, -1.68777998,\n",
       "        -1.68761569, -1.68745433, -1.68729582, -1.68714007, -1.68698701,\n",
       "        -1.68683656, -1.68668864, -1.68654319, -1.68640013, -1.68625941,\n",
       "        -1.68612095, -1.68599082, -1.68587435, -1.68575992, -1.68564749,\n",
       "        -1.685537  , -1.6854284 , -1.68532163, -1.68521666, -1.68511344,\n",
       "        -1.68501192, -1.68491206, -1.68481381, -1.68471715, -1.68462202,\n",
       "        -1.68452839, -1.68443623, -1.68434549, -1.68425616, -1.68418757]),\n",
       " 'split2_test_score': array([-1.74104   , -1.74069587, -1.73986527, -1.73883746, -1.73774644,\n",
       "        -1.73665124, -1.73557838, -1.73453991, -1.73354081, -1.73258253,\n",
       "        -1.73166687, -1.73110211, -1.73056809, -1.73028696, -1.73001514,\n",
       "        -1.72975229, -1.72949802, -1.72925193, -1.72901363, -1.72878327,\n",
       "        -1.72857419, -1.72837153, -1.72817499, -1.72798427, -1.7277991 ,\n",
       "        -1.7276192 , -1.72744434, -1.72727428, -1.72710881, -1.72694773,\n",
       "        -1.72679084, -1.72663798, -1.72648896, -1.72634364, -1.72620187,\n",
       "        -1.7260635 , -1.72592841, -1.72579648, -1.72570952, -1.72564461,\n",
       "        -1.72558129, -1.72551949, -1.72545917, -1.72540027, -1.72534275,\n",
       "        -1.72528657, -1.72523167, -1.72517803, -1.7251256 , -1.72507434,\n",
       "        -1.72502422, -1.7249752 , -1.72492726, -1.72488036, -1.72483448,\n",
       "        -1.72478958, -1.72474564, -1.72470263, -1.72466053, -1.72461931,\n",
       "        -1.72457896, -1.72453945, -1.72450076, -1.72446286, -1.72442575,\n",
       "        -1.72438939, -1.72435378, -1.72431889, -1.72428471, -1.72427106,\n",
       "        -1.72426561, -1.72426054, -1.72425585, -1.7242844 , -1.72432017,\n",
       "        -1.72435607, -1.72439211, -1.72442828, -1.72446458, -1.72450099,\n",
       "        -1.72453752, -1.72457417, -1.72461093, -1.72464779, -1.72468476,\n",
       "        -1.72472183, -1.72475899, -1.72479625, -1.7248336 , -1.72487104,\n",
       "        -1.72490856, -1.72494617, -1.72498385, -1.72502161, -1.72505945,\n",
       "        -1.72509735, -1.72513532, -1.72517336, -1.72521147, -1.72524963]),\n",
       " 'split3_test_score': array([-1.65439028, -1.65379419, -1.65329576, -1.65288741, -1.65250505,\n",
       "        -1.6521834 , -1.65191763, -1.65168629, -1.65147232, -1.65127347,\n",
       "        -1.6510879 , -1.65091405, -1.65075065, -1.65059663, -1.65045108,\n",
       "        -1.65031322, -1.65018239, -1.65005801, -1.64993958, -1.64983115,\n",
       "        -1.64974075, -1.64965484, -1.6495731 , -1.64949524, -1.64942862,\n",
       "        -1.64942938, -1.64945924, -1.64948926, -1.64951938, -1.64954959,\n",
       "        -1.64957985, -1.64961013, -1.64964041, -1.64967066, -1.64970087,\n",
       "        -1.64973103, -1.64976111, -1.6497911 , -1.64982099, -1.64985077,\n",
       "        -1.64988043, -1.64990996, -1.64993935, -1.6499686 , -1.64999769,\n",
       "        -1.65002663, -1.65005541, -1.65008402, -1.65011247, -1.65014074,\n",
       "        -1.65016884, -1.6502192 , -1.65029337, -1.65037527, -1.65045639,\n",
       "        -1.65053674, -1.65061634, -1.6506952 , -1.65077334, -1.65085077,\n",
       "        -1.65094144, -1.65103988, -1.65113762, -1.65123466, -1.65133102,\n",
       "        -1.65142672, -1.65152177, -1.65161617, -1.65170994, -1.65180308,\n",
       "        -1.65189562, -1.65198756, -1.6520789 , -1.65216967, -1.65225986,\n",
       "        -1.65234949, -1.65243857, -1.6525271 , -1.6526151 , -1.65270257,\n",
       "        -1.65278951, -1.65287595, -1.65296188, -1.65304731, -1.65313225,\n",
       "        -1.65321671, -1.65330069, -1.65339794, -1.65349487, -1.65359124,\n",
       "        -1.65368706, -1.65378233, -1.65387707, -1.65397127, -1.6540653 ,\n",
       "        -1.65416237, -1.6542589 , -1.6543549 , -1.65445037, -1.65454531]),\n",
       " 'split4_test_score': array([-1.46409526, -1.46686112, -1.46769077, -1.46774663, -1.46742482,\n",
       "        -1.46689937, -1.46627335, -1.46562719, -1.46494138, -1.46424915,\n",
       "        -1.46359553, -1.4629809 , -1.46241481, -1.46185834, -1.46130644,\n",
       "        -1.46077461, -1.46026161, -1.45975594, -1.45925809, -1.45876833,\n",
       "        -1.45828678, -1.45781349, -1.45734838, -1.45689136, -1.45644229,\n",
       "        -1.45600098, -1.45557004, -1.45520719, -1.45485709, -1.45451285,\n",
       "        -1.45417432, -1.45384132, -1.45351371, -1.45319132, -1.45293718,\n",
       "        -1.45269155, -1.45245012, -1.45221276, -1.45197933, -1.45174972,\n",
       "        -1.45152378, -1.45130143, -1.45108253, -1.45086698, -1.45065469,\n",
       "        -1.45044555, -1.45023947, -1.45003637, -1.44983615, -1.44963873,\n",
       "        -1.44944403, -1.44925474, -1.44911409, -1.44897568, -1.44883944,\n",
       "        -1.44870531, -1.44857322, -1.44844313, -1.44831497, -1.4481887 ,\n",
       "        -1.44806426, -1.44794161, -1.44782071, -1.44770149, -1.44758394,\n",
       "        -1.44746799, -1.44735362, -1.44724079, -1.44712945, -1.44701958,\n",
       "        -1.44692487, -1.44684472, -1.44676532, -1.44668665, -1.44660871,\n",
       "        -1.44653148, -1.44645496, -1.44637913, -1.44630398, -1.44622951,\n",
       "        -1.44615571, -1.44608256, -1.44601006, -1.4459382 , -1.44586698,\n",
       "        -1.44579637, -1.44572638, -1.44566119, -1.44559973, -1.44553879,\n",
       "        -1.44547839, -1.44541851, -1.44535914, -1.44530027, -1.44524191,\n",
       "        -1.44518404, -1.44512666, -1.44506976, -1.44501334, -1.44495739]),\n",
       " 'split5_test_score': array([-1.61103331, -1.61203986, -1.6117991 , -1.6114782 , -1.61102382,\n",
       "        -1.61049232, -1.60992352, -1.60933792, -1.60874691, -1.60815716,\n",
       "        -1.6075727 , -1.60699832, -1.60643454, -1.60588074, -1.60533747,\n",
       "        -1.60484339, -1.60438532, -1.60393556, -1.60349418, -1.60306114,\n",
       "        -1.60263637, -1.60222834, -1.6018781 , -1.60155994, -1.60124844,\n",
       "        -1.60094346, -1.6006448 , -1.6003523 , -1.60006577, -1.59978505,\n",
       "        -1.59953   , -1.5993006 , -1.59907562, -1.59885494, -1.5986384 ,\n",
       "        -1.5984259 , -1.5982173 , -1.59801248, -1.59781132, -1.5976137 ,\n",
       "        -1.59742506, -1.597268  , -1.59711398, -1.59696291, -1.59681468,\n",
       "        -1.5966913 , -1.59658711, -1.59648944, -1.59639373, -1.59629991,\n",
       "        -1.59620792, -1.59611769, -1.59602917, -1.59594613, -1.59586517,\n",
       "        -1.5957857 , -1.59570767, -1.59563105, -1.59555577, -1.59548181,\n",
       "        -1.59540912, -1.59533767, -1.5952853 , -1.59524949, -1.5952142 ,\n",
       "        -1.59517941, -1.59514511, -1.59511128, -1.5950779 , -1.59504842,\n",
       "        -1.59502556, -1.59500305, -1.59498088, -1.59496348, -1.59495733,\n",
       "        -1.59495147, -1.59494591, -1.59494064, -1.59493563, -1.59493089,\n",
       "        -1.5949264 , -1.59492215, -1.59491813, -1.59491433, -1.59491075,\n",
       "        -1.59490737, -1.59490419, -1.5949012 , -1.59489838, -1.59489574,\n",
       "        -1.59489327, -1.59489096, -1.5948888 , -1.59488678, -1.5948849 ,\n",
       "        -1.59488316, -1.59488154, -1.59488889, -1.59490098, -1.59491323]),\n",
       " 'split6_test_score': array([-1.44738154, -1.446648  , -1.44598597, -1.44567635, -1.44527237,\n",
       "        -1.44484469, -1.44438934, -1.4439208 , -1.44344751, -1.44297458,\n",
       "        -1.44250522, -1.44204142, -1.44158447, -1.44114304, -1.44073041,\n",
       "        -1.44032919, -1.43996793, -1.43961466, -1.43926929, -1.43893169,\n",
       "        -1.43860169, -1.43827912, -1.43796379, -1.43765551, -1.43735408,\n",
       "        -1.43705932, -1.43677103, -1.4365346 , -1.43630585, -1.43609236,\n",
       "        -1.43591423, -1.43574068, -1.4355716 , -1.43540687, -1.43524638,\n",
       "        -1.43509003, -1.43493769, -1.43478926, -1.43464464, -1.43450374,\n",
       "        -1.43436644, -1.43423266, -1.4341023 , -1.43397527, -1.43385148,\n",
       "        -1.43373086, -1.43361331, -1.43350226, -1.43341674, -1.43333385,\n",
       "        -1.43326167, -1.43319584, -1.43313232, -1.43307105, -1.43301198,\n",
       "        -1.43295504, -1.43290018, -1.43284735, -1.43279649, -1.43274756,\n",
       "        -1.43270051, -1.43265843, -1.43262187, -1.43258704, -1.43255389,\n",
       "        -1.43252238, -1.43249247, -1.43246412, -1.43243729, -1.43241195,\n",
       "        -1.43238807, -1.4323656 , -1.43234451, -1.43232477, -1.43230634,\n",
       "        -1.43228921, -1.43230244, -1.43231977, -1.43233801, -1.43235713,\n",
       "        -1.43240796, -1.43246974, -1.43254705, -1.432627  , -1.43270751,\n",
       "        -1.43278857, -1.43287016, -1.43295226, -1.43303485, -1.43311793,\n",
       "        -1.43320147, -1.43328545, -1.43336987, -1.43345471, -1.43353995,\n",
       "        -1.43362558, -1.43371158, -1.43379795, -1.43388467, -1.43397173]),\n",
       " 'split7_test_score': array([-1.56639143, -1.56449436, -1.56287812, -1.56145892, -1.56026734,\n",
       "        -1.55927485, -1.55835043, -1.55748578, -1.5567126 , -1.55600479,\n",
       "        -1.55533722, -1.55474405, -1.55420218, -1.55368834, -1.55320026,\n",
       "        -1.55273594, -1.55229359, -1.5518716 , -1.55147037, -1.55123394,\n",
       "        -1.55101788, -1.55081143, -1.55061396, -1.55042492, -1.55024377,\n",
       "        -1.55007006, -1.54990337, -1.54974329, -1.54958948, -1.54944159,\n",
       "        -1.5493233 , -1.54923323, -1.54914819, -1.54906793, -1.5489922 ,\n",
       "        -1.5489208 , -1.54885352, -1.54879018, -1.54873059, -1.5486746 ,\n",
       "        -1.54862205, -1.54858018, -1.54856241, -1.5485471 , -1.54853417,\n",
       "        -1.54852352, -1.54851506, -1.5485087 , -1.54850437, -1.54850199,\n",
       "        -1.5485015 , -1.54850282, -1.5485059 , -1.54851067, -1.54851707,\n",
       "        -1.54852505, -1.54853456, -1.54854555, -1.54855797, -1.54857178,\n",
       "        -1.54858693, -1.54860337, -1.54862108, -1.54864354, -1.54870307,\n",
       "        -1.54876298, -1.54882327, -1.54888393, -1.54894495, -1.54900632,\n",
       "        -1.54906804, -1.54913009, -1.54919247, -1.54925516, -1.54931817,\n",
       "        -1.54938149, -1.5494451 , -1.549509  , -1.54957318, -1.54963764,\n",
       "        -1.54970238, -1.54976737, -1.54983262, -1.54989812, -1.54996387,\n",
       "        -1.55002986, -1.55009608, -1.55016252, -1.55022919, -1.55029607,\n",
       "        -1.55036317, -1.55043046, -1.55049796, -1.55056566, -1.55063354,\n",
       "        -1.55070161, -1.55076986, -1.55083828, -1.55090688, -1.55097564]),\n",
       " 'split8_test_score': array([-1.49964172, -1.4978658 , -1.49687146, -1.49621785, -1.49574077,\n",
       "        -1.49536612, -1.49505597, -1.49478903, -1.49455255, -1.49433845,\n",
       "        -1.49414138, -1.49395771, -1.49378483, -1.49362995, -1.49349983,\n",
       "        -1.49339141, -1.49330027, -1.49321241, -1.49312749, -1.49304523,\n",
       "        -1.49296543, -1.49288791, -1.49281252, -1.49273915, -1.49266768,\n",
       "        -1.49262294, -1.49258002, -1.49253852, -1.49249838, -1.49245956,\n",
       "        -1.492422  , -1.49238567, -1.49235053, -1.49231655, -1.4922942 ,\n",
       "        -1.49230665, -1.49231913, -1.49233168, -1.49235011, -1.49238534,\n",
       "        -1.49242054, -1.49245562, -1.4924906 , -1.49252549, -1.4925603 ,\n",
       "        -1.49259503, -1.4926297 , -1.49266431, -1.49269886, -1.49273337,\n",
       "        -1.49276784, -1.49280228, -1.49283668, -1.49288006, -1.49292427,\n",
       "        -1.49296839, -1.49301242, -1.49305637, -1.49310024, -1.49314403,\n",
       "        -1.49318775, -1.49323375, -1.49329541, -1.49337914, -1.49346266,\n",
       "        -1.49354597, -1.49362908, -1.49371198, -1.49379468, -1.49387718,\n",
       "        -1.49395948, -1.49404159, -1.4941235 , -1.49420522, -1.49428676,\n",
       "        -1.49437688, -1.49448244, -1.49461933, -1.49477769, -1.49493564,\n",
       "        -1.49509318, -1.4952503 , -1.49540702, -1.49556332, -1.49571922,\n",
       "        -1.49587472, -1.49602981, -1.4961845 , -1.49633878, -1.49649267,\n",
       "        -1.49664615, -1.49679924, -1.49695193, -1.49710423, -1.49725613,\n",
       "        -1.49740764, -1.49755875, -1.49770948, -1.49785982, -1.49800977]),\n",
       " 'split9_test_score': array([-1.62585696, -1.62525788, -1.62475151, -1.62431073, -1.6239232 ,\n",
       "        -1.62362898, -1.62337908, -1.6231636 , -1.62297904, -1.62282239,\n",
       "        -1.62269105, -1.62258272, -1.62249536, -1.62242717, -1.62237653,\n",
       "        -1.62234198, -1.62232224, -1.62233387, -1.62236485, -1.62240601,\n",
       "        -1.6225164 , -1.62263835, -1.62276716, -1.62290227, -1.62304317,\n",
       "        -1.62322975, -1.62344905, -1.62367252, -1.62389979, -1.62413054,\n",
       "        -1.62436448, -1.62462384, -1.62489773, -1.62517335, -1.62545054,\n",
       "        -1.62572911, -1.62600891, -1.6262898 , -1.62657164, -1.6268543 ,\n",
       "        -1.62713769, -1.62742168, -1.62770619, -1.62799112, -1.6282764 ,\n",
       "        -1.62856193, -1.62884767, -1.62913353, -1.62941945, -1.62970538,\n",
       "        -1.63000151, -1.63030097, -1.63060022, -1.63089923, -1.63119795,\n",
       "        -1.63149635, -1.6317944 , -1.63209206, -1.6323893 , -1.6326861 ,\n",
       "        -1.63298244, -1.63327828, -1.63357362, -1.63386842, -1.63419252,\n",
       "        -1.63451753, -1.63484165, -1.63516488, -1.63548721, -1.63581789,\n",
       "        -1.63615496, -1.63649099, -1.63682596, -1.63715987, -1.63749273,\n",
       "        -1.63782454, -1.63815528, -1.63849318, -1.638838  , -1.63919729,\n",
       "        -1.63955535, -1.63991219, -1.6402678 , -1.6406222 , -1.64097538,\n",
       "        -1.64132736, -1.64167814, -1.64202772, -1.6423831 , -1.64274299,\n",
       "        -1.64310149, -1.64345864, -1.64381443, -1.64416888, -1.644522  ,\n",
       "        -1.64487379, -1.64522428, -1.64557346, -1.64592136, -1.64626797]),\n",
       " 'mean_test_score': array([-1.60756351, -1.60695084, -1.60621529, -1.60551354, -1.60484   ,\n",
       "        -1.60420639, -1.60359646, -1.60301143, -1.60247013, -1.60197006,\n",
       "        -1.60149381, -1.60107252, -1.60067269, -1.60031173, -1.5999664 ,\n",
       "        -1.59963965, -1.59933609, -1.59904614, -1.59876695, -1.59852339,\n",
       "        -1.59830182, -1.59808919, -1.5978885 , -1.59769688, -1.59751229,\n",
       "        -1.59734661, -1.59719233, -1.59705382, -1.59692095, -1.59679361,\n",
       "        -1.59667878, -1.59657678, -1.59647983, -1.59638653, -1.59630409,\n",
       "        -1.59622873, -1.59615643, -1.59608707, -1.5960253 , -1.59596982,\n",
       "        -1.59591737, -1.59587084, -1.59582867, -1.5957886 , -1.595751  ,\n",
       "        -1.59572132, -1.59569513, -1.59567145, -1.59565344, -1.5956371 ,\n",
       "        -1.59562409, -1.59561575, -1.59561578, -1.59561916, -1.59562384,\n",
       "        -1.59562965, -1.59563653, -1.59564445, -1.59565337, -1.59566481,\n",
       "        -1.59567905, -1.59569715, -1.59572374, -1.59575524, -1.595794  ,\n",
       "        -1.5958335 , -1.59587353, -1.59591409, -1.59595515, -1.59599994,\n",
       "        -1.59604867, -1.59609911, -1.59614988, -1.59620651, -1.59626567,\n",
       "        -1.59632593, -1.59639088, -1.59646028, -1.59653606, -1.59661376,\n",
       "        -1.59669464, -1.59677722, -1.5968625 , -1.59695027, -1.59703954,\n",
       "        -1.59712882, -1.59721811, -1.59730919, -1.59740129, -1.59749393,\n",
       "        -1.59758652, -1.59767905, -1.59777152, -1.59786392, -1.59795629,\n",
       "        -1.59804894, -1.59814151, -1.59823489, -1.59833102, -1.59842899]),\n",
       " 'std_test_score': array([0.10552663, 0.10498459, 0.10468173, 0.1044082 , 0.10422142,\n",
       "        0.10408048, 0.10397226, 0.10388021, 0.10382497, 0.10379936,\n",
       "        0.10377764, 0.10379342, 0.10380642, 0.10384859, 0.10388746,\n",
       "        0.10392409, 0.10395879, 0.10399698, 0.1040367 , 0.10408434,\n",
       "        0.10414154, 0.10420001, 0.10425918, 0.10431886, 0.10437926,\n",
       "        0.10444164, 0.1045059 , 0.10455505, 0.10460326, 0.10465022,\n",
       "        0.10469273, 0.10473796, 0.10478376, 0.10482977, 0.10486626,\n",
       "        0.10489904, 0.10493211, 0.10496543, 0.10500358, 0.10504264,\n",
       "        0.10508175, 0.10512058, 0.10515849, 0.10519641, 0.10523492,\n",
       "        0.10527854, 0.1053221 , 0.10536503, 0.105406  , 0.10544699,\n",
       "        0.10548695, 0.10552709, 0.10556198, 0.10559633, 0.10563049,\n",
       "        0.10566454, 0.10569848, 0.10573231, 0.10576603, 0.10580176,\n",
       "        0.10583875, 0.10587751, 0.10591939, 0.10595882, 0.1059976 ,\n",
       "        0.10603633, 0.10607497, 0.1061135 , 0.10615192, 0.10619297,\n",
       "        0.10623316, 0.10627136, 0.10630948, 0.10635403, 0.10639994,\n",
       "        0.10644486, 0.10648364, 0.10651913, 0.1065573 , 0.10659636,\n",
       "        0.10663058, 0.10666366, 0.10669536, 0.10672983, 0.10676629,\n",
       "        0.10680267, 0.10683897, 0.10687533, 0.10691146, 0.10694775,\n",
       "        0.10698397, 0.1070201 , 0.10705616, 0.10709213, 0.10712803,\n",
       "        0.10716405, 0.10719997, 0.1072358 , 0.10727491, 0.10731547]),\n",
       " 'rank_test_score': array([100,  99,  98,  97,  96,  95,  94,  93,  92,  91,  90,  89,  88,\n",
       "         87,  86,  85,  84,  83,  82,  81,  78,  75,  72,  69,  66,  63,\n",
       "         60,  58,  55,  53,  50,  48,  46,  43,  41,  39,  37,  34,  32,\n",
       "         30,  28,  25,  23,  21,  19,  17,  15,  13,  11,   8,   5,   1,\n",
       "          2,   3,   4,   6,   7,   9,  10,  12,  14,  16,  18,  20,  22,\n",
       "         24,  26,  27,  29,  31,  33,  35,  36,  38,  40,  42,  44,  45,\n",
       "         47,  49,  51,  52,  54,  56,  57,  59,  61,  62,  64,  65,  67,\n",
       "         68,  70,  71,  73,  74,  76,  77,  79,  80])}"
      ]
     },
     "execution_count": 50,
     "metadata": {},
     "output_type": "execute_result"
    }
   ],
   "source": [
    "grid_search.cv_results_"
   ]
  },
  {
   "cell_type": "code",
   "execution_count": 57,
   "id": "91d9192c",
   "metadata": {},
   "outputs": [],
   "source": [
    "def report(results, n_top=3):\n",
    "    for i in range(1, n_top+1):\n",
    "        candidates=np.flatnonzero(results['rank_test_score']==1)\n",
    "        for candidate in candidates:\n",
    "            print(\"Model with rank: {0}\".format(i))\n",
    "            print(\"Mean with score: {0:.6f} (std: {1:.6f})\".format(\n",
    "                    results['mean_test_score'][candidate],\n",
    "                    results['std_test_score'][candidate]))\n",
    "            print(\"Parameters: {0}\".format(results['params'][candidate]))\n",
    "            print(\"\")"
   ]
  },
  {
   "cell_type": "code",
   "execution_count": 58,
   "id": "f687dc3f",
   "metadata": {},
   "outputs": [
    {
     "name": "stdout",
     "output_type": "stream",
     "text": [
      "Model with rank: 1\n",
      "Mean with score: -1.595616 (std: 0.105527)\n",
      "Parameters: {'alpha': 52.0}\n",
      "\n",
      "Model with rank: 2\n",
      "Mean with score: -1.595616 (std: 0.105527)\n",
      "Parameters: {'alpha': 52.0}\n",
      "\n",
      "Model with rank: 3\n",
      "Mean with score: -1.595616 (std: 0.105527)\n",
      "Parameters: {'alpha': 52.0}\n",
      "\n",
      "Model with rank: 4\n",
      "Mean with score: -1.595616 (std: 0.105527)\n",
      "Parameters: {'alpha': 52.0}\n",
      "\n",
      "Model with rank: 5\n",
      "Mean with score: -1.595616 (std: 0.105527)\n",
      "Parameters: {'alpha': 52.0}\n",
      "\n"
     ]
    }
   ],
   "source": [
    "report(grid_search.cv_results_,5)"
   ]
  },
  {
   "cell_type": "code",
   "execution_count": 55,
   "id": "c39b31b3",
   "metadata": {},
   "outputs": [],
   "source": [
    "test_pred=grid_search.predict(x_test)\n"
   ]
  },
  {
   "cell_type": "code",
   "execution_count": 56,
   "id": "07c6f356",
   "metadata": {},
   "outputs": [],
   "source": [
    "pd.DataFrame(test_pred).to_csv(\"mysubmission.csv\",index=False)"
   ]
  },
  {
   "cell_type": "markdown",
   "id": "3142d6e5",
   "metadata": {},
   "source": [
    "# For looking at coefficients"
   ]
  },
  {
   "cell_type": "code",
   "execution_count": 61,
   "id": "88bc4421",
   "metadata": {},
   "outputs": [
    {
     "data": {
      "text/plain": [
       "Ridge(alpha=52.0)"
      ]
     },
     "execution_count": 61,
     "metadata": {},
     "output_type": "execute_result"
    }
   ],
   "source": [
    "grid_search.best_estimator_"
   ]
  },
  {
   "cell_type": "code",
   "execution_count": 63,
   "id": "24ff252f",
   "metadata": {},
   "outputs": [],
   "source": [
    "ridge_model=grid_search.best_estimator_"
   ]
  },
  {
   "cell_type": "code",
   "execution_count": 67,
   "id": "609ed555",
   "metadata": {},
   "outputs": [
    {
     "data": {
      "text/plain": [
       "Ridge(alpha=52.0)"
      ]
     },
     "execution_count": 67,
     "metadata": {},
     "output_type": "execute_result"
    }
   ],
   "source": [
    "ridge_model.fit(x_train,y_train)"
   ]
  },
  {
   "cell_type": "code",
   "execution_count": 69,
   "id": "d9bc17b7",
   "metadata": {},
   "outputs": [
    {
     "data": {
      "text/plain": [
       "[('obj_to_num__Amount.Requested', 5.383444413767522e-05),\n",
       " ('obj_to_num__Amount.Funded.By.Investors', 0.0001169487337172785),\n",
       " ('obj_to_num__Open.CREDIT.Lines', -0.037345051670880196),\n",
       " ('obj_to_num__Revolving.CREDIT.Balance', -1.6516471925073336e-06),\n",
       " ('dtir__Debt.To.Income.Ratio', -0.003258177978240321),\n",
       " ('obj_to_dum__Loan.Length_36 months', -1.3975295622820385),\n",
       " ('obj_to_dum__Loan.Length_60 months', 1.503370825522087),\n",
       " ('obj_to_dum__Loan.Purpose_debt_consolidation', -0.3610806205941122),\n",
       " ('obj_to_dum__Loan.Purpose_credit_card', -0.4286788571540991),\n",
       " ('obj_to_dum__Loan.Purpose_other', 0.35459508178819626),\n",
       " ('obj_to_dum__Loan.Purpose_home_improvement', -0.10847435939811281),\n",
       " ('obj_to_dum__Loan.Purpose_major_purchase', -0.009538670174966924),\n",
       " ('obj_to_dum__Loan.Purpose_small_business', 0.1210675034024651),\n",
       " ('obj_to_dum__Loan.Purpose_car', -0.025733587150162517),\n",
       " ('obj_to_dum__Loan.Purpose_wedding', -0.2381204685265295),\n",
       " ('obj_to_dum__Loan.Purpose_medical', -0.07485256687306582),\n",
       " ('obj_to_dum__Loan.Purpose_moving', 0.35024321507960643),\n",
       " ('obj_to_dum__State_CA', -0.09593361930030911),\n",
       " ('obj_to_dum__State_NY', -0.020854645041995242),\n",
       " ('obj_to_dum__State_FL', 0.034722046749118114),\n",
       " ('obj_to_dum__State_TX', 0.39307313043316994),\n",
       " ('obj_to_dum__State_PA', -0.24682542543961997),\n",
       " ('obj_to_dum__State_IL', -0.32135562274956886),\n",
       " ('obj_to_dum__State_GA', -0.03169807500853693),\n",
       " ('obj_to_dum__State_NJ', -0.16483168025601982),\n",
       " ('obj_to_dum__State_VA', -0.02019194762340633),\n",
       " ('obj_to_dum__State_MA', -0.03326343479040472),\n",
       " ('obj_to_dum__State_NC', -0.22795327523848202),\n",
       " ('obj_to_dum__State_OH', -0.08147992612896525),\n",
       " ('obj_to_dum__State_MD', 0.007151811260492212),\n",
       " ('obj_to_dum__State_CO', 0.08816462571775391),\n",
       " ('obj_to_dum__State_WA', -0.08729567734744062),\n",
       " ('obj_to_dum__State_CT', 0.21497955627669205),\n",
       " ('obj_to_dum__State_AZ', 0.21355103161713423),\n",
       " ('obj_to_dum__State_MI', -0.010289325809009433),\n",
       " ('obj_to_dum__State_AL', 0.044808275765817605),\n",
       " ('obj_to_dum__State_MN', -0.027903413007768753),\n",
       " ('obj_to_dum__State_MO', -0.06963029256100749),\n",
       " ('obj_to_dum__State_NV', -0.006657296281651146),\n",
       " ('obj_to_dum__State_SC', -0.00025885018120978923),\n",
       " ('obj_to_dum__State_WI', 0.03392228449719109),\n",
       " ('obj_to_dum__State_OR', 0.029341724556269),\n",
       " ('obj_to_dum__State_KS', 0.10248539141818563),\n",
       " ('obj_to_dum__Home.Ownership_MORTGAGE', -0.2554939305401458),\n",
       " ('obj_to_dum__Home.Ownership_RENT', -0.047718935052473474),\n",
       " ('obj_to_dum__Home.Ownership_OWN', 0.062476017412504935),\n",
       " ('obj_to_dum__Employment.Length_10+ years', 0.12924994807765058),\n",
       " ('obj_to_dum__Employment.Length_< 1 year', 0.002560413200951818),\n",
       " ('obj_to_dum__Employment.Length_2 years', -0.006590943528404446),\n",
       " ('obj_to_dum__Employment.Length_3 years', -0.14946570195851808),\n",
       " ('obj_to_dum__Employment.Length_5 years', 0.18585124451094306),\n",
       " ('obj_to_dum__Employment.Length_4 years', 0.058306116109351984),\n",
       " ('obj_to_dum__Employment.Length_1 year', -0.08544444911445982),\n",
       " ('obj_to_dum__Employment.Length_6 years', 0.023948065999806006),\n",
       " ('obj_to_dum__Employment.Length_7 years', -0.03082806219811285),\n",
       " ('obj_to_dum__Employment.Length_8 years', -0.04487912406393069),\n",
       " ('obj_to_dum__Employment.Length_missing', 0.11684322929587808),\n",
       " ('obj_to_dum__Employment.Length_9 years', -0.191399320421748),\n",
       " ('num__Monthly.Income', -3.192275887589379e-05),\n",
       " ('num__Inquiries.in.the.Last.6.Months', 0.3684065838361862),\n",
       " ('fico__fico', -0.08647433968850977)]"
      ]
     },
     "execution_count": 69,
     "metadata": {},
     "output_type": "execute_result"
    }
   ],
   "source": [
    "list(zip(data_pipe.get_feature_names(),ridge_model.coef_))"
   ]
  },
  {
   "cell_type": "code",
   "execution_count": 71,
   "id": "3d63a58b",
   "metadata": {},
   "outputs": [
    {
     "data": {
      "text/plain": [
       "array([ 9.12235721e-01,  1.00256033e+00,  9.85514123e-01,  9.48802079e-01,\n",
       "        6.62620633e-01, -9.62991443e-01,  2.99436675e+00,  2.20327071e+00,\n",
       "        2.08786517e+00,  9.70407387e-02,  5.20824834e+00,  4.40072082e+01,\n",
       "       -1.79873072e+00,  2.03429690e+01,  3.99350690e+00,  8.34416481e+00,\n",
       "        2.02828588e+00,  1.97607745e+00,  7.77177953e+00, -1.10582014e+00,\n",
       "        1.20133705e+00,  1.90912092e+00,  1.86050551e+00,  4.07342698e+00,\n",
       "        2.11136544e+00,  8.04342204e+00,  3.77678751e+00,  2.31920434e+00,\n",
       "        2.24331658e+00, -1.44254401e+01,  7.66775519e-01,  3.24664958e+00,\n",
       "        1.99983159e+00,  1.82451766e+00,  9.79955153e+00,  2.66751144e-01,\n",
       "        5.60056258e+00,  3.91109475e+00,  3.27672426e+01,  1.84760782e+02,\n",
       "       -3.35867187e-02,  5.79623367e-01,  2.38979704e+00,  9.51444312e+00,\n",
       "        4.61958547e+01, -3.32377663e+01,  4.27162268e+00,  1.55094409e+02,\n",
       "       -5.34961743e+01, -1.25636099e+00,  3.38509736e+00,  7.92124371e+00,\n",
       "       -3.73157266e+00,  1.75124864e+01, -1.27164331e+01, -6.82861926e+00,\n",
       "        5.35768178e+00, -3.88548706e-01,  9.16836410e-01,  9.97649483e-01,\n",
       "        9.98723244e-01])"
      ]
     },
     "execution_count": 71,
     "metadata": {},
     "output_type": "execute_result"
    }
   ],
   "source": [
    "lm.coef_/ridge_model.coef_"
   ]
  },
  {
   "cell_type": "markdown",
   "id": "05d0b250",
   "metadata": {},
   "source": [
    "# Lasso Regression"
   ]
  },
  {
   "cell_type": "code",
   "execution_count": 73,
   "id": "e66e22a1",
   "metadata": {},
   "outputs": [],
   "source": [
    "lambdasL=np.linspace(1,10,199)"
   ]
  },
  {
   "cell_type": "code",
   "execution_count": 77,
   "id": "4aa3a4ce",
   "metadata": {},
   "outputs": [],
   "source": [
    "model=Lasso(fit_intercept=True)\n",
    "\n",
    "params={'alpha':lambdasL}"
   ]
  },
  {
   "cell_type": "code",
   "execution_count": 84,
   "id": "639c1c42",
   "metadata": {},
   "outputs": [],
   "source": [
    "grid_search=GridSearchCV(model,param_grid=params,cv=10,\n",
    "                        scoring='neg_mean_absolute_error',verbose=20, n_jobs=-1)"
   ]
  },
  {
   "cell_type": "code",
   "execution_count": 89,
   "id": "c338d688",
   "metadata": {},
   "outputs": [
    {
     "name": "stdout",
     "output_type": "stream",
     "text": [
      "Fitting 10 folds for each of 199 candidates, totalling 1990 fits\n"
     ]
    },
    {
     "data": {
      "text/plain": [
       "GridSearchCV(cv=10, estimator=Lasso(), n_jobs=-1,\n",
       "             param_grid={'alpha': array([ 1.        ,  1.04545455,  1.09090909,  1.13636364,  1.18181818,\n",
       "        1.22727273,  1.27272727,  1.31818182,  1.36363636,  1.40909091,\n",
       "        1.45454545,  1.5       ,  1.54545455,  1.59090909,  1.63636364,\n",
       "        1.68181818,  1.72727273,  1.77272727,  1.81818182,  1.86363636,\n",
       "        1.90909091,  1.95454545,  2.        ,  2.04545455,  2.09090909,\n",
       "        2.13636364,  2.18181818,  2....\n",
       "        8.5       ,  8.54545455,  8.59090909,  8.63636364,  8.68181818,\n",
       "        8.72727273,  8.77272727,  8.81818182,  8.86363636,  8.90909091,\n",
       "        8.95454545,  9.        ,  9.04545455,  9.09090909,  9.13636364,\n",
       "        9.18181818,  9.22727273,  9.27272727,  9.31818182,  9.36363636,\n",
       "        9.40909091,  9.45454545,  9.5       ,  9.54545455,  9.59090909,\n",
       "        9.63636364,  9.68181818,  9.72727273,  9.77272727,  9.81818182,\n",
       "        9.86363636,  9.90909091,  9.95454545, 10.        ])},\n",
       "             scoring='neg_mean_absolute_error', verbose=20)"
      ]
     },
     "execution_count": 89,
     "metadata": {},
     "output_type": "execute_result"
    }
   ],
   "source": [
    "grid_search.fit(x_train,y_train)"
   ]
  },
  {
   "cell_type": "code",
   "execution_count": 90,
   "id": "71324b14",
   "metadata": {},
   "outputs": [
    {
     "data": {
      "text/plain": [
       "Lasso()"
      ]
     },
     "execution_count": 90,
     "metadata": {},
     "output_type": "execute_result"
    }
   ],
   "source": [
    "grid_search.best_estimator_"
   ]
  },
  {
   "cell_type": "code",
   "execution_count": 93,
   "id": "da1a792e",
   "metadata": {},
   "outputs": [
    {
     "name": "stdout",
     "output_type": "stream",
     "text": [
      "Model with rank: 1\n",
      "Mean with score: -1.935871 (std: 0.123812)\n",
      "Parameters: {'alpha': 1.0}\n",
      "\n",
      "Model with rank: 2\n",
      "Mean with score: -1.935871 (std: 0.123812)\n",
      "Parameters: {'alpha': 1.0}\n",
      "\n",
      "Model with rank: 3\n",
      "Mean with score: -1.935871 (std: 0.123812)\n",
      "Parameters: {'alpha': 1.0}\n",
      "\n",
      "Model with rank: 4\n",
      "Mean with score: -1.935871 (std: 0.123812)\n",
      "Parameters: {'alpha': 1.0}\n",
      "\n",
      "Model with rank: 5\n",
      "Mean with score: -1.935871 (std: 0.123812)\n",
      "Parameters: {'alpha': 1.0}\n",
      "\n"
     ]
    }
   ],
   "source": [
    "report(grid_search.cv_results_,5)"
   ]
  },
  {
   "cell_type": "code",
   "execution_count": 94,
   "id": "d97c40bc",
   "metadata": {},
   "outputs": [],
   "source": [
    "lasso_model=grid_search.best_estimator_"
   ]
  },
  {
   "cell_type": "code",
   "execution_count": 96,
   "id": "a81d66ef",
   "metadata": {},
   "outputs": [
    {
     "data": {
      "text/plain": [
       "Lasso()"
      ]
     },
     "execution_count": 96,
     "metadata": {},
     "output_type": "execute_result"
    }
   ],
   "source": [
    "lasso_model.fit(x_train,y_train)"
   ]
  },
  {
   "cell_type": "code",
   "execution_count": 97,
   "id": "e4e7540b",
   "metadata": {},
   "outputs": [
    {
     "data": {
      "text/plain": [
       "71.79626999229602"
      ]
     },
     "execution_count": 97,
     "metadata": {},
     "output_type": "execute_result"
    }
   ],
   "source": [
    "lasso_model.intercept_"
   ]
  },
  {
   "cell_type": "code",
   "execution_count": 99,
   "id": "2f9201d4",
   "metadata": {},
   "outputs": [
    {
     "data": {
      "text/plain": [
       "[('obj_to_num__Amount.Requested', 0.00015220872219521618),\n",
       " ('obj_to_num__Amount.Funded.By.Investors', 7.456423772043643e-05),\n",
       " ('obj_to_num__Open.CREDIT.Lines', -0.0),\n",
       " ('obj_to_num__Revolving.CREDIT.Balance', -7.993743816640147e-06),\n",
       " ('dtir__Debt.To.Income.Ratio', -0.0),\n",
       " ('obj_to_dum__Loan.Length_36 months', -0.0),\n",
       " ('obj_to_dum__Loan.Length_60 months', 0.0),\n",
       " ('obj_to_dum__Loan.Purpose_debt_consolidation', -0.0),\n",
       " ('obj_to_dum__Loan.Purpose_credit_card', -0.0),\n",
       " ('obj_to_dum__Loan.Purpose_other', 0.0),\n",
       " ('obj_to_dum__Loan.Purpose_home_improvement', 0.0),\n",
       " ('obj_to_dum__Loan.Purpose_major_purchase', 0.0),\n",
       " ('obj_to_dum__Loan.Purpose_small_business', 0.0),\n",
       " ('obj_to_dum__Loan.Purpose_car', 0.0),\n",
       " ('obj_to_dum__Loan.Purpose_wedding', -0.0),\n",
       " ('obj_to_dum__Loan.Purpose_medical', -0.0),\n",
       " ('obj_to_dum__Loan.Purpose_moving', 0.0),\n",
       " ('obj_to_dum__State_CA', -0.0),\n",
       " ('obj_to_dum__State_NY', 0.0),\n",
       " ('obj_to_dum__State_FL', -0.0),\n",
       " ('obj_to_dum__State_TX', 0.0),\n",
       " ('obj_to_dum__State_PA', -0.0),\n",
       " ('obj_to_dum__State_IL', -0.0),\n",
       " ('obj_to_dum__State_GA', -0.0),\n",
       " ('obj_to_dum__State_NJ', -0.0),\n",
       " ('obj_to_dum__State_VA', 0.0),\n",
       " ('obj_to_dum__State_MA', -0.0),\n",
       " ('obj_to_dum__State_NC', -0.0),\n",
       " ('obj_to_dum__State_OH', -0.0),\n",
       " ('obj_to_dum__State_MD', 0.0),\n",
       " ('obj_to_dum__State_CO', 0.0),\n",
       " ('obj_to_dum__State_WA', -0.0),\n",
       " ('obj_to_dum__State_CT', 0.0),\n",
       " ('obj_to_dum__State_AZ', 0.0),\n",
       " ('obj_to_dum__State_MI', -0.0),\n",
       " ('obj_to_dum__State_AL', 0.0),\n",
       " ('obj_to_dum__State_MN', 0.0),\n",
       " ('obj_to_dum__State_MO', 0.0),\n",
       " ('obj_to_dum__State_NV', -0.0),\n",
       " ('obj_to_dum__State_SC', -0.0),\n",
       " ('obj_to_dum__State_WI', 0.0),\n",
       " ('obj_to_dum__State_OR', -0.0),\n",
       " ('obj_to_dum__State_KS', 0.0),\n",
       " ('obj_to_dum__Home.Ownership_MORTGAGE', -0.0),\n",
       " ('obj_to_dum__Home.Ownership_RENT', 0.0),\n",
       " ('obj_to_dum__Home.Ownership_OWN', 0.0),\n",
       " ('obj_to_dum__Employment.Length_10+ years', 0.0),\n",
       " ('obj_to_dum__Employment.Length_< 1 year', -0.0),\n",
       " ('obj_to_dum__Employment.Length_2 years', 0.0),\n",
       " ('obj_to_dum__Employment.Length_3 years', -0.0),\n",
       " ('obj_to_dum__Employment.Length_5 years', 0.0),\n",
       " ('obj_to_dum__Employment.Length_4 years', 0.0),\n",
       " ('obj_to_dum__Employment.Length_1 year', -0.0),\n",
       " ('obj_to_dum__Employment.Length_6 years', 0.0),\n",
       " ('obj_to_dum__Employment.Length_7 years', -0.0),\n",
       " ('obj_to_dum__Employment.Length_8 years', -0.0),\n",
       " ('obj_to_dum__Employment.Length_missing', 0.0),\n",
       " ('obj_to_dum__Employment.Length_9 years', -0.0),\n",
       " ('num__Monthly.Income', -5.1373188907657045e-05),\n",
       " ('num__Inquiries.in.the.Last.6.Months', 0.0),\n",
       " ('fico__fico', -0.08633134700261184)]"
      ]
     },
     "execution_count": 99,
     "metadata": {},
     "output_type": "execute_result"
    }
   ],
   "source": [
    "list(zip(data_pipe.get_feature_names(),lasso_model.coef_))"
   ]
  },
  {
   "cell_type": "code",
   "execution_count": 100,
   "id": "4658092e",
   "metadata": {},
   "outputs": [
    {
     "data": {
      "text/plain": [
       "56"
      ]
     },
     "execution_count": 100,
     "metadata": {},
     "output_type": "execute_result"
    }
   ],
   "source": [
    "(lasso_model.coef_==0).sum()"
   ]
  },
  {
   "cell_type": "code",
   "execution_count": null,
   "id": "d0200a74",
   "metadata": {},
   "outputs": [],
   "source": []
  }
 ],
 "metadata": {
  "kernelspec": {
   "display_name": "Python 3 (ipykernel)",
   "language": "python",
   "name": "python3"
  },
  "language_info": {
   "codemirror_mode": {
    "name": "ipython",
    "version": 3
   },
   "file_extension": ".py",
   "mimetype": "text/x-python",
   "name": "python",
   "nbconvert_exporter": "python",
   "pygments_lexer": "ipython3",
   "version": "3.8.12"
  }
 },
 "nbformat": 4,
 "nbformat_minor": 5
}
