{
 "cells": [
  {
   "cell_type": "code",
   "execution_count": 1,
   "id": "79a5c639",
   "metadata": {},
   "outputs": [],
   "source": [
    "import warnings\n",
    "\n",
    "warnings.filterwarnings('ignore')\n",
    "\n",
    "import pandas as pd\n",
    "import numpy as np\n",
    "\n",
    "from sklearn.pipeline import Pipeline, FeatureUnion\n",
    "from sklearn.base import BaseEstimator,TransformerMixin\n",
    "\n",
    "from mypipes import *"
   ]
  },
  {
   "cell_type": "code",
   "execution_count": 2,
   "id": "0e484ef2",
   "metadata": {},
   "outputs": [],
   "source": [
    "train_file='rg_train.csv'\n",
    "test_file='rg_test.csv'\n",
    "\n",
    "bd_train=pd.read_csv(train_file)\n",
    "bd_test=pd.read_csv(test_file)"
   ]
  },
  {
   "cell_type": "code",
   "execution_count": 3,
   "id": "a5646c79",
   "metadata": {},
   "outputs": [
    {
     "data": {
      "text/html": [
       "<div>\n",
       "<style scoped>\n",
       "    .dataframe tbody tr th:only-of-type {\n",
       "        vertical-align: middle;\n",
       "    }\n",
       "\n",
       "    .dataframe tbody tr th {\n",
       "        vertical-align: top;\n",
       "    }\n",
       "\n",
       "    .dataframe thead th {\n",
       "        text-align: right;\n",
       "    }\n",
       "</style>\n",
       "<table border=\"1\" class=\"dataframe\">\n",
       "  <thead>\n",
       "    <tr style=\"text-align: right;\">\n",
       "      <th></th>\n",
       "      <th>REF_NO</th>\n",
       "      <th>children</th>\n",
       "      <th>age_band</th>\n",
       "      <th>status</th>\n",
       "      <th>occupation</th>\n",
       "      <th>occupation_partner</th>\n",
       "      <th>home_status</th>\n",
       "      <th>family_income</th>\n",
       "      <th>self_employed</th>\n",
       "      <th>self_employed_partner</th>\n",
       "      <th>...</th>\n",
       "      <th>Investment.Tax.Saving.Bond</th>\n",
       "      <th>Home.Loan</th>\n",
       "      <th>Online.Purchase.Amount</th>\n",
       "      <th>Revenue.Grid</th>\n",
       "      <th>gender</th>\n",
       "      <th>region</th>\n",
       "      <th>Investment.in.Commudity</th>\n",
       "      <th>Investment.in.Equity</th>\n",
       "      <th>Investment.in.Derivative</th>\n",
       "      <th>Portfolio.Balance</th>\n",
       "    </tr>\n",
       "  </thead>\n",
       "  <tbody>\n",
       "    <tr>\n",
       "      <th>0</th>\n",
       "      <td>2148</td>\n",
       "      <td>1</td>\n",
       "      <td>45-50</td>\n",
       "      <td>Partner</td>\n",
       "      <td>Professional</td>\n",
       "      <td>Professional</td>\n",
       "      <td>Rent Privately</td>\n",
       "      <td>&gt;=35,000</td>\n",
       "      <td>Yes</td>\n",
       "      <td>Yes</td>\n",
       "      <td>...</td>\n",
       "      <td>7.49</td>\n",
       "      <td>2.48</td>\n",
       "      <td>0.0</td>\n",
       "      <td>2</td>\n",
       "      <td>Female</td>\n",
       "      <td>South West</td>\n",
       "      <td>65.87</td>\n",
       "      <td>9.27</td>\n",
       "      <td>30.93</td>\n",
       "      <td>87.48</td>\n",
       "    </tr>\n",
       "    <tr>\n",
       "      <th>1</th>\n",
       "      <td>8099</td>\n",
       "      <td>1</td>\n",
       "      <td>61-65</td>\n",
       "      <td>Partner</td>\n",
       "      <td>Retired</td>\n",
       "      <td>Retired</td>\n",
       "      <td>Own Home</td>\n",
       "      <td>&lt;12,500, &gt;=10,000</td>\n",
       "      <td>No</td>\n",
       "      <td>No</td>\n",
       "      <td>...</td>\n",
       "      <td>0.00</td>\n",
       "      <td>3.99</td>\n",
       "      <td>0.0</td>\n",
       "      <td>2</td>\n",
       "      <td>Female</td>\n",
       "      <td>Unknown</td>\n",
       "      <td>42.46</td>\n",
       "      <td>4.49</td>\n",
       "      <td>26.23</td>\n",
       "      <td>110.73</td>\n",
       "    </tr>\n",
       "    <tr>\n",
       "      <th>2</th>\n",
       "      <td>6611</td>\n",
       "      <td>3</td>\n",
       "      <td>31-35</td>\n",
       "      <td>Partner</td>\n",
       "      <td>Professional</td>\n",
       "      <td>Professional</td>\n",
       "      <td>Own Home</td>\n",
       "      <td>&gt;=35,000</td>\n",
       "      <td>No</td>\n",
       "      <td>No</td>\n",
       "      <td>...</td>\n",
       "      <td>0.00</td>\n",
       "      <td>0.00</td>\n",
       "      <td>0.0</td>\n",
       "      <td>2</td>\n",
       "      <td>Male</td>\n",
       "      <td>East Anglia</td>\n",
       "      <td>75.38</td>\n",
       "      <td>0.00</td>\n",
       "      <td>26.66</td>\n",
       "      <td>127.57</td>\n",
       "    </tr>\n",
       "    <tr>\n",
       "      <th>3</th>\n",
       "      <td>1950</td>\n",
       "      <td>Zero</td>\n",
       "      <td>55-60</td>\n",
       "      <td>Partner</td>\n",
       "      <td>Professional</td>\n",
       "      <td>Professional</td>\n",
       "      <td>Own Home</td>\n",
       "      <td>&gt;=35,000</td>\n",
       "      <td>No</td>\n",
       "      <td>No</td>\n",
       "      <td>...</td>\n",
       "      <td>2.00</td>\n",
       "      <td>0.00</td>\n",
       "      <td>0.0</td>\n",
       "      <td>2</td>\n",
       "      <td>Female</td>\n",
       "      <td>North West</td>\n",
       "      <td>34.78</td>\n",
       "      <td>6.91</td>\n",
       "      <td>29.24</td>\n",
       "      <td>33.79</td>\n",
       "    </tr>\n",
       "    <tr>\n",
       "      <th>4</th>\n",
       "      <td>10857</td>\n",
       "      <td>2</td>\n",
       "      <td>51-55</td>\n",
       "      <td>Partner</td>\n",
       "      <td>Manual Worker</td>\n",
       "      <td>Manual Worker</td>\n",
       "      <td>Own Home</td>\n",
       "      <td>&lt;27,500, &gt;=25,000</td>\n",
       "      <td>Yes</td>\n",
       "      <td>Yes</td>\n",
       "      <td>...</td>\n",
       "      <td>0.00</td>\n",
       "      <td>0.00</td>\n",
       "      <td>0.0</td>\n",
       "      <td>2</td>\n",
       "      <td>Female</td>\n",
       "      <td>South West</td>\n",
       "      <td>48.58</td>\n",
       "      <td>9.58</td>\n",
       "      <td>20.65</td>\n",
       "      <td>56.17</td>\n",
       "    </tr>\n",
       "  </tbody>\n",
       "</table>\n",
       "<p>5 rows × 32 columns</p>\n",
       "</div>"
      ],
      "text/plain": [
       "   REF_NO children age_band   status     occupation occupation_partner  \\\n",
       "0    2148        1    45-50  Partner   Professional       Professional   \n",
       "1    8099        1    61-65  Partner        Retired            Retired   \n",
       "2    6611        3    31-35  Partner   Professional       Professional   \n",
       "3    1950     Zero    55-60  Partner   Professional       Professional   \n",
       "4   10857        2    51-55  Partner  Manual Worker      Manual Worker   \n",
       "\n",
       "      home_status      family_income self_employed self_employed_partner  ...  \\\n",
       "0  Rent Privately           >=35,000           Yes                   Yes  ...   \n",
       "1        Own Home  <12,500, >=10,000            No                    No  ...   \n",
       "2        Own Home           >=35,000            No                    No  ...   \n",
       "3        Own Home           >=35,000            No                    No  ...   \n",
       "4        Own Home  <27,500, >=25,000           Yes                   Yes  ...   \n",
       "\n",
       "   Investment.Tax.Saving.Bond Home.Loan Online.Purchase.Amount Revenue.Grid  \\\n",
       "0                        7.49      2.48                    0.0            2   \n",
       "1                        0.00      3.99                    0.0            2   \n",
       "2                        0.00      0.00                    0.0            2   \n",
       "3                        2.00      0.00                    0.0            2   \n",
       "4                        0.00      0.00                    0.0            2   \n",
       "\n",
       "   gender       region  Investment.in.Commudity  Investment.in.Equity  \\\n",
       "0  Female   South West                    65.87                  9.27   \n",
       "1  Female      Unknown                    42.46                  4.49   \n",
       "2    Male  East Anglia                    75.38                  0.00   \n",
       "3  Female   North West                    34.78                  6.91   \n",
       "4  Female   South West                    48.58                  9.58   \n",
       "\n",
       "   Investment.in.Derivative  Portfolio.Balance  \n",
       "0                     30.93              87.48  \n",
       "1                     26.23             110.73  \n",
       "2                     26.66             127.57  \n",
       "3                     29.24              33.79  \n",
       "4                     20.65              56.17  \n",
       "\n",
       "[5 rows x 32 columns]"
      ]
     },
     "execution_count": 3,
     "metadata": {},
     "output_type": "execute_result"
    }
   ],
   "source": [
    "bd_train.head()"
   ]
  },
  {
   "cell_type": "code",
   "execution_count": 4,
   "id": "2b526e3a",
   "metadata": {},
   "outputs": [
    {
     "name": "stdout",
     "output_type": "stream",
     "text": [
      "<class 'pandas.core.frame.DataFrame'>\n",
      "RangeIndex: 8124 entries, 0 to 8123\n",
      "Data columns (total 32 columns):\n",
      " #   Column                           Non-Null Count  Dtype  \n",
      "---  ------                           --------------  -----  \n",
      " 0   REF_NO                           8124 non-null   int64  \n",
      " 1   children                         8124 non-null   object \n",
      " 2   age_band                         8124 non-null   object \n",
      " 3   status                           8124 non-null   object \n",
      " 4   occupation                       8124 non-null   object \n",
      " 5   occupation_partner               8124 non-null   object \n",
      " 6   home_status                      8124 non-null   object \n",
      " 7   family_income                    8124 non-null   object \n",
      " 8   self_employed                    8124 non-null   object \n",
      " 9   self_employed_partner            8124 non-null   object \n",
      " 10  year_last_moved                  8124 non-null   int64  \n",
      " 11  TVarea                           8124 non-null   object \n",
      " 12  post_code                        8124 non-null   object \n",
      " 13  post_area                        8124 non-null   object \n",
      " 14  Average.Credit.Card.Transaction  8124 non-null   float64\n",
      " 15  Balance.Transfer                 8124 non-null   float64\n",
      " 16  Term.Deposit                     8124 non-null   float64\n",
      " 17  Life.Insurance                   8124 non-null   float64\n",
      " 18  Medical.Insurance                8124 non-null   float64\n",
      " 19  Average.A.C.Balance              8124 non-null   float64\n",
      " 20  Personal.Loan                    8124 non-null   float64\n",
      " 21  Investment.in.Mutual.Fund        8124 non-null   float64\n",
      " 22  Investment.Tax.Saving.Bond       8124 non-null   float64\n",
      " 23  Home.Loan                        8124 non-null   float64\n",
      " 24  Online.Purchase.Amount           8124 non-null   float64\n",
      " 25  Revenue.Grid                     8124 non-null   int64  \n",
      " 26  gender                           8124 non-null   object \n",
      " 27  region                           8124 non-null   object \n",
      " 28  Investment.in.Commudity          8124 non-null   float64\n",
      " 29  Investment.in.Equity             8124 non-null   float64\n",
      " 30  Investment.in.Derivative         8124 non-null   float64\n",
      " 31  Portfolio.Balance                8124 non-null   float64\n",
      "dtypes: float64(15), int64(3), object(14)\n",
      "memory usage: 2.0+ MB\n"
     ]
    }
   ],
   "source": [
    "bd_train.info()"
   ]
  },
  {
   "cell_type": "code",
   "execution_count": 5,
   "id": "a5b00b53",
   "metadata": {},
   "outputs": [
    {
     "data": {
      "text/plain": [
       "2    7261\n",
       "1     863\n",
       "Name: Revenue.Grid, dtype: int64"
      ]
     },
     "execution_count": 5,
     "metadata": {},
     "output_type": "execute_result"
    }
   ],
   "source": [
    "bd_train['Revenue.Grid'].value_counts()"
   ]
  },
  {
   "cell_type": "code",
   "execution_count": 6,
   "id": "b6d1935e",
   "metadata": {},
   "outputs": [
    {
     "data": {
      "text/plain": [
       "Zero    4966\n",
       "1       1491\n",
       "2       1282\n",
       "3        373\n",
       "4+        12\n",
       "Name: children, dtype: int64"
      ]
     },
     "execution_count": 6,
     "metadata": {},
     "output_type": "execute_result"
    }
   ],
   "source": [
    "bd_train['children'].value_counts(dropna=True)"
   ]
  },
  {
   "cell_type": "code",
   "execution_count": 7,
   "id": "209730f6",
   "metadata": {},
   "outputs": [
    {
     "data": {
      "text/plain": [
       "8048"
      ]
     },
     "execution_count": 7,
     "metadata": {},
     "output_type": "execute_result"
    }
   ],
   "source": [
    "bd_train['post_code'].nunique()"
   ]
  },
  {
   "cell_type": "code",
   "execution_count": 8,
   "id": "200ff76e",
   "metadata": {},
   "outputs": [
    {
     "data": {
      "text/html": [
       "<div>\n",
       "<style scoped>\n",
       "    .dataframe tbody tr th:only-of-type {\n",
       "        vertical-align: middle;\n",
       "    }\n",
       "\n",
       "    .dataframe tbody tr th {\n",
       "        vertical-align: top;\n",
       "    }\n",
       "\n",
       "    .dataframe thead th {\n",
       "        text-align: right;\n",
       "    }\n",
       "</style>\n",
       "<table border=\"1\" class=\"dataframe\">\n",
       "  <thead>\n",
       "    <tr style=\"text-align: right;\">\n",
       "      <th>Revenue.Grid</th>\n",
       "      <th>post_area</th>\n",
       "      <th>1</th>\n",
       "      <th>2</th>\n",
       "    </tr>\n",
       "  </thead>\n",
       "  <tbody>\n",
       "    <tr>\n",
       "      <th>0</th>\n",
       "      <td>AB12</td>\n",
       "      <td>0.000000</td>\n",
       "      <td>0.000492</td>\n",
       "    </tr>\n",
       "    <tr>\n",
       "      <th>1</th>\n",
       "      <td>AB13</td>\n",
       "      <td>0.000000</td>\n",
       "      <td>0.000123</td>\n",
       "    </tr>\n",
       "    <tr>\n",
       "      <th>2</th>\n",
       "      <td>AB14</td>\n",
       "      <td>0.000123</td>\n",
       "      <td>0.000246</td>\n",
       "    </tr>\n",
       "    <tr>\n",
       "      <th>3</th>\n",
       "      <td>AB15</td>\n",
       "      <td>0.000000</td>\n",
       "      <td>0.000123</td>\n",
       "    </tr>\n",
       "    <tr>\n",
       "      <th>4</th>\n",
       "      <td>AB21</td>\n",
       "      <td>0.000000</td>\n",
       "      <td>0.000246</td>\n",
       "    </tr>\n",
       "    <tr>\n",
       "      <th>...</th>\n",
       "      <td>...</td>\n",
       "      <td>...</td>\n",
       "      <td>...</td>\n",
       "    </tr>\n",
       "    <tr>\n",
       "      <th>1951</th>\n",
       "      <td>YO62</td>\n",
       "      <td>0.000123</td>\n",
       "      <td>0.000000</td>\n",
       "    </tr>\n",
       "    <tr>\n",
       "      <th>1952</th>\n",
       "      <td>YO7</td>\n",
       "      <td>0.000000</td>\n",
       "      <td>0.000739</td>\n",
       "    </tr>\n",
       "    <tr>\n",
       "      <th>1953</th>\n",
       "      <td>YO8</td>\n",
       "      <td>0.000000</td>\n",
       "      <td>0.000985</td>\n",
       "    </tr>\n",
       "    <tr>\n",
       "      <th>1954</th>\n",
       "      <td>ZE1</td>\n",
       "      <td>0.000000</td>\n",
       "      <td>0.000123</td>\n",
       "    </tr>\n",
       "    <tr>\n",
       "      <th>1955</th>\n",
       "      <td>ZE2</td>\n",
       "      <td>0.000000</td>\n",
       "      <td>0.000615</td>\n",
       "    </tr>\n",
       "  </tbody>\n",
       "</table>\n",
       "<p>1956 rows × 3 columns</p>\n",
       "</div>"
      ],
      "text/plain": [
       "Revenue.Grid post_area         1         2\n",
       "0                 AB12  0.000000  0.000492\n",
       "1                 AB13  0.000000  0.000123\n",
       "2                 AB14  0.000123  0.000246\n",
       "3                 AB15  0.000000  0.000123\n",
       "4                 AB21  0.000000  0.000246\n",
       "...                ...       ...       ...\n",
       "1951              YO62  0.000123  0.000000\n",
       "1952               YO7  0.000000  0.000739\n",
       "1953               YO8  0.000000  0.000985\n",
       "1954               ZE1  0.000000  0.000123\n",
       "1955               ZE2  0.000000  0.000615\n",
       "\n",
       "[1956 rows x 3 columns]"
      ]
     },
     "execution_count": 8,
     "metadata": {},
     "output_type": "execute_result"
    }
   ],
   "source": [
    "pd.crosstab(bd_train['post_area'],bd_train['Revenue.Grid'], normalize=True).reset_index()"
   ]
  },
  {
   "cell_type": "code",
   "execution_count": 9,
   "id": "09211a12",
   "metadata": {},
   "outputs": [
    {
     "data": {
      "text/plain": [
       "['REF_NO',\n",
       " 'year_last_moved',\n",
       " 'Average.Credit.Card.Transaction',\n",
       " 'Balance.Transfer',\n",
       " 'Term.Deposit',\n",
       " 'Life.Insurance',\n",
       " 'Medical.Insurance',\n",
       " 'Average.A.C.Balance',\n",
       " 'Personal.Loan',\n",
       " 'Investment.in.Mutual.Fund',\n",
       " 'Investment.Tax.Saving.Bond',\n",
       " 'Home.Loan',\n",
       " 'Online.Purchase.Amount',\n",
       " 'Revenue.Grid',\n",
       " 'Investment.in.Commudity',\n",
       " 'Investment.in.Equity',\n",
       " 'Investment.in.Derivative',\n",
       " 'Portfolio.Balance']"
      ]
     },
     "execution_count": 9,
     "metadata": {},
     "output_type": "execute_result"
    }
   ],
   "source": [
    "#select numeric columns only.\n",
    "\n",
    "num_vars=list(bd_train.select_dtypes(exclude=['object']).columns)\n",
    "num_vars"
   ]
  },
  {
   "cell_type": "code",
   "execution_count": 10,
   "id": "cd45cf78",
   "metadata": {},
   "outputs": [
    {
     "data": {
      "text/plain": [
       "['year_last_moved',\n",
       " 'Average.Credit.Card.Transaction',\n",
       " 'Balance.Transfer',\n",
       " 'Term.Deposit',\n",
       " 'Life.Insurance',\n",
       " 'Medical.Insurance',\n",
       " 'Average.A.C.Balance',\n",
       " 'Personal.Loan',\n",
       " 'Investment.in.Mutual.Fund',\n",
       " 'Investment.Tax.Saving.Bond',\n",
       " 'Home.Loan',\n",
       " 'Online.Purchase.Amount',\n",
       " 'Investment.in.Commudity',\n",
       " 'Investment.in.Equity',\n",
       " 'Investment.in.Derivative',\n",
       " 'Portfolio.Balance']"
      ]
     },
     "execution_count": 10,
     "metadata": {},
     "output_type": "execute_result"
    }
   ],
   "source": [
    "num_vars=[_ for _  in num_vars if _ not in ['REF_NO','Revenue.Grid']]\n",
    "num_vars"
   ]
  },
  {
   "cell_type": "code",
   "execution_count": 11,
   "id": "59b4e119",
   "metadata": {},
   "outputs": [
    {
     "data": {
      "text/plain": [
       "['children',\n",
       " 'age_band',\n",
       " 'status',\n",
       " 'occupation',\n",
       " 'occupation_partner',\n",
       " 'home_status',\n",
       " 'family_income',\n",
       " 'self_employed',\n",
       " 'self_employed_partner',\n",
       " 'TVarea',\n",
       " 'post_code',\n",
       " 'post_area',\n",
       " 'gender',\n",
       " 'region']"
      ]
     },
     "execution_count": 11,
     "metadata": {},
     "output_type": "execute_result"
    }
   ],
   "source": [
    "#select Categorial varibales.\n",
    "   \n",
    "cat_vars=list(bd_train.select_dtypes(include=['object']).columns)\n",
    "cat_vars"
   ]
  },
  {
   "cell_type": "code",
   "execution_count": 12,
   "id": "e394b92d",
   "metadata": {},
   "outputs": [
    {
     "data": {
      "text/plain": [
       "['status',\n",
       " 'occupation',\n",
       " 'occupation_partner',\n",
       " 'home_status',\n",
       " 'self_employed',\n",
       " 'self_employed_partner',\n",
       " 'TVarea',\n",
       " 'gender',\n",
       " 'region']"
      ]
     },
     "execution_count": 12,
     "metadata": {},
     "output_type": "execute_result"
    }
   ],
   "source": [
    "cat_vars=[_ for _ in cat_vars if _ not in ['children','age_band','post_code','post_area','family_income']]\n",
    "cat_vars"
   ]
  },
  {
   "cell_type": "markdown",
   "id": "6b4018ad",
   "metadata": {},
   "source": [
    "# Pipeline Started"
   ]
  },
  {
   "cell_type": "code",
   "execution_count": 13,
   "id": "2752d2b7",
   "metadata": {},
   "outputs": [],
   "source": [
    "p1=pdPipeline([\n",
    "    ('var_select',VarSelector(num_vars)),\n",
    "    ('missing_trt',DataFrameImputer())\n",
    "])"
   ]
  },
  {
   "cell_type": "code",
   "execution_count": 14,
   "id": "229fa6f0",
   "metadata": {},
   "outputs": [],
   "source": [
    "p2=pdPipeline([\n",
    "    ('var_select',VarSelector(cat_vars)),\n",
    "    ('misisng_trt',DataFrameImputer()),\n",
    "    ('create_dummies',get_dummies_Pipe(70))\n",
    "])"
   ]
  },
  {
   "cell_type": "code",
   "execution_count": 15,
   "id": "8561d83a",
   "metadata": {},
   "outputs": [],
   "source": [
    "p3=pdPipeline([\n",
    "    ('var_select',VarSelector(['age_band'])),\n",
    "    ('custom_fico',custom_age_band()),\n",
    "    ('missing_trt',DataFrameImputer())\n",
    "])"
   ]
  },
  {
   "cell_type": "code",
   "execution_count": 16,
   "id": "578322a0",
   "metadata": {},
   "outputs": [],
   "source": [
    "p4=pdPipeline([\n",
    "    ('var_select',VarSelector(['family_income'])),\n",
    "    ('custom_fico',custom_family_income()),\n",
    "    ('missing_trt',DataFrameImputer())\n",
    "    \n",
    "])"
   ]
  },
  {
   "cell_type": "code",
   "execution_count": 17,
   "id": "cd09944c",
   "metadata": {},
   "outputs": [],
   "source": [
    "p5=pdPipeline([\n",
    "    ('var_select',VarSelector(['children'])),\n",
    "    ('string_clean1',string_clean(replace_it='Zero',replace_with='0')),\n",
    "    ('string_clean2',string_clean(replace_it='4+',replace_with='4')),\n",
    "    ('convert_to_numeric',convert_to_numeric()),\n",
    "    ('missing_trt',DataFrameImputer())\n",
    "    \n",
    "])"
   ]
  },
  {
   "cell_type": "code",
   "execution_count": 18,
   "id": "719bd6f3",
   "metadata": {},
   "outputs": [],
   "source": [
    "data_pipe=FeatureUnion([\n",
    "    ('num',p1),\n",
    "    ('obj_to_dum',p2),\n",
    "    ('age_band',p3),\n",
    "    ('family_income',p4),\n",
    "    ('children',p5)\n",
    "    \n",
    "])"
   ]
  },
  {
   "cell_type": "code",
   "execution_count": 19,
   "id": "48b51b08",
   "metadata": {},
   "outputs": [
    {
     "data": {
      "text/plain": [
       "FeatureUnion(transformer_list=[('num',\n",
       "                                pdPipeline(steps=[('var_select',\n",
       "                                                   VarSelector(feature_names=['year_last_moved',\n",
       "                                                                              'Average.Credit.Card.Transaction',\n",
       "                                                                              'Balance.Transfer',\n",
       "                                                                              'Term.Deposit',\n",
       "                                                                              'Life.Insurance',\n",
       "                                                                              'Medical.Insurance',\n",
       "                                                                              'Average.A.C.Balance',\n",
       "                                                                              'Personal.Loan',\n",
       "                                                                              'Investment.in.Mutual.Fund',\n",
       "                                                                              'Investment.Tax.Saving.Bond',\n",
       "                                                                              'Home.Loan',\n",
       "                                                                              'Online.Purchase.Amount...\n",
       "                                                   custom_family_income()),\n",
       "                                                  ('missing_trt',\n",
       "                                                   DataFrameImputer())])),\n",
       "                               ('children',\n",
       "                                pdPipeline(steps=[('var_select',\n",
       "                                                   VarSelector(feature_names=['children'])),\n",
       "                                                  ('string_clean1',\n",
       "                                                   string_clean(replace_it='Zero',\n",
       "                                                                replace_with='0')),\n",
       "                                                  ('string_clean2',\n",
       "                                                   string_clean(replace_it='4+',\n",
       "                                                                replace_with='4')),\n",
       "                                                  ('convert_to_numeric',\n",
       "                                                   convert_to_numeric()),\n",
       "                                                  ('missing_trt',\n",
       "                                                   DataFrameImputer())]))])"
      ]
     },
     "execution_count": 19,
     "metadata": {},
     "output_type": "execute_result"
    }
   ],
   "source": [
    "data_pipe"
   ]
  },
  {
   "cell_type": "code",
   "execution_count": 20,
   "id": "9700eeda",
   "metadata": {},
   "outputs": [],
   "source": [
    "x_train=pd.DataFrame(data=data_pipe.fit_transform(bd_train),\n",
    "                    columns=data_pipe.get_feature_names())"
   ]
  },
  {
   "cell_type": "code",
   "execution_count": 21,
   "id": "6bde6593",
   "metadata": {},
   "outputs": [],
   "source": [
    "x_test=pd.DataFrame(data=data_pipe.transform(bd_test),\n",
    "                   columns=data_pipe.get_feature_names())"
   ]
  },
  {
   "cell_type": "code",
   "execution_count": 22,
   "id": "e69c0e69",
   "metadata": {},
   "outputs": [
    {
     "data": {
      "text/plain": [
       "2    7261\n",
       "1     863\n",
       "Name: Revenue.Grid, dtype: int64"
      ]
     },
     "execution_count": 22,
     "metadata": {},
     "output_type": "execute_result"
    }
   ],
   "source": [
    "bd_train['Revenue.Grid'].value_counts(dropna=True)"
   ]
  },
  {
   "cell_type": "code",
   "execution_count": 23,
   "id": "cfcaacf0",
   "metadata": {},
   "outputs": [],
   "source": [
    "y_train=(bd_train['Revenue.Grid']==1).astype(int)"
   ]
  },
  {
   "cell_type": "code",
   "execution_count": 24,
   "id": "57ef4c61",
   "metadata": {},
   "outputs": [
    {
     "data": {
      "text/plain": [
       "(8124, 71)"
      ]
     },
     "execution_count": 24,
     "metadata": {},
     "output_type": "execute_result"
    }
   ],
   "source": [
    "x_train.shape"
   ]
  },
  {
   "cell_type": "code",
   "execution_count": 25,
   "id": "5c768961",
   "metadata": {},
   "outputs": [
    {
     "data": {
      "text/plain": [
       "(2031, 71)"
      ]
     },
     "execution_count": 25,
     "metadata": {},
     "output_type": "execute_result"
    }
   ],
   "source": [
    "x_test.shape"
   ]
  },
  {
   "cell_type": "code",
   "execution_count": 26,
   "id": "a9e57cf8",
   "metadata": {},
   "outputs": [
    {
     "data": {
      "text/html": [
       "<div>\n",
       "<style scoped>\n",
       "    .dataframe tbody tr th:only-of-type {\n",
       "        vertical-align: middle;\n",
       "    }\n",
       "\n",
       "    .dataframe tbody tr th {\n",
       "        vertical-align: top;\n",
       "    }\n",
       "\n",
       "    .dataframe thead th {\n",
       "        text-align: right;\n",
       "    }\n",
       "</style>\n",
       "<table border=\"1\" class=\"dataframe\">\n",
       "  <thead>\n",
       "    <tr style=\"text-align: right;\">\n",
       "      <th></th>\n",
       "      <th>num__year_last_moved</th>\n",
       "      <th>num__Average.Credit.Card.Transaction</th>\n",
       "      <th>num__Balance.Transfer</th>\n",
       "      <th>num__Term.Deposit</th>\n",
       "      <th>num__Life.Insurance</th>\n",
       "      <th>num__Medical.Insurance</th>\n",
       "      <th>num__Average.A.C.Balance</th>\n",
       "      <th>num__Personal.Loan</th>\n",
       "      <th>num__Investment.in.Mutual.Fund</th>\n",
       "      <th>num__Investment.Tax.Saving.Bond</th>\n",
       "      <th>...</th>\n",
       "      <th>obj_to_dum__region_West Midlands</th>\n",
       "      <th>obj_to_dum__region_Scotland</th>\n",
       "      <th>obj_to_dum__region_East Midlands</th>\n",
       "      <th>obj_to_dum__region_North</th>\n",
       "      <th>obj_to_dum__region_Wales</th>\n",
       "      <th>obj_to_dum__region_East Anglia</th>\n",
       "      <th>obj_to_dum__region_Northern Ireland</th>\n",
       "      <th>age_band__age_band</th>\n",
       "      <th>family_income__fi</th>\n",
       "      <th>children__children</th>\n",
       "    </tr>\n",
       "  </thead>\n",
       "  <tbody>\n",
       "    <tr>\n",
       "      <th>0</th>\n",
       "      <td>1999.0</td>\n",
       "      <td>0.00</td>\n",
       "      <td>0.00</td>\n",
       "      <td>196.95</td>\n",
       "      <td>132.42</td>\n",
       "      <td>0.00</td>\n",
       "      <td>0.00</td>\n",
       "      <td>21.47</td>\n",
       "      <td>24.18</td>\n",
       "      <td>7.49</td>\n",
       "      <td>...</td>\n",
       "      <td>0.0</td>\n",
       "      <td>0.0</td>\n",
       "      <td>0.0</td>\n",
       "      <td>0.0</td>\n",
       "      <td>0.0</td>\n",
       "      <td>0.0</td>\n",
       "      <td>0.0</td>\n",
       "      <td>47.5</td>\n",
       "      <td>35000.0</td>\n",
       "      <td>1.0</td>\n",
       "    </tr>\n",
       "    <tr>\n",
       "      <th>1</th>\n",
       "      <td>1959.0</td>\n",
       "      <td>0.00</td>\n",
       "      <td>77.89</td>\n",
       "      <td>0.00</td>\n",
       "      <td>134.39</td>\n",
       "      <td>0.00</td>\n",
       "      <td>7.99</td>\n",
       "      <td>14.98</td>\n",
       "      <td>0.00</td>\n",
       "      <td>0.00</td>\n",
       "      <td>...</td>\n",
       "      <td>0.0</td>\n",
       "      <td>0.0</td>\n",
       "      <td>0.0</td>\n",
       "      <td>0.0</td>\n",
       "      <td>0.0</td>\n",
       "      <td>0.0</td>\n",
       "      <td>0.0</td>\n",
       "      <td>63.0</td>\n",
       "      <td>11250.0</td>\n",
       "      <td>1.0</td>\n",
       "    </tr>\n",
       "    <tr>\n",
       "      <th>2</th>\n",
       "      <td>1992.0</td>\n",
       "      <td>119.98</td>\n",
       "      <td>0.00</td>\n",
       "      <td>96.94</td>\n",
       "      <td>0.00</td>\n",
       "      <td>159.97</td>\n",
       "      <td>0.00</td>\n",
       "      <td>0.00</td>\n",
       "      <td>0.00</td>\n",
       "      <td>0.00</td>\n",
       "      <td>...</td>\n",
       "      <td>0.0</td>\n",
       "      <td>0.0</td>\n",
       "      <td>0.0</td>\n",
       "      <td>0.0</td>\n",
       "      <td>0.0</td>\n",
       "      <td>1.0</td>\n",
       "      <td>0.0</td>\n",
       "      <td>33.0</td>\n",
       "      <td>35000.0</td>\n",
       "      <td>3.0</td>\n",
       "    </tr>\n",
       "    <tr>\n",
       "      <th>3</th>\n",
       "      <td>1990.0</td>\n",
       "      <td>0.00</td>\n",
       "      <td>39.99</td>\n",
       "      <td>0.00</td>\n",
       "      <td>133.93</td>\n",
       "      <td>0.00</td>\n",
       "      <td>39.48</td>\n",
       "      <td>0.00</td>\n",
       "      <td>0.00</td>\n",
       "      <td>2.00</td>\n",
       "      <td>...</td>\n",
       "      <td>0.0</td>\n",
       "      <td>0.0</td>\n",
       "      <td>0.0</td>\n",
       "      <td>0.0</td>\n",
       "      <td>0.0</td>\n",
       "      <td>0.0</td>\n",
       "      <td>0.0</td>\n",
       "      <td>57.5</td>\n",
       "      <td>35000.0</td>\n",
       "      <td>0.0</td>\n",
       "    </tr>\n",
       "    <tr>\n",
       "      <th>4</th>\n",
       "      <td>1994.0</td>\n",
       "      <td>0.00</td>\n",
       "      <td>161.47</td>\n",
       "      <td>14.99</td>\n",
       "      <td>58.97</td>\n",
       "      <td>7.49</td>\n",
       "      <td>57.46</td>\n",
       "      <td>0.00</td>\n",
       "      <td>0.00</td>\n",
       "      <td>0.00</td>\n",
       "      <td>...</td>\n",
       "      <td>0.0</td>\n",
       "      <td>0.0</td>\n",
       "      <td>0.0</td>\n",
       "      <td>0.0</td>\n",
       "      <td>0.0</td>\n",
       "      <td>0.0</td>\n",
       "      <td>0.0</td>\n",
       "      <td>53.0</td>\n",
       "      <td>26250.0</td>\n",
       "      <td>2.0</td>\n",
       "    </tr>\n",
       "  </tbody>\n",
       "</table>\n",
       "<p>5 rows × 71 columns</p>\n",
       "</div>"
      ],
      "text/plain": [
       "   num__year_last_moved  num__Average.Credit.Card.Transaction  \\\n",
       "0                1999.0                                  0.00   \n",
       "1                1959.0                                  0.00   \n",
       "2                1992.0                                119.98   \n",
       "3                1990.0                                  0.00   \n",
       "4                1994.0                                  0.00   \n",
       "\n",
       "   num__Balance.Transfer  num__Term.Deposit  num__Life.Insurance  \\\n",
       "0                   0.00             196.95               132.42   \n",
       "1                  77.89               0.00               134.39   \n",
       "2                   0.00              96.94                 0.00   \n",
       "3                  39.99               0.00               133.93   \n",
       "4                 161.47              14.99                58.97   \n",
       "\n",
       "   num__Medical.Insurance  num__Average.A.C.Balance  num__Personal.Loan  \\\n",
       "0                    0.00                      0.00               21.47   \n",
       "1                    0.00                      7.99               14.98   \n",
       "2                  159.97                      0.00                0.00   \n",
       "3                    0.00                     39.48                0.00   \n",
       "4                    7.49                     57.46                0.00   \n",
       "\n",
       "   num__Investment.in.Mutual.Fund  num__Investment.Tax.Saving.Bond  ...  \\\n",
       "0                           24.18                             7.49  ...   \n",
       "1                            0.00                             0.00  ...   \n",
       "2                            0.00                             0.00  ...   \n",
       "3                            0.00                             2.00  ...   \n",
       "4                            0.00                             0.00  ...   \n",
       "\n",
       "   obj_to_dum__region_West Midlands  obj_to_dum__region_Scotland  \\\n",
       "0                               0.0                          0.0   \n",
       "1                               0.0                          0.0   \n",
       "2                               0.0                          0.0   \n",
       "3                               0.0                          0.0   \n",
       "4                               0.0                          0.0   \n",
       "\n",
       "   obj_to_dum__region_East Midlands  obj_to_dum__region_North  \\\n",
       "0                               0.0                       0.0   \n",
       "1                               0.0                       0.0   \n",
       "2                               0.0                       0.0   \n",
       "3                               0.0                       0.0   \n",
       "4                               0.0                       0.0   \n",
       "\n",
       "   obj_to_dum__region_Wales  obj_to_dum__region_East Anglia  \\\n",
       "0                       0.0                             0.0   \n",
       "1                       0.0                             0.0   \n",
       "2                       0.0                             1.0   \n",
       "3                       0.0                             0.0   \n",
       "4                       0.0                             0.0   \n",
       "\n",
       "   obj_to_dum__region_Northern Ireland  age_band__age_band  family_income__fi  \\\n",
       "0                                  0.0                47.5            35000.0   \n",
       "1                                  0.0                63.0            11250.0   \n",
       "2                                  0.0                33.0            35000.0   \n",
       "3                                  0.0                57.5            35000.0   \n",
       "4                                  0.0                53.0            26250.0   \n",
       "\n",
       "   children__children  \n",
       "0                 1.0  \n",
       "1                 1.0  \n",
       "2                 3.0  \n",
       "3                 0.0  \n",
       "4                 2.0  \n",
       "\n",
       "[5 rows x 71 columns]"
      ]
     },
     "execution_count": 26,
     "metadata": {},
     "output_type": "execute_result"
    }
   ],
   "source": [
    "x_train.head()"
   ]
  },
  {
   "cell_type": "markdown",
   "id": "6733c771",
   "metadata": {},
   "source": [
    "## Logistic Regression"
   ]
  },
  {
   "cell_type": "code",
   "execution_count": 28,
   "id": "3cb46385",
   "metadata": {},
   "outputs": [],
   "source": [
    "from sklearn.linear_model import LogisticRegression"
   ]
  },
  {
   "cell_type": "code",
   "execution_count": 30,
   "id": "42bf9422",
   "metadata": {},
   "outputs": [],
   "source": [
    "params={'class_weight':['balanced',None],\n",
    "       'penalty':['l1','l2'],\n",
    "       'C':np.linspace(0.001,1,10)}"
   ]
  },
  {
   "cell_type": "code",
   "execution_count": 31,
   "id": "6892ad1d",
   "metadata": {},
   "outputs": [],
   "source": [
    "model=LogisticRegression(fit_intercept=True)"
   ]
  },
  {
   "cell_type": "code",
   "execution_count": 32,
   "id": "826b64b6",
   "metadata": {},
   "outputs": [],
   "source": [
    "from sklearn.model_selection import GridSearchCV"
   ]
  },
  {
   "cell_type": "code",
   "execution_count": 34,
   "id": "5a3a7533",
   "metadata": {},
   "outputs": [],
   "source": [
    "grid_search=GridSearchCV(model,param_grid=params,cv=10,\n",
    "                        scoring=\"roc_auc\", n_jobs=-1, verbose=20)"
   ]
  },
  {
   "cell_type": "code",
   "execution_count": 37,
   "id": "f27154fb",
   "metadata": {},
   "outputs": [
    {
     "name": "stdout",
     "output_type": "stream",
     "text": [
      "Fitting 10 folds for each of 40 candidates, totalling 400 fits\n"
     ]
    },
    {
     "data": {
      "text/plain": [
       "GridSearchCV(cv=10, estimator=LogisticRegression(), n_jobs=-1,\n",
       "             param_grid={'C': array([0.001, 0.112, 0.223, 0.334, 0.445, 0.556, 0.667, 0.778, 0.889,\n",
       "       1.   ]),\n",
       "                         'class_weight': ['balanced', None],\n",
       "                         'penalty': ['l1', 'l2']},\n",
       "             scoring='roc_auc', verbose=20)"
      ]
     },
     "execution_count": 37,
     "metadata": {},
     "output_type": "execute_result"
    }
   ],
   "source": [
    "grid_search.fit(x_train,y_train)"
   ]
  },
  {
   "cell_type": "code",
   "execution_count": 38,
   "id": "741a102d",
   "metadata": {},
   "outputs": [
    {
     "data": {
      "text/plain": [
       "LogisticRegression(C=0.112, class_weight='balanced')"
      ]
     },
     "execution_count": 38,
     "metadata": {},
     "output_type": "execute_result"
    }
   ],
   "source": [
    "grid_search.best_estimator_"
   ]
  },
  {
   "cell_type": "code",
   "execution_count": null,
   "id": "c172ff96",
   "metadata": {},
   "outputs": [],
   "source": []
  }
 ],
 "metadata": {
  "kernelspec": {
   "display_name": "Python 3 (ipykernel)",
   "language": "python",
   "name": "python3"
  },
  "language_info": {
   "codemirror_mode": {
    "name": "ipython",
    "version": 3
   },
   "file_extension": ".py",
   "mimetype": "text/x-python",
   "name": "python",
   "nbconvert_exporter": "python",
   "pygments_lexer": "ipython3",
   "version": "3.8.12"
  }
 },
 "nbformat": 4,
 "nbformat_minor": 5
}
