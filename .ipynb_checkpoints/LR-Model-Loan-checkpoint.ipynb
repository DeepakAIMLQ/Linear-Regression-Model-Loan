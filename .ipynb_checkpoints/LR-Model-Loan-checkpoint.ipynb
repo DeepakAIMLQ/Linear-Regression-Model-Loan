{
 "cells": [
  {
   "cell_type": "code",
   "execution_count": 1,
   "id": "8b5855f8",
   "metadata": {},
   "outputs": [],
   "source": [
    "import warnings\n",
    "\n",
    "warnings.filterwarnings('ignore')\n",
    "\n",
    "import pandas as pd\n",
    "import numpy as np\n",
    "\n",
    "from sklearn.pipeline import Pipeline, FeatureUnion\n",
    "from sklearn.base import BaseEstimator, TransformerMixin\n",
    "\n",
    "from mypipes import *"
   ]
  },
  {
   "cell_type": "code",
   "execution_count": 2,
   "id": "5bd40ef9",
   "metadata": {},
   "outputs": [
    {
     "data": {
      "text/html": [
       "<div>\n",
       "<style scoped>\n",
       "    .dataframe tbody tr th:only-of-type {\n",
       "        vertical-align: middle;\n",
       "    }\n",
       "\n",
       "    .dataframe tbody tr th {\n",
       "        vertical-align: top;\n",
       "    }\n",
       "\n",
       "    .dataframe thead th {\n",
       "        text-align: right;\n",
       "    }\n",
       "</style>\n",
       "<table border=\"1\" class=\"dataframe\">\n",
       "  <thead>\n",
       "    <tr style=\"text-align: right;\">\n",
       "      <th></th>\n",
       "      <th>ID</th>\n",
       "      <th>Amount.Requested</th>\n",
       "      <th>Amount.Funded.By.Investors</th>\n",
       "      <th>Interest.Rate</th>\n",
       "      <th>Loan.Length</th>\n",
       "      <th>Loan.Purpose</th>\n",
       "      <th>Debt.To.Income.Ratio</th>\n",
       "      <th>State</th>\n",
       "      <th>Home.Ownership</th>\n",
       "      <th>Monthly.Income</th>\n",
       "      <th>FICO.Range</th>\n",
       "      <th>Open.CREDIT.Lines</th>\n",
       "      <th>Revolving.CREDIT.Balance</th>\n",
       "      <th>Inquiries.in.the.Last.6.Months</th>\n",
       "      <th>Employment.Length</th>\n",
       "    </tr>\n",
       "  </thead>\n",
       "  <tbody>\n",
       "    <tr>\n",
       "      <th>0</th>\n",
       "      <td>79542.0</td>\n",
       "      <td>25000</td>\n",
       "      <td>25000</td>\n",
       "      <td>18.49%</td>\n",
       "      <td>60 months</td>\n",
       "      <td>debt_consolidation</td>\n",
       "      <td>27.56%</td>\n",
       "      <td>VA</td>\n",
       "      <td>MORTGAGE</td>\n",
       "      <td>8606.56</td>\n",
       "      <td>720-724</td>\n",
       "      <td>11</td>\n",
       "      <td>15210</td>\n",
       "      <td>3.0</td>\n",
       "      <td>5 years</td>\n",
       "    </tr>\n",
       "    <tr>\n",
       "      <th>1</th>\n",
       "      <td>75473.0</td>\n",
       "      <td>19750</td>\n",
       "      <td>19750</td>\n",
       "      <td>17.27%</td>\n",
       "      <td>60 months</td>\n",
       "      <td>debt_consolidation</td>\n",
       "      <td>13.39%</td>\n",
       "      <td>NY</td>\n",
       "      <td>MORTGAGE</td>\n",
       "      <td>6737.50</td>\n",
       "      <td>710-714</td>\n",
       "      <td>14</td>\n",
       "      <td>19070</td>\n",
       "      <td>3.0</td>\n",
       "      <td>4 years</td>\n",
       "    </tr>\n",
       "    <tr>\n",
       "      <th>2</th>\n",
       "      <td>67265.0</td>\n",
       "      <td>2100</td>\n",
       "      <td>2100</td>\n",
       "      <td>14.33%</td>\n",
       "      <td>36 months</td>\n",
       "      <td>major_purchase</td>\n",
       "      <td>3.50%</td>\n",
       "      <td>LA</td>\n",
       "      <td>OWN</td>\n",
       "      <td>1000.00</td>\n",
       "      <td>690-694</td>\n",
       "      <td>13</td>\n",
       "      <td>893</td>\n",
       "      <td>1.0</td>\n",
       "      <td>&lt; 1 year</td>\n",
       "    </tr>\n",
       "    <tr>\n",
       "      <th>3</th>\n",
       "      <td>80167.0</td>\n",
       "      <td>28000</td>\n",
       "      <td>28000</td>\n",
       "      <td>16.29%</td>\n",
       "      <td>36 months</td>\n",
       "      <td>credit_card</td>\n",
       "      <td>19.62%</td>\n",
       "      <td>NV</td>\n",
       "      <td>MORTGAGE</td>\n",
       "      <td>7083.33</td>\n",
       "      <td>710-714</td>\n",
       "      <td>12</td>\n",
       "      <td>38194</td>\n",
       "      <td>1.0</td>\n",
       "      <td>10+ years</td>\n",
       "    </tr>\n",
       "    <tr>\n",
       "      <th>4</th>\n",
       "      <td>17240.0</td>\n",
       "      <td>24250</td>\n",
       "      <td>17431.82</td>\n",
       "      <td>12.23%</td>\n",
       "      <td>60 months</td>\n",
       "      <td>credit_card</td>\n",
       "      <td>23.79%</td>\n",
       "      <td>OH</td>\n",
       "      <td>MORTGAGE</td>\n",
       "      <td>5833.33</td>\n",
       "      <td>730-734</td>\n",
       "      <td>6</td>\n",
       "      <td>31061</td>\n",
       "      <td>2.0</td>\n",
       "      <td>10+ years</td>\n",
       "    </tr>\n",
       "  </tbody>\n",
       "</table>\n",
       "</div>"
      ],
      "text/plain": [
       "        ID Amount.Requested Amount.Funded.By.Investors Interest.Rate  \\\n",
       "0  79542.0            25000                      25000        18.49%   \n",
       "1  75473.0            19750                      19750        17.27%   \n",
       "2  67265.0             2100                       2100        14.33%   \n",
       "3  80167.0            28000                      28000        16.29%   \n",
       "4  17240.0            24250                   17431.82        12.23%   \n",
       "\n",
       "  Loan.Length        Loan.Purpose Debt.To.Income.Ratio State Home.Ownership  \\\n",
       "0   60 months  debt_consolidation               27.56%    VA       MORTGAGE   \n",
       "1   60 months  debt_consolidation               13.39%    NY       MORTGAGE   \n",
       "2   36 months      major_purchase                3.50%    LA            OWN   \n",
       "3   36 months         credit_card               19.62%    NV       MORTGAGE   \n",
       "4   60 months         credit_card               23.79%    OH       MORTGAGE   \n",
       "\n",
       "   Monthly.Income FICO.Range Open.CREDIT.Lines Revolving.CREDIT.Balance  \\\n",
       "0         8606.56    720-724                11                    15210   \n",
       "1         6737.50    710-714                14                    19070   \n",
       "2         1000.00    690-694                13                      893   \n",
       "3         7083.33    710-714                12                    38194   \n",
       "4         5833.33    730-734                 6                    31061   \n",
       "\n",
       "   Inquiries.in.the.Last.6.Months Employment.Length  \n",
       "0                             3.0           5 years  \n",
       "1                             3.0           4 years  \n",
       "2                             1.0          < 1 year  \n",
       "3                             1.0         10+ years  \n",
       "4                             2.0         10+ years  "
      ]
     },
     "execution_count": 2,
     "metadata": {},
     "output_type": "execute_result"
    }
   ],
   "source": [
    "train_file=r\"E:\\IIT-K\\data\\data\\loan_data_train.csv\"\n",
    "test_file=r\"E:\\IIT-K\\data\\data\\loan_data_test.csv\"\n",
    "\n",
    "#train_file=r\"D:\\IIT-K\\data\\data\\loan_data_train.csv\"\n",
    "#test_file=r\"D:\\IIT-K\\data\\data\\loan_data_test.csv\"\n",
    "\n",
    "ld_train=pd.read_csv(train_file)\n",
    "ld_test=pd.read_csv(test_file)\n",
    "\n",
    "ld_train.head()\n"
   ]
  },
  {
   "cell_type": "code",
   "execution_count": 3,
   "id": "7b7d14bd",
   "metadata": {},
   "outputs": [
    {
     "data": {
      "text/html": [
       "<div>\n",
       "<style scoped>\n",
       "    .dataframe tbody tr th:only-of-type {\n",
       "        vertical-align: middle;\n",
       "    }\n",
       "\n",
       "    .dataframe tbody tr th {\n",
       "        vertical-align: top;\n",
       "    }\n",
       "\n",
       "    .dataframe thead th {\n",
       "        text-align: right;\n",
       "    }\n",
       "</style>\n",
       "<table border=\"1\" class=\"dataframe\">\n",
       "  <thead>\n",
       "    <tr style=\"text-align: right;\">\n",
       "      <th></th>\n",
       "      <th>ID</th>\n",
       "      <th>Amount.Requested</th>\n",
       "      <th>Amount.Funded.By.Investors</th>\n",
       "      <th>Loan.Length</th>\n",
       "      <th>Loan.Purpose</th>\n",
       "      <th>Debt.To.Income.Ratio</th>\n",
       "      <th>State</th>\n",
       "      <th>Home.Ownership</th>\n",
       "      <th>Monthly.Income</th>\n",
       "      <th>FICO.Range</th>\n",
       "      <th>Open.CREDIT.Lines</th>\n",
       "      <th>Revolving.CREDIT.Balance</th>\n",
       "      <th>Inquiries.in.the.Last.6.Months</th>\n",
       "      <th>Employment.Length</th>\n",
       "    </tr>\n",
       "  </thead>\n",
       "  <tbody>\n",
       "    <tr>\n",
       "      <th>0</th>\n",
       "      <td>20093</td>\n",
       "      <td>5000</td>\n",
       "      <td>5000</td>\n",
       "      <td>60 months</td>\n",
       "      <td>moving</td>\n",
       "      <td>12.59%</td>\n",
       "      <td>NY</td>\n",
       "      <td>RENT</td>\n",
       "      <td>4416.67</td>\n",
       "      <td>690-694</td>\n",
       "      <td>13</td>\n",
       "      <td>7686</td>\n",
       "      <td>0</td>\n",
       "      <td>&lt; 1 year</td>\n",
       "    </tr>\n",
       "    <tr>\n",
       "      <th>1</th>\n",
       "      <td>62445</td>\n",
       "      <td>18000</td>\n",
       "      <td>18000</td>\n",
       "      <td>60 months</td>\n",
       "      <td>debt_consolidation</td>\n",
       "      <td>4.93%</td>\n",
       "      <td>CA</td>\n",
       "      <td>RENT</td>\n",
       "      <td>5258.50</td>\n",
       "      <td>710-714</td>\n",
       "      <td>6</td>\n",
       "      <td>11596</td>\n",
       "      <td>0</td>\n",
       "      <td>10+ years</td>\n",
       "    </tr>\n",
       "    <tr>\n",
       "      <th>2</th>\n",
       "      <td>65248</td>\n",
       "      <td>7200</td>\n",
       "      <td>7200</td>\n",
       "      <td>60 months</td>\n",
       "      <td>debt_consolidation</td>\n",
       "      <td>25.16%</td>\n",
       "      <td>LA</td>\n",
       "      <td>MORTGAGE</td>\n",
       "      <td>3750.00</td>\n",
       "      <td>750-754</td>\n",
       "      <td>13</td>\n",
       "      <td>7283</td>\n",
       "      <td>0</td>\n",
       "      <td>6 years</td>\n",
       "    </tr>\n",
       "    <tr>\n",
       "      <th>3</th>\n",
       "      <td>81822</td>\n",
       "      <td>7200</td>\n",
       "      <td>7200</td>\n",
       "      <td>36 months</td>\n",
       "      <td>debt_consolidation</td>\n",
       "      <td>17.27%</td>\n",
       "      <td>NY</td>\n",
       "      <td>MORTGAGE</td>\n",
       "      <td>3416.67</td>\n",
       "      <td>790-794</td>\n",
       "      <td>14</td>\n",
       "      <td>4838</td>\n",
       "      <td>0</td>\n",
       "      <td>10+ years</td>\n",
       "    </tr>\n",
       "    <tr>\n",
       "      <th>4</th>\n",
       "      <td>57923</td>\n",
       "      <td>22000</td>\n",
       "      <td>22000</td>\n",
       "      <td>60 months</td>\n",
       "      <td>debt_consolidation</td>\n",
       "      <td>18.28%</td>\n",
       "      <td>MI</td>\n",
       "      <td>MORTGAGE</td>\n",
       "      <td>6083.33</td>\n",
       "      <td>720-724</td>\n",
       "      <td>9</td>\n",
       "      <td>20181</td>\n",
       "      <td>0</td>\n",
       "      <td>8 years</td>\n",
       "    </tr>\n",
       "  </tbody>\n",
       "</table>\n",
       "</div>"
      ],
      "text/plain": [
       "      ID  Amount.Requested Amount.Funded.By.Investors Loan.Length  \\\n",
       "0  20093              5000                       5000   60 months   \n",
       "1  62445             18000                      18000   60 months   \n",
       "2  65248              7200                       7200   60 months   \n",
       "3  81822              7200                       7200   36 months   \n",
       "4  57923             22000                      22000   60 months   \n",
       "\n",
       "         Loan.Purpose Debt.To.Income.Ratio State Home.Ownership  \\\n",
       "0              moving               12.59%    NY           RENT   \n",
       "1  debt_consolidation                4.93%    CA           RENT   \n",
       "2  debt_consolidation               25.16%    LA       MORTGAGE   \n",
       "3  debt_consolidation               17.27%    NY       MORTGAGE   \n",
       "4  debt_consolidation               18.28%    MI       MORTGAGE   \n",
       "\n",
       "   Monthly.Income FICO.Range Open.CREDIT.Lines  Revolving.CREDIT.Balance  \\\n",
       "0         4416.67    690-694                13                      7686   \n",
       "1         5258.50    710-714                 6                     11596   \n",
       "2         3750.00    750-754                13                      7283   \n",
       "3         3416.67    790-794                14                      4838   \n",
       "4         6083.33    720-724                 9                     20181   \n",
       "\n",
       "   Inquiries.in.the.Last.6.Months Employment.Length  \n",
       "0                               0          < 1 year  \n",
       "1                               0         10+ years  \n",
       "2                               0           6 years  \n",
       "3                               0         10+ years  \n",
       "4                               0           8 years  "
      ]
     },
     "execution_count": 3,
     "metadata": {},
     "output_type": "execute_result"
    }
   ],
   "source": [
    "ld_test.head()"
   ]
  },
  {
   "cell_type": "code",
   "execution_count": 4,
   "id": "0db82ef7",
   "metadata": {},
   "outputs": [
    {
     "data": {
      "text/html": [
       "<div>\n",
       "<style scoped>\n",
       "    .dataframe tbody tr th:only-of-type {\n",
       "        vertical-align: middle;\n",
       "    }\n",
       "\n",
       "    .dataframe tbody tr th {\n",
       "        vertical-align: top;\n",
       "    }\n",
       "\n",
       "    .dataframe thead th {\n",
       "        text-align: right;\n",
       "    }\n",
       "</style>\n",
       "<table border=\"1\" class=\"dataframe\">\n",
       "  <thead>\n",
       "    <tr style=\"text-align: right;\">\n",
       "      <th></th>\n",
       "      <th>ID</th>\n",
       "      <th>Amount.Requested</th>\n",
       "      <th>Amount.Funded.By.Investors</th>\n",
       "      <th>Interest.Rate</th>\n",
       "      <th>Loan.Length</th>\n",
       "      <th>Loan.Purpose</th>\n",
       "      <th>Debt.To.Income.Ratio</th>\n",
       "      <th>State</th>\n",
       "      <th>Home.Ownership</th>\n",
       "      <th>Monthly.Income</th>\n",
       "      <th>FICO.Range</th>\n",
       "      <th>Open.CREDIT.Lines</th>\n",
       "      <th>Revolving.CREDIT.Balance</th>\n",
       "      <th>Inquiries.in.the.Last.6.Months</th>\n",
       "      <th>Employment.Length</th>\n",
       "    </tr>\n",
       "  </thead>\n",
       "  <tbody>\n",
       "    <tr>\n",
       "      <th>1124</th>\n",
       "      <td>132.0</td>\n",
       "      <td>12375</td>\n",
       "      <td>275</td>\n",
       "      <td>10.91%</td>\n",
       "      <td>36 months</td>\n",
       "      <td>small_business</td>\n",
       "      <td>16.39%</td>\n",
       "      <td>VA</td>\n",
       "      <td>MORTGAGE</td>\n",
       "      <td>3892.75</td>\n",
       "      <td>690-694</td>\n",
       "      <td>11</td>\n",
       "      <td>8332</td>\n",
       "      <td>2.0</td>\n",
       "      <td>3 years</td>\n",
       "    </tr>\n",
       "    <tr>\n",
       "      <th>1688</th>\n",
       "      <td>69724.0</td>\n",
       "      <td>35000</td>\n",
       "      <td>34950</td>\n",
       "      <td>23.76%</td>\n",
       "      <td>60 months</td>\n",
       "      <td>debt_consolidation</td>\n",
       "      <td>24.22%</td>\n",
       "      <td>NY</td>\n",
       "      <td>RENT</td>\n",
       "      <td>7331.25</td>\n",
       "      <td>665-669</td>\n",
       "      <td>16</td>\n",
       "      <td>28687</td>\n",
       "      <td>2.0</td>\n",
       "      <td>4 years</td>\n",
       "    </tr>\n",
       "    <tr>\n",
       "      <th>1162</th>\n",
       "      <td>57704.0</td>\n",
       "      <td>9000</td>\n",
       "      <td>9000</td>\n",
       "      <td>15.31%</td>\n",
       "      <td>36 months</td>\n",
       "      <td>credit_card</td>\n",
       "      <td>15.88%</td>\n",
       "      <td>NY</td>\n",
       "      <td>RENT</td>\n",
       "      <td>5000.00</td>\n",
       "      <td>675-679</td>\n",
       "      <td>7</td>\n",
       "      <td>4532</td>\n",
       "      <td>1.0</td>\n",
       "      <td>10+ years</td>\n",
       "    </tr>\n",
       "    <tr>\n",
       "      <th>1616</th>\n",
       "      <td>91669.0</td>\n",
       "      <td>21000</td>\n",
       "      <td>21000</td>\n",
       "      <td>11.14%</td>\n",
       "      <td>60 months</td>\n",
       "      <td>debt_consolidation</td>\n",
       "      <td>16.18%</td>\n",
       "      <td>NY</td>\n",
       "      <td>MORTGAGE</td>\n",
       "      <td>7083.33</td>\n",
       "      <td>705-709</td>\n",
       "      <td>8</td>\n",
       "      <td>22298</td>\n",
       "      <td>1.0</td>\n",
       "      <td>9 years</td>\n",
       "    </tr>\n",
       "    <tr>\n",
       "      <th>992</th>\n",
       "      <td>51954.0</td>\n",
       "      <td>9550</td>\n",
       "      <td>9550</td>\n",
       "      <td>10.74%</td>\n",
       "      <td>36 months</td>\n",
       "      <td>debt_consolidation</td>\n",
       "      <td>14.33%</td>\n",
       "      <td>AL</td>\n",
       "      <td>MORTGAGE</td>\n",
       "      <td>4000.00</td>\n",
       "      <td>700-704</td>\n",
       "      <td>8</td>\n",
       "      <td>9128</td>\n",
       "      <td>0.0</td>\n",
       "      <td>3 years</td>\n",
       "    </tr>\n",
       "    <tr>\n",
       "      <th>1089</th>\n",
       "      <td>31004.0</td>\n",
       "      <td>25450</td>\n",
       "      <td>25425</td>\n",
       "      <td>13.99%</td>\n",
       "      <td>60 months</td>\n",
       "      <td>credit_card</td>\n",
       "      <td>26.38%</td>\n",
       "      <td>NC</td>\n",
       "      <td>RENT</td>\n",
       "      <td>4416.67</td>\n",
       "      <td>720-724</td>\n",
       "      <td>13</td>\n",
       "      <td>31828</td>\n",
       "      <td>2.0</td>\n",
       "      <td>3 years</td>\n",
       "    </tr>\n",
       "    <tr>\n",
       "      <th>1019</th>\n",
       "      <td>94092.0</td>\n",
       "      <td>12300</td>\n",
       "      <td>12300</td>\n",
       "      <td>6.03%</td>\n",
       "      <td>36 months</td>\n",
       "      <td>debt_consolidation</td>\n",
       "      <td>7.15%</td>\n",
       "      <td>VA</td>\n",
       "      <td>RENT</td>\n",
       "      <td>6666.67</td>\n",
       "      <td>740-744</td>\n",
       "      <td>10</td>\n",
       "      <td>10976</td>\n",
       "      <td>0.0</td>\n",
       "      <td>10+ years</td>\n",
       "    </tr>\n",
       "    <tr>\n",
       "      <th>815</th>\n",
       "      <td>69027.0</td>\n",
       "      <td>16000</td>\n",
       "      <td>16000</td>\n",
       "      <td>21.98%</td>\n",
       "      <td>60 months</td>\n",
       "      <td>home_improvement</td>\n",
       "      <td>10.99%</td>\n",
       "      <td>IL</td>\n",
       "      <td>MORTGAGE</td>\n",
       "      <td>3466.67</td>\n",
       "      <td>665-669</td>\n",
       "      <td>8</td>\n",
       "      <td>13797</td>\n",
       "      <td>1.0</td>\n",
       "      <td>7 years</td>\n",
       "    </tr>\n",
       "    <tr>\n",
       "      <th>60</th>\n",
       "      <td>10326.0</td>\n",
       "      <td>15400</td>\n",
       "      <td>9458.33</td>\n",
       "      <td>16.32%</td>\n",
       "      <td>60 months</td>\n",
       "      <td>house</td>\n",
       "      <td>15.17%</td>\n",
       "      <td>VA</td>\n",
       "      <td>RENT</td>\n",
       "      <td>6500.00</td>\n",
       "      <td>695-699</td>\n",
       "      <td>11</td>\n",
       "      <td>9989</td>\n",
       "      <td>1.0</td>\n",
       "      <td>4 years</td>\n",
       "    </tr>\n",
       "    <tr>\n",
       "      <th>1217</th>\n",
       "      <td>72589.0</td>\n",
       "      <td>14400</td>\n",
       "      <td>14400</td>\n",
       "      <td>13.11%</td>\n",
       "      <td>36 months</td>\n",
       "      <td>credit_card</td>\n",
       "      <td>10.75%</td>\n",
       "      <td>CA</td>\n",
       "      <td>RENT</td>\n",
       "      <td>5000.00</td>\n",
       "      <td>680-684</td>\n",
       "      <td>13</td>\n",
       "      <td>19772</td>\n",
       "      <td>0.0</td>\n",
       "      <td>8 years</td>\n",
       "    </tr>\n",
       "  </tbody>\n",
       "</table>\n",
       "</div>"
      ],
      "text/plain": [
       "           ID Amount.Requested Amount.Funded.By.Investors Interest.Rate  \\\n",
       "1124    132.0            12375                        275        10.91%   \n",
       "1688  69724.0            35000                      34950        23.76%   \n",
       "1162  57704.0             9000                       9000        15.31%   \n",
       "1616  91669.0            21000                      21000        11.14%   \n",
       "992   51954.0             9550                       9550        10.74%   \n",
       "1089  31004.0            25450                      25425        13.99%   \n",
       "1019  94092.0            12300                      12300         6.03%   \n",
       "815   69027.0            16000                      16000        21.98%   \n",
       "60    10326.0            15400                    9458.33        16.32%   \n",
       "1217  72589.0            14400                      14400        13.11%   \n",
       "\n",
       "     Loan.Length        Loan.Purpose Debt.To.Income.Ratio State  \\\n",
       "1124   36 months      small_business               16.39%    VA   \n",
       "1688   60 months  debt_consolidation               24.22%    NY   \n",
       "1162   36 months         credit_card               15.88%    NY   \n",
       "1616   60 months  debt_consolidation               16.18%    NY   \n",
       "992    36 months  debt_consolidation               14.33%    AL   \n",
       "1089   60 months         credit_card               26.38%    NC   \n",
       "1019   36 months  debt_consolidation                7.15%    VA   \n",
       "815    60 months    home_improvement               10.99%    IL   \n",
       "60     60 months               house               15.17%    VA   \n",
       "1217   36 months         credit_card               10.75%    CA   \n",
       "\n",
       "     Home.Ownership  Monthly.Income FICO.Range Open.CREDIT.Lines  \\\n",
       "1124       MORTGAGE         3892.75    690-694                11   \n",
       "1688           RENT         7331.25    665-669                16   \n",
       "1162           RENT         5000.00    675-679                 7   \n",
       "1616       MORTGAGE         7083.33    705-709                 8   \n",
       "992        MORTGAGE         4000.00    700-704                 8   \n",
       "1089           RENT         4416.67    720-724                13   \n",
       "1019           RENT         6666.67    740-744                10   \n",
       "815        MORTGAGE         3466.67    665-669                 8   \n",
       "60             RENT         6500.00    695-699                11   \n",
       "1217           RENT         5000.00    680-684                13   \n",
       "\n",
       "     Revolving.CREDIT.Balance  Inquiries.in.the.Last.6.Months  \\\n",
       "1124                     8332                             2.0   \n",
       "1688                    28687                             2.0   \n",
       "1162                     4532                             1.0   \n",
       "1616                    22298                             1.0   \n",
       "992                      9128                             0.0   \n",
       "1089                    31828                             2.0   \n",
       "1019                    10976                             0.0   \n",
       "815                     13797                             1.0   \n",
       "60                       9989                             1.0   \n",
       "1217                    19772                             0.0   \n",
       "\n",
       "     Employment.Length  \n",
       "1124           3 years  \n",
       "1688           4 years  \n",
       "1162         10+ years  \n",
       "1616           9 years  \n",
       "992            3 years  \n",
       "1089           3 years  \n",
       "1019         10+ years  \n",
       "815            7 years  \n",
       "60             4 years  \n",
       "1217           8 years  "
      ]
     },
     "execution_count": 4,
     "metadata": {},
     "output_type": "execute_result"
    }
   ],
   "source": [
    "ld_train.sample(10)"
   ]
  },
  {
   "cell_type": "code",
   "execution_count": 5,
   "id": "109b329d",
   "metadata": {},
   "outputs": [
    {
     "name": "stdout",
     "output_type": "stream",
     "text": [
      "<class 'pandas.core.frame.DataFrame'>\n",
      "RangeIndex: 2200 entries, 0 to 2199\n",
      "Data columns (total 15 columns):\n",
      " #   Column                          Non-Null Count  Dtype  \n",
      "---  ------                          --------------  -----  \n",
      " 0   ID                              2199 non-null   float64\n",
      " 1   Amount.Requested                2199 non-null   object \n",
      " 2   Amount.Funded.By.Investors      2199 non-null   object \n",
      " 3   Interest.Rate                   2200 non-null   object \n",
      " 4   Loan.Length                     2199 non-null   object \n",
      " 5   Loan.Purpose                    2199 non-null   object \n",
      " 6   Debt.To.Income.Ratio            2199 non-null   object \n",
      " 7   State                           2199 non-null   object \n",
      " 8   Home.Ownership                  2199 non-null   object \n",
      " 9   Monthly.Income                  2197 non-null   float64\n",
      " 10  FICO.Range                      2200 non-null   object \n",
      " 11  Open.CREDIT.Lines               2196 non-null   object \n",
      " 12  Revolving.CREDIT.Balance        2197 non-null   object \n",
      " 13  Inquiries.in.the.Last.6.Months  2197 non-null   float64\n",
      " 14  Employment.Length               2131 non-null   object \n",
      "dtypes: float64(3), object(12)\n",
      "memory usage: 257.9+ KB\n"
     ]
    }
   ],
   "source": [
    "ld_train.info()"
   ]
  },
  {
   "cell_type": "code",
   "execution_count": 6,
   "id": "9d50043f",
   "metadata": {},
   "outputs": [
    {
     "data": {
      "text/plain": [
       "36 months    1722\n",
       "60 months     476\n",
       "NaN             1\n",
       ".               1\n",
       "Name: Loan.Length, dtype: int64"
      ]
     },
     "execution_count": 6,
     "metadata": {},
     "output_type": "execute_result"
    }
   ],
   "source": [
    "ld_train[\"Loan.Length\"].value_counts(dropna=False)"
   ]
  },
  {
   "cell_type": "code",
   "execution_count": 7,
   "id": "59de78d1",
   "metadata": {},
   "outputs": [],
   "source": [
    "#PYTHON PIPELINE\n",
    "# dont need : ID , Intereste.Rate\n",
    "\n",
    "# Amount requested : V1\n",
    "# Amount.Funded.By.Investors : V2 \n",
    "# Open.CREDIT.Lines : V3\n",
    "# Revolving.CREDIT.Balance : V4\n",
    "\n",
    "# convert it to numeric , and then impute missing values with median\n",
    "\n",
    "# Debt.To.Income.Ratio : V5\n",
    "\n",
    "# remove percentage sign , covert to numeric and then impute with median\n",
    "\n",
    "# Loan.Length ,Loan.Purpose,State,Home.Ownership,Employment.Length\n",
    "# V6-V10\n",
    "# create dummies for these, considering frequency cutoff as 20\n",
    "\n",
    "# Monthly.Income : V11,\n",
    "# Inquiries.in.the.Last.6.Months :V12\n",
    "\n",
    "# impute missing values with median\n",
    "\n",
    "# FICO.Range : V13\n",
    "\n",
    "# split the column at '-', convert the resulting columns to numeric(say a ,b) , \n",
    "# then create new column = (a+b)/2 \n"
   ]
  },
  {
   "cell_type": "code",
   "execution_count": 8,
   "id": "c9179796",
   "metadata": {},
   "outputs": [],
   "source": [
    "# pipe_name=pdPipeline([\n",
    "#     ('name of the process',call to process),\n",
    "#     ('name of the process', call to process),\n",
    "#     .....\n",
    "# ])"
   ]
  },
  {
   "cell_type": "code",
   "execution_count": 9,
   "id": "467c908d",
   "metadata": {},
   "outputs": [],
   "source": [
    "p1=pdPipeline([\n",
    "    ('var_select',VarSelector(['Amount.Requested','Amount.Funded.By.Investors',\n",
    "                               'Open.CREDIT.Lines','Revolving.CREDIT.Balance'])),\n",
    "    ('convert_to_numeric',convert_to_numeric()),\n",
    "    ('missing_trt',DataFrameImputer())\n",
    "])"
   ]
  },
  {
   "cell_type": "code",
   "execution_count": 10,
   "id": "ab53a6a2",
   "metadata": {},
   "outputs": [],
   "source": [
    "p2=pdPipeline([\n",
    "    ('var_select',VarSelector(['Debt.To.Income.Ratio'])),\n",
    "    ('string_clean',string_clean(replace_it='%',replace_with='')),\n",
    "    ('convert_to_numeric',convert_to_numeric()),\n",
    "    ('missing_trt',DataFrameImputer())\n",
    "])"
   ]
  },
  {
   "cell_type": "code",
   "execution_count": 11,
   "id": "147371f6",
   "metadata": {},
   "outputs": [],
   "source": [
    "p3=pdPipeline([\n",
    "    ('var_select',VarSelector(['Loan.Length', 'Loan.Purpose','State','Home.Ownership',\n",
    "                               'Employment.Length'])),\n",
    "    ('missing_trt',DataFrameImputer()),\n",
    "    ('create_dummies',get_dummies_Pipe(20))\n",
    "])"
   ]
  },
  {
   "cell_type": "code",
   "execution_count": 12,
   "id": "e78ad518",
   "metadata": {},
   "outputs": [],
   "source": [
    "p4=pdPipeline([\n",
    "    ('var_select',VarSelector(['Monthly.Income','Inquiries.in.the.Last.6.Months'])),\n",
    "    ('missing_trt',DataFrameImputer())\n",
    "])"
   ]
  },
  {
   "cell_type": "code",
   "execution_count": 13,
   "id": "647e92c4",
   "metadata": {},
   "outputs": [],
   "source": [
    "p5=pdPipeline([\n",
    "    ('var_select',VarSelector(['FICO.Range'])),\n",
    "    ('custom_fico',custom_fico()),\n",
    "    ('missing_trt',DataFrameImputer())\n",
    "])\n"
   ]
  },
  {
   "cell_type": "code",
   "execution_count": 14,
   "id": "5972e857",
   "metadata": {},
   "outputs": [],
   "source": [
    "data_pipe=FeatureUnion([\n",
    "    ('obj_to_num',p1),\n",
    "    ('dtir',p2),\n",
    "    ('obj_to_dum',p3),\n",
    "    ('num',p4),\n",
    "    ('fico',p5)\n",
    "])"
   ]
  },
  {
   "cell_type": "code",
   "execution_count": 15,
   "id": "7e20f9d9",
   "metadata": {},
   "outputs": [
    {
     "data": {
      "text/plain": [
       "FeatureUnion(transformer_list=[('obj_to_num',\n",
       "                                pdPipeline(steps=[('var_select',\n",
       "                                                   VarSelector(feature_names=['Amount.Requested',\n",
       "                                                                              'Amount.Funded.By.Investors',\n",
       "                                                                              'Open.CREDIT.Lines',\n",
       "                                                                              'Revolving.CREDIT.Balance'])),\n",
       "                                                  ('convert_to_numeric',\n",
       "                                                   convert_to_numeric()),\n",
       "                                                  ('missing_trt',\n",
       "                                                   DataFrameImputer())])),\n",
       "                               ('dtir',\n",
       "                                pdPipeline(steps=[('var_select',\n",
       "                                                   VarSelector(feature_names=...\n",
       "                                                  ('create_dummies',\n",
       "                                                   get_dummies_Pipe(freq_cutoff=20))])),\n",
       "                               ('num',\n",
       "                                pdPipeline(steps=[('var_select',\n",
       "                                                   VarSelector(feature_names=['Monthly.Income',\n",
       "                                                                              'Inquiries.in.the.Last.6.Months'])),\n",
       "                                                  ('missing_trt',\n",
       "                                                   DataFrameImputer())])),\n",
       "                               ('fico',\n",
       "                                pdPipeline(steps=[('var_select',\n",
       "                                                   VarSelector(feature_names=['FICO.Range'])),\n",
       "                                                  ('custom_fico',\n",
       "                                                   custom_fico()),\n",
       "                                                  ('missing_trt',\n",
       "                                                   DataFrameImputer())]))])"
      ]
     },
     "execution_count": 15,
     "metadata": {},
     "output_type": "execute_result"
    }
   ],
   "source": [
    "data_pipe.fit(ld_train)"
   ]
  },
  {
   "cell_type": "code",
   "execution_count": 16,
   "id": "15107447",
   "metadata": {},
   "outputs": [
    {
     "data": {
      "text/plain": [
       "61"
      ]
     },
     "execution_count": 16,
     "metadata": {},
     "output_type": "execute_result"
    }
   ],
   "source": [
    "len(data_pipe.get_feature_names())"
   ]
  },
  {
   "cell_type": "code",
   "execution_count": 17,
   "id": "ced2526d",
   "metadata": {},
   "outputs": [
    {
     "data": {
      "text/plain": [
       "(2200, 61)"
      ]
     },
     "execution_count": 17,
     "metadata": {},
     "output_type": "execute_result"
    }
   ],
   "source": [
    "data_pipe.transform(ld_train).shape"
   ]
  },
  {
   "cell_type": "code",
   "execution_count": 18,
   "id": "9a06a659",
   "metadata": {},
   "outputs": [],
   "source": [
    "x_train=pd.DataFrame(data=data_pipe.transform(ld_train),\n",
    "                    columns=data_pipe.get_feature_names())"
   ]
  },
  {
   "cell_type": "code",
   "execution_count": 19,
   "id": "6988ca49",
   "metadata": {},
   "outputs": [],
   "source": [
    "x_test=pd.DataFrame(data=data_pipe.transform(ld_test),\n",
    "                    columns=data_pipe.get_feature_names())"
   ]
  },
  {
   "cell_type": "code",
   "execution_count": 20,
   "id": "3ecdfcaf",
   "metadata": {},
   "outputs": [
    {
     "data": {
      "text/plain": [
       "(2200, 61)"
      ]
     },
     "execution_count": 20,
     "metadata": {},
     "output_type": "execute_result"
    }
   ],
   "source": [
    "x_train.shape"
   ]
  },
  {
   "cell_type": "code",
   "execution_count": 21,
   "id": "017bdc26",
   "metadata": {},
   "outputs": [
    {
     "data": {
      "text/plain": [
       "(300, 61)"
      ]
     },
     "execution_count": 21,
     "metadata": {},
     "output_type": "execute_result"
    }
   ],
   "source": [
    "x_test.shape"
   ]
  },
  {
   "cell_type": "code",
   "execution_count": 22,
   "id": "0fa09f32",
   "metadata": {},
   "outputs": [
    {
     "data": {
      "text/plain": [
       "Index(['obj_to_num__Amount.Requested',\n",
       "       'obj_to_num__Amount.Funded.By.Investors',\n",
       "       'obj_to_num__Open.CREDIT.Lines', 'obj_to_num__Revolving.CREDIT.Balance',\n",
       "       'dtir__Debt.To.Income.Ratio', 'obj_to_dum__Loan.Length_36 months',\n",
       "       'obj_to_dum__Loan.Length_60 months',\n",
       "       'obj_to_dum__Loan.Purpose_debt_consolidation',\n",
       "       'obj_to_dum__Loan.Purpose_credit_card',\n",
       "       'obj_to_dum__Loan.Purpose_other',\n",
       "       'obj_to_dum__Loan.Purpose_home_improvement',\n",
       "       'obj_to_dum__Loan.Purpose_major_purchase',\n",
       "       'obj_to_dum__Loan.Purpose_small_business',\n",
       "       'obj_to_dum__Loan.Purpose_car', 'obj_to_dum__Loan.Purpose_wedding',\n",
       "       'obj_to_dum__Loan.Purpose_medical', 'obj_to_dum__Loan.Purpose_moving',\n",
       "       'obj_to_dum__State_CA', 'obj_to_dum__State_NY', 'obj_to_dum__State_FL',\n",
       "       'obj_to_dum__State_TX', 'obj_to_dum__State_PA', 'obj_to_dum__State_IL',\n",
       "       'obj_to_dum__State_GA', 'obj_to_dum__State_NJ', 'obj_to_dum__State_VA',\n",
       "       'obj_to_dum__State_MA', 'obj_to_dum__State_NC', 'obj_to_dum__State_OH',\n",
       "       'obj_to_dum__State_MD', 'obj_to_dum__State_CO', 'obj_to_dum__State_WA',\n",
       "       'obj_to_dum__State_CT', 'obj_to_dum__State_AZ', 'obj_to_dum__State_MI',\n",
       "       'obj_to_dum__State_AL', 'obj_to_dum__State_MN', 'obj_to_dum__State_MO',\n",
       "       'obj_to_dum__State_NV', 'obj_to_dum__State_SC', 'obj_to_dum__State_WI',\n",
       "       'obj_to_dum__State_OR', 'obj_to_dum__State_KS',\n",
       "       'obj_to_dum__Home.Ownership_MORTGAGE',\n",
       "       'obj_to_dum__Home.Ownership_RENT', 'obj_to_dum__Home.Ownership_OWN',\n",
       "       'obj_to_dum__Employment.Length_10+ years',\n",
       "       'obj_to_dum__Employment.Length_< 1 year',\n",
       "       'obj_to_dum__Employment.Length_2 years',\n",
       "       'obj_to_dum__Employment.Length_3 years',\n",
       "       'obj_to_dum__Employment.Length_5 years',\n",
       "       'obj_to_dum__Employment.Length_4 years',\n",
       "       'obj_to_dum__Employment.Length_1 year',\n",
       "       'obj_to_dum__Employment.Length_6 years',\n",
       "       'obj_to_dum__Employment.Length_7 years',\n",
       "       'obj_to_dum__Employment.Length_8 years',\n",
       "       'obj_to_dum__Employment.Length_missing',\n",
       "       'obj_to_dum__Employment.Length_9 years', 'num__Monthly.Income',\n",
       "       'num__Inquiries.in.the.Last.6.Months', 'fico__fico'],\n",
       "      dtype='object')"
      ]
     },
     "execution_count": 22,
     "metadata": {},
     "output_type": "execute_result"
    }
   ],
   "source": [
    "x_train.columns"
   ]
  },
  {
   "cell_type": "code",
   "execution_count": 23,
   "id": "1a437963",
   "metadata": {},
   "outputs": [
    {
     "data": {
      "text/plain": [
       "Index(['obj_to_num__Amount.Requested',\n",
       "       'obj_to_num__Amount.Funded.By.Investors',\n",
       "       'obj_to_num__Open.CREDIT.Lines', 'obj_to_num__Revolving.CREDIT.Balance',\n",
       "       'dtir__Debt.To.Income.Ratio', 'obj_to_dum__Loan.Length_36 months',\n",
       "       'obj_to_dum__Loan.Length_60 months',\n",
       "       'obj_to_dum__Loan.Purpose_debt_consolidation',\n",
       "       'obj_to_dum__Loan.Purpose_credit_card',\n",
       "       'obj_to_dum__Loan.Purpose_other',\n",
       "       'obj_to_dum__Loan.Purpose_home_improvement',\n",
       "       'obj_to_dum__Loan.Purpose_major_purchase',\n",
       "       'obj_to_dum__Loan.Purpose_small_business',\n",
       "       'obj_to_dum__Loan.Purpose_car', 'obj_to_dum__Loan.Purpose_wedding',\n",
       "       'obj_to_dum__Loan.Purpose_medical', 'obj_to_dum__Loan.Purpose_moving',\n",
       "       'obj_to_dum__State_CA', 'obj_to_dum__State_NY', 'obj_to_dum__State_FL',\n",
       "       'obj_to_dum__State_TX', 'obj_to_dum__State_PA', 'obj_to_dum__State_IL',\n",
       "       'obj_to_dum__State_GA', 'obj_to_dum__State_NJ', 'obj_to_dum__State_VA',\n",
       "       'obj_to_dum__State_MA', 'obj_to_dum__State_NC', 'obj_to_dum__State_OH',\n",
       "       'obj_to_dum__State_MD', 'obj_to_dum__State_CO', 'obj_to_dum__State_WA',\n",
       "       'obj_to_dum__State_CT', 'obj_to_dum__State_AZ', 'obj_to_dum__State_MI',\n",
       "       'obj_to_dum__State_AL', 'obj_to_dum__State_MN', 'obj_to_dum__State_MO',\n",
       "       'obj_to_dum__State_NV', 'obj_to_dum__State_SC', 'obj_to_dum__State_WI',\n",
       "       'obj_to_dum__State_OR', 'obj_to_dum__State_KS',\n",
       "       'obj_to_dum__Home.Ownership_MORTGAGE',\n",
       "       'obj_to_dum__Home.Ownership_RENT', 'obj_to_dum__Home.Ownership_OWN',\n",
       "       'obj_to_dum__Employment.Length_10+ years',\n",
       "       'obj_to_dum__Employment.Length_< 1 year',\n",
       "       'obj_to_dum__Employment.Length_2 years',\n",
       "       'obj_to_dum__Employment.Length_3 years',\n",
       "       'obj_to_dum__Employment.Length_5 years',\n",
       "       'obj_to_dum__Employment.Length_4 years',\n",
       "       'obj_to_dum__Employment.Length_1 year',\n",
       "       'obj_to_dum__Employment.Length_6 years',\n",
       "       'obj_to_dum__Employment.Length_7 years',\n",
       "       'obj_to_dum__Employment.Length_8 years',\n",
       "       'obj_to_dum__Employment.Length_missing',\n",
       "       'obj_to_dum__Employment.Length_9 years', 'num__Monthly.Income',\n",
       "       'num__Inquiries.in.the.Last.6.Months', 'fico__fico'],\n",
       "      dtype='object')"
      ]
     },
     "execution_count": 23,
     "metadata": {},
     "output_type": "execute_result"
    }
   ],
   "source": [
    "x_test.columns"
   ]
  },
  {
   "cell_type": "code",
   "execution_count": 30,
   "id": "66cd2c29",
   "metadata": {},
   "outputs": [
    {
     "data": {
      "text/plain": [
       "0       18.49\n",
       "1       17.27\n",
       "2       14.33\n",
       "3       16.29\n",
       "4       12.23\n",
       "        ...  \n",
       "2195    23.28\n",
       "2196    14.33\n",
       "2197    15.31\n",
       "2198    20.99\n",
       "2199    10.16\n",
       "Name: Interest.Rate, Length: 2200, dtype: float64"
      ]
     },
     "execution_count": 30,
     "metadata": {},
     "output_type": "execute_result"
    }
   ],
   "source": [
    "y_train=ld_train[\"Interest.Rate\"].str.replace('%','').astype(float)\n",
    "y_train\n"
   ]
  },
  {
   "cell_type": "code",
   "execution_count": null,
   "id": "415d84d6",
   "metadata": {},
   "outputs": [],
   "source": [
    "#lINEAR REGRESSION"
   ]
  },
  {
   "cell_type": "code",
   "execution_count": 55,
   "id": "6ca8cdd7",
   "metadata": {},
   "outputs": [],
   "source": [
    "from sklearn.linear_model import LinearRegression\n",
    "from sklearn.model_selection import cross_val_score"
   ]
  },
  {
   "cell_type": "code",
   "execution_count": 56,
   "id": "71283b9b",
   "metadata": {},
   "outputs": [],
   "source": [
    "lm=LinearRegression()"
   ]
  },
  {
   "cell_type": "code",
   "execution_count": 63,
   "id": "da033a3b",
   "metadata": {},
   "outputs": [],
   "source": [
    "cv_mae=cross_val_score(lm,\n",
    "                       x_train,y_train,\n",
    "                      cv=10,\n",
    "                      scoring='neg_mean_absolute_error')"
   ]
  },
  {
   "cell_type": "code",
   "execution_count": 64,
   "id": "59043bc6",
   "metadata": {},
   "outputs": [
    {
     "data": {
      "text/plain": [
       "-1.6090335977701393"
      ]
     },
     "execution_count": 64,
     "metadata": {},
     "output_type": "execute_result"
    }
   ],
   "source": [
    "cv_mae.mean()"
   ]
  },
  {
   "cell_type": "code",
   "execution_count": 65,
   "id": "d57dc814",
   "metadata": {},
   "outputs": [
    {
     "data": {
      "text/plain": [
       "0.10727891352839572"
      ]
     },
     "execution_count": 65,
     "metadata": {},
     "output_type": "execute_result"
    }
   ],
   "source": [
    "cv_mae.std()"
   ]
  },
  {
   "cell_type": "code",
   "execution_count": 66,
   "id": "28f774fb",
   "metadata": {},
   "outputs": [
    {
     "data": {
      "text/plain": [
       "LinearRegression()"
      ]
     },
     "execution_count": 66,
     "metadata": {},
     "output_type": "execute_result"
    }
   ],
   "source": [
    "lm.fit(x_train,y_train)"
   ]
  },
  {
   "cell_type": "code",
   "execution_count": 67,
   "id": "a481642f",
   "metadata": {},
   "outputs": [
    {
     "data": {
      "text/plain": [
       "73.04434562219876"
      ]
     },
     "execution_count": 67,
     "metadata": {},
     "output_type": "execute_result"
    }
   ],
   "source": [
    "lm.intercept_"
   ]
  },
  {
   "cell_type": "code",
   "execution_count": 70,
   "id": "431eb1d7",
   "metadata": {},
   "outputs": [
    {
     "data": {
      "text/plain": [
       "array([ 4.91097030e-05,  1.17248161e-04, -3.68040758e-02, -1.56708629e-06,\n",
       "       -2.15893596e-03,  1.34580901e+00,  4.50164361e+00, -7.95558356e-01,\n",
       "       -8.95023654e-01,  3.44101687e-02, -5.64961402e-01, -4.19770245e-01,\n",
       "       -2.17767837e-01, -5.23497566e-01, -9.50935735e-01, -6.24582154e-01,\n",
       "        7.10393367e-01, -1.89572262e-01, -1.62077703e-01, -3.83963386e-02,\n",
       "        4.72213317e-01, -4.71219583e-01, -5.97883907e-01, -1.29119794e-01,\n",
       "       -3.48019912e-01, -1.62412357e-01, -1.25628925e-01, -5.28670226e-01,\n",
       "       -1.82785269e-01, -1.03168025e-01,  6.76024766e-02, -2.83418474e-01,\n",
       "        4.29922908e-01,  3.89627629e-01, -1.00830778e-01,  1.19526588e-02,\n",
       "       -1.56274811e-01, -2.72330672e-01, -2.18141242e-01, -4.78253620e-02,\n",
       "       -1.13933823e-03,  1.70071492e-02,  2.44919285e-01, -2.43088247e+00,\n",
       "       -2.20441699e+00, -2.07656326e+00,  5.52107009e-01,  3.97105772e-01,\n",
       "        3.52590264e-01,  1.87782877e-01,  6.29124556e-01,  4.61856956e-01,\n",
       "        3.18842170e-01,  4.19390181e-01,  3.92022990e-01,  3.06462451e-01,\n",
       "        6.26008840e-01,  7.43679582e-02, -2.92679476e-05,  3.67540638e-01,\n",
       "       -8.63639330e-02])"
      ]
     },
     "execution_count": 70,
     "metadata": {},
     "output_type": "execute_result"
    }
   ],
   "source": [
    "lm.coef_"
   ]
  },
  {
   "cell_type": "code",
   "execution_count": 71,
   "id": "f8143781",
   "metadata": {},
   "outputs": [
    {
     "data": {
      "text/plain": [
       "[('obj_to_num__Amount.Requested', 4.9109702984035364e-05),\n",
       " ('obj_to_num__Amount.Funded.By.Investors', 0.00011724816069084552),\n",
       " ('obj_to_num__Open.CREDIT.Lines', -0.036804075833552975),\n",
       " ('obj_to_num__Revolving.CREDIT.Balance', -1.5670862899668783e-06),\n",
       " ('dtir__Debt.To.Income.Ratio', -0.002158935955780393),\n",
       " ('obj_to_dum__Loan.Length_36 months', 1.3458090091741697),\n",
       " ('obj_to_dum__Loan.Length_60 months', 4.501643614256357),\n",
       " ('obj_to_dum__Loan.Purpose_debt_consolidation', -0.7955583555394746),\n",
       " ('obj_to_dum__Loan.Purpose_credit_card', -0.895023654478015),\n",
       " ('obj_to_dum__Loan.Purpose_other', 0.034410168683323306),\n",
       " ('obj_to_dum__Loan.Purpose_home_improvement', -0.564961402019623),\n",
       " ('obj_to_dum__Loan.Purpose_major_purchase', -0.41977024469914437),\n",
       " ('obj_to_dum__Loan.Purpose_small_business', -0.21776783697196683),\n",
       " ('obj_to_dum__Loan.Purpose_car', -0.5234975663282307),\n",
       " ('obj_to_dum__Loan.Purpose_wedding', -0.950935734592282),\n",
       " ('obj_to_dum__Loan.Purpose_medical', -0.6245821540786641),\n",
       " ('obj_to_dum__Loan.Purpose_moving', 0.710393367490317),\n",
       " ('obj_to_dum__State_CA', -0.18957226205809802),\n",
       " ('obj_to_dum__State_NY', -0.1620777034372871),\n",
       " ('obj_to_dum__State_FL', -0.03839633861103106),\n",
       " ('obj_to_dum__State_TX', 0.47221331686185813),\n",
       " ('obj_to_dum__State_PA', -0.47121958251712265),\n",
       " ('obj_to_dum__State_IL', -0.5978839069831284),\n",
       " ('obj_to_dum__State_GA', -0.12911979392597367),\n",
       " ('obj_to_dum__State_NJ', -0.3480199124901643),\n",
       " ('obj_to_dum__State_VA', -0.16241235654362168),\n",
       " ('obj_to_dum__State_MA', -0.1256289249920723),\n",
       " ('obj_to_dum__State_NC', -0.5286702260063048),\n",
       " ('obj_to_dum__State_OH', -0.18278526913809673),\n",
       " ('obj_to_dum__State_MD', -0.10316802476551538),\n",
       " ('obj_to_dum__State_CO', 0.0676024766405008),\n",
       " ('obj_to_dum__State_WA', -0.28341847413330556),\n",
       " ('obj_to_dum__State_CT', 0.42992290766345415),\n",
       " ('obj_to_dum__State_AZ', 0.3896276285200762),\n",
       " ('obj_to_dum__State_MI', -0.10083077842576564),\n",
       " ('obj_to_dum__State_AL', 0.011952658834877283),\n",
       " ('obj_to_dum__State_MN', -0.15627481061163873),\n",
       " ('obj_to_dum__State_MO', -0.27233067196652555),\n",
       " ('obj_to_dum__State_NV', -0.21814124205218258),\n",
       " ('obj_to_dum__State_SC', -0.04782536199148327),\n",
       " ('obj_to_dum__State_WI', -0.0011393382284790449),\n",
       " ('obj_to_dum__State_OR', 0.01700714917806894),\n",
       " ('obj_to_dum__State_KS', 0.24491928456654688),\n",
       " ('obj_to_dum__Home.Ownership_MORTGAGE', -2.430882469677254),\n",
       " ('obj_to_dum__Home.Ownership_RENT', -2.2044169915422422),\n",
       " ('obj_to_dum__Home.Ownership_OWN', -2.0765632645708187),\n",
       " ('obj_to_dum__Employment.Length_10+ years', 0.5521070091150336),\n",
       " ('obj_to_dum__Employment.Length_< 1 year', 0.39710577220354554),\n",
       " ('obj_to_dum__Employment.Length_2 years', 0.35259026366579915),\n",
       " ('obj_to_dum__Employment.Length_3 years', 0.18778287716522096),\n",
       " ('obj_to_dum__Employment.Length_5 years', 0.6291245562265259),\n",
       " ('obj_to_dum__Employment.Length_4 years', 0.4618569557512171),\n",
       " ('obj_to_dum__Employment.Length_1 year', 0.3188421701169967),\n",
       " ('obj_to_dum__Employment.Length_6 years', 0.41939018077967877),\n",
       " ('obj_to_dum__Employment.Length_7 years', 0.39202298964656257),\n",
       " ('obj_to_dum__Employment.Length_8 years', 0.30646245087895385),\n",
       " ('obj_to_dum__Employment.Length_missing', 0.626008840488153),\n",
       " ('obj_to_dum__Employment.Length_9 years', 0.07436795823955869),\n",
       " ('num__Monthly.Income', -2.9267947634248337e-05),\n",
       " ('num__Inquiries.in.the.Last.6.Months', 0.3675406378451791),\n",
       " ('fico__fico', -0.08636393304679135)]"
      ]
     },
     "execution_count": 71,
     "metadata": {},
     "output_type": "execute_result"
    }
   ],
   "source": [
    "list(zip(x_train.columns, lm.coef_))"
   ]
  },
  {
   "cell_type": "code",
   "execution_count": 74,
   "id": "617d1815",
   "metadata": {},
   "outputs": [
    {
     "data": {
      "text/plain": [
       "array([16.70799585, 16.00832441, 10.33709785,  3.69116239, 15.24991944,\n",
       "        7.64043694, 15.56010771, 10.65005028, 15.941686  , 12.40783892,\n",
       "       10.07271324, 15.2280325 , 11.67477637, 13.63967139, 13.43076211,\n",
       "       18.39083847, 10.26336433, 15.77026142, 13.49390545, 14.02604258,\n",
       "       22.56736997, 17.43996629, 12.41267037, 14.65336533,  9.64344848,\n",
       "       11.39958837, 13.30956956, 19.1182746 , 11.81628241, 16.79747458,\n",
       "       15.19456707, 15.27420913, 12.36477469, 14.97510221, 13.86521163,\n",
       "       14.08348195, 19.65313081, 11.31657445, 12.01385911, 16.9033149 ,\n",
       "       14.07985435, 11.15670313, 15.00538815, 13.26128284, 15.53903097,\n",
       "       17.16549476, 14.90394046, 18.85806411, 17.14613739, 10.40842271,\n",
       "       13.3464016 , 19.82461581, 10.04729388, 19.57442289, 15.76637987,\n",
       "       15.31454435, 17.17119236, 14.60583533, 10.94554408, 14.60716935,\n",
       "       13.10262133, 17.22715423,  8.84894718, 14.74112233, 10.01636322,\n",
       "       11.42004752, 12.84835679, 14.9071138 , 11.24916667, 14.43670798,\n",
       "       14.5991955 , 17.34005893, 20.85226777, 19.66476252, 13.32822907,\n",
       "       17.0413302 , 11.32743557, 10.10315074, 16.54076843,  6.95935782,\n",
       "       15.96897123, 10.25776271,  9.58929357, 12.93128628, 14.10355535,\n",
       "        9.00386291,  9.33812421, 13.85854239,  8.62410818, 11.61511138,\n",
       "       11.91586872, 17.05297035, 13.46857696, 18.01488456, 14.29862669,\n",
       "       10.34763671, 10.32947853, 17.2767452 , 17.07338943, 13.62907602,\n",
       "       15.10451148, 13.56565438, 15.31614972, 14.08494246, 13.63722223,\n",
       "       12.40385551,  8.85263894, 11.98053868, 10.95069802, 14.0259638 ,\n",
       "       11.74717287, 20.50401786,  7.38849116, 16.97400049, 15.67461116,\n",
       "        6.61662878, 13.31470893, 14.30681354, 15.07441512,  9.32730407,\n",
       "       16.15987325, 14.23026977,  9.06773693, 11.82856522, 17.42801802,\n",
       "       15.96850259,  8.53550009, 18.52976749,  3.42793488, 12.19854599,\n",
       "       13.77966921, 13.31625999,  9.8848724 , 13.91010729, 18.60960056,\n",
       "       14.3721004 , 15.61087832, 13.34065395, 13.14510838,  9.53166282,\n",
       "       14.10311838, 14.55573334, 11.78262948, 11.56726161,  9.88080806,\n",
       "       17.05837326, 12.01847375, 10.5588568 ,  7.93558125,  9.72411222,\n",
       "       11.40846115, 13.82728443, 10.40720349,  7.69441752, 14.06474631,\n",
       "       11.99422402, 11.33294758,  7.87514484, 14.60207057, 14.74628032,\n",
       "       14.18563713,  7.07532415, 15.11443073, 18.09260534, 15.39923213,\n",
       "       16.04668734, 14.69970588, 10.08587445, 13.43160847, 16.78723595,\n",
       "       14.68107236, 12.95077835,  6.58608636, 13.15666842, 10.30869673,\n",
       "       10.5400058 , 11.18950582,  8.81234423,  9.76224368, 11.53764624,\n",
       "       12.85904809, 14.4999749 , 10.3506837 , 13.32352491, 11.03294175,\n",
       "       13.88995918,  8.49343684, 18.22768013, 13.58719599,  9.51146328,\n",
       "        7.71273462, 11.50725925, 16.05883433, 15.47861496, 15.18299484,\n",
       "       18.06191708,  9.17173706, 19.05497063,  5.22886474, 13.71722615,\n",
       "       14.61179157, 12.72356138, 18.35810136, 16.79786199,  4.83218888,\n",
       "       15.55231211, 15.59781612, 19.66277324, 16.65175451,  8.77967023,\n",
       "       14.64908193, 11.4436068 , 11.26297808, 14.6175546 , 10.84707702,\n",
       "       12.35931999, 13.33056901, 20.85510196, 13.8481784 ,  6.51791405,\n",
       "        5.74555829,  9.3965343 , 17.95216666, 11.43072068, 15.88936596,\n",
       "       14.75021119, 11.88460801, 11.66497672, 12.27184201, 10.69145121,\n",
       "       11.72973634, 14.82350432, 12.71844136, 16.09567198,  7.70247895,\n",
       "       11.3524924 , 13.39218409, 10.69748138,  5.08383568, 20.06430464,\n",
       "       14.10770277, 19.83778251,  7.9097233 , 20.92580744, 12.81709229,\n",
       "       12.20611443, 20.18617465,  8.85908208,  7.99673981, 12.9762753 ,\n",
       "       16.12078413, 14.06582308, 10.79550882, 14.10973992, 15.13836515,\n",
       "       19.21126561, 11.24790185,  7.94596322, 12.48127867, 18.18311244,\n",
       "       16.33177897, 13.18548167, 18.47471897,  7.50203578, 20.0712394 ,\n",
       "        8.27218108, 15.92711265, 10.57720049,  4.58155309, 14.94022954,\n",
       "       13.49945303, 13.30146019,  6.77111453,  9.35596612, 10.0234887 ,\n",
       "        6.56341147, 14.20185156, 13.70985593, 11.16023829, 14.89606426,\n",
       "       16.85501312, 20.44100922, 16.54206443, 14.40465125, 15.97684106,\n",
       "        8.28295486, 12.83687793, 13.57534125, 10.52517728, 11.76899574,\n",
       "       14.65251835, 10.16383918, 14.43252261,  9.50951733,  7.09137208,\n",
       "       15.89204934, 11.12132843, 14.49975762, 17.92665665, 12.96291028])"
      ]
     },
     "execution_count": 74,
     "metadata": {},
     "output_type": "execute_result"
    }
   ],
   "source": [
    "test_predict=lm.predict(x_test)\n",
    "test_predict"
   ]
  },
  {
   "cell_type": "code",
   "execution_count": 75,
   "id": "37fb316f",
   "metadata": {},
   "outputs": [],
   "source": [
    "pd.DataFrame(test_predict).to_csv(\"result1.csv\",index=False)\n"
   ]
  },
  {
   "cell_type": "code",
   "execution_count": 76,
   "id": "f31c6c86",
   "metadata": {},
   "outputs": [
    {
     "data": {
      "text/plain": [
       "'E:\\\\IIT-K\\\\Linear-Regression-Model-Loan'"
      ]
     },
     "execution_count": 76,
     "metadata": {},
     "output_type": "execute_result"
    }
   ],
   "source": [
    "import os\n",
    "os.getcwd()"
   ]
  },
  {
   "cell_type": "code",
   "execution_count": null,
   "id": "6c8ced3f",
   "metadata": {},
   "outputs": [],
   "source": []
  }
 ],
 "metadata": {
  "kernelspec": {
   "display_name": "Python 3 (ipykernel)",
   "language": "python",
   "name": "python3"
  },
  "language_info": {
   "codemirror_mode": {
    "name": "ipython",
    "version": 3
   },
   "file_extension": ".py",
   "mimetype": "text/x-python",
   "name": "python",
   "nbconvert_exporter": "python",
   "pygments_lexer": "ipython3",
   "version": "3.8.12"
  }
 },
 "nbformat": 4,
 "nbformat_minor": 5
}
